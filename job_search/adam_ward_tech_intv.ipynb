{
 "cells": [
  {
   "cell_type": "code",
   "execution_count": 2,
   "metadata": {
    "executionInfo": {
     "elapsed": 801,
     "status": "ok",
     "timestamp": 1755285507394,
     "user": {
      "displayName": "Adam Ward",
      "userId": "12643157694774148966"
     },
     "user_tz": 360
    },
    "id": "jOLkrs2tNlm0"
   },
   "outputs": [],
   "source": [
    "import pandas as pd\n",
    "sales_data = pd.read_csv(\"https://raw.githubusercontent.com/bradyprice19/Intern-technical/refs/heads/main/sales_data.csv\")\n",
    "titanic = pd.read_csv(\"https://raw.githubusercontent.com/bradyprice19/Intern-technical/refs/heads/main/titanic_long_format.csv\")"
   ]
  },
  {
   "cell_type": "markdown",
   "metadata": {
    "id": "_nPT39B9OD4J"
   },
   "source": [
    "# 1. Write SQL code to answer this question - Rank Products by Revenue. Please use sales_data"
   ]
  },
  {
   "cell_type": "code",
   "execution_count": 17,
   "metadata": {
    "colab": {
     "base_uri": "https://localhost:8080/"
    },
    "executionInfo": {
     "elapsed": 17,
     "status": "ok",
     "timestamp": 1755286329329,
     "user": {
      "displayName": "Adam Ward",
      "userId": "12643157694774148966"
     },
     "user_tz": 360
    },
    "id": "VLdi5qDKOo3R",
    "outputId": "da61f1e3-4cdb-45ec-9da3-43ace748e33a"
   },
   "outputs": [
    {
     "name": "stdout",
     "output_type": "stream",
     "text": [
      "   sale_id  product_id sale_date  quantity  price\n",
      "0        1         101  1/1/2025         2     50\n",
      "1        2         102  1/1/2025         1     30\n",
      "2        3         101  1/2/2025         1     50\n",
      "3        4         103  1/2/2025         3     20\n",
      "4        5         101  1/3/2025         4     50\n"
     ]
    }
   ],
   "source": [
    "import sqlite3\n",
    "connection = sqlite3.connect(':memory:')\n",
    "# Save the DataFrame to an SQLite table\n",
    "sales_data.to_sql('sales_data', connection, index=False, if_exists='replace')\n",
    "\n",
    "query = \"SELECT * FROM sales_data\"\n",
    "result = pd.read_sql_query(query, connection)\n",
    "\n",
    "print(result.head())\n"
   ]
  },
  {
   "cell_type": "code",
   "execution_count": 26,
   "metadata": {
    "colab": {
     "base_uri": "https://localhost:8080/",
     "height": 472
    },
    "executionInfo": {
     "elapsed": 195,
     "status": "ok",
     "timestamp": 1755286508725,
     "user": {
      "displayName": "Adam Ward",
      "userId": "12643157694774148966"
     },
     "user_tz": 360
    },
    "id": "0t40jRFGP-9y",
    "outputId": "3d7c5754-8f3c-4955-a13e-74f2684b0efe"
   },
   "outputs": [
    {
     "data": {
      "image/png": "[encoded data removed]",
      "text/plain": [
       "<Figure size 640x480 with 1 Axes>"
      ]
     },
     "metadata": {},
     "output_type": "display_data"
    }
   ],
   "source": [
    "from matplotlib import pyplot as plt\n",
    "###########################\n",
    "# Your answer goes below\n",
    "# q * p = R\n",
    "# group revenue by product id\n",
    "# Print that result\n",
    "# query = \"\"\"SELECT product_id, quantity * price\n",
    "#             FROM sales_data\n",
    "#             GROUP BY product_id,\n",
    "#             ORDER BY r DESC;\"\"\"\n",
    "query = \"\"\"SELECT product_id as Product_ID, quantity * price as Revenue\n",
    "            FROM sales_data\n",
    "            GROUP BY product_id\n",
    "            ORDER BY Revenue DESC;\"\"\"\n",
    "result = pd.read_sql_query(query, connection)\n",
    "\n",
    "# Display the result\n",
    "result.plot(kind='barh', y='Revenue', x='Product_ID', xlabel=\"Total Revenue ($)\")\n",
    "plt.title(\"Revenue by Product\")\n",
    "plt.show()\n",
    "\n",
    "###########################"
   ]
  },
  {
   "cell_type": "code",
   "execution_count": 15,
   "metadata": {
    "executionInfo": {
     "elapsed": 4,
     "status": "ok",
     "timestamp": 1755286273523,
     "user": {
      "displayName": "Adam Ward",
      "userId": "12643157694774148966"
     },
     "user_tz": 360
    },
    "id": "X0QEUaUyQFWh"
   },
   "outputs": [],
   "source": [
    "connection.close()"
   ]
  },
  {
   "cell_type": "markdown",
   "metadata": {
    "id": "rNAEl3gWOwiI"
   },
   "source": [
    "# 2. Use Python for this question - Help prepare our titanic dataset for machine learning."
   ]
  },
  {
   "cell_type": "code",
   "execution_count": 22,
   "metadata": {
    "colab": {
     "base_uri": "https://localhost:8080/"
    },
    "executionInfo": {
     "elapsed": 23,
     "status": "ok",
     "timestamp": 1755287062427,
     "user": {
      "displayName": "Adam Ward",
      "userId": "12643157694774148966"
     },
     "user_tz": 360
    },
    "id": "sw1pI_fhQ_xk",
    "outputId": "8d8da21e-3486-4b23-9945-4dc26ba7b7dc"
   },
   "outputs": [
    {
     "name": "stdout",
     "output_type": "stream",
     "text": [
      "Index(['PassengerId', 'Name', 'Attribute', 'Value'], dtype='object')\n",
      "Index(['Age', 'Sex', 'Pclass', 'Fare', 'Cabin', 'Survived', 'SibSp', 'Parch',\n",
      "       'Embarked', 'Ticket'],\n",
      "      dtype='object', name='Attribute')\n"
     ]
    },
    {
     "data": {
      "text/plain": [
       "PassengerId      0\n",
       "Name             0\n",
       "Age            177\n",
       "Sex              0\n",
       "Pclass           0\n",
       "Fare             0\n",
       "Cabin          687\n",
       "Survived         0\n",
       "SibSp            0\n",
       "Parch            0\n",
       "Embarked         2\n",
       "Ticket           0\n",
       "dtype: int64"
      ]
     },
     "execution_count": 22,
     "metadata": {},
     "output_type": "execute_result"
    }
   ],
   "source": [
    "###########################\n",
    "# Your answer goes below\n",
    "\n",
    "###########################\n",
    "\n",
    "# We need to split the dataframe into 10 pieces by each attribute in the attribute column.\n",
    "# Then concatenate the dataframes together along the passenger Id so that the attributes are associated with each passenger\n",
    "\n",
    "# explore the data\n",
    "print(titanic.columns)\n",
    "titanic['Attribute'].value_counts()\n",
    "attributes = titanic['Attribute'].value_counts().index\n",
    "print(attributes)\n",
    "\n",
    "\n",
    "# next would be to loop through the attributes, obtain dataframes of just the data for each, and then concatenate along passenger ID\n",
    "# then data cleaning\n",
    "new_data = {att:[] for att in [\"PassengerId\", \"Name\"] + list(attributes)}\n",
    "groups = titanic.groupby(\"PassengerId\")\n",
    "for i in range(1, max(titanic[\"PassengerId\"]) + 1):\n",
    "    curr_group = groups.get_group(i)\n",
    "\n",
    "    # create the new row for the individual with all of their information\n",
    "    new_data[\"PassengerId\"].append(i)\n",
    "    new_data[\"Name\"].append(curr_group[\"Name\"].iloc[0])\n",
    "\n",
    "    for att in attributes:\n",
    "        new_data[att].append(curr_group[\"Value\"].values[curr_group[\"Attribute\"] == att][0])\n",
    "\n",
    "ml_titanic = pd.DataFrame(new_data)\n",
    "\n",
    "# drop columns that would not be helpful for machine learning\n",
    "ml_titanic.drop(columns=[\"Ticket\"])\n",
    "ml_titanic.isna().sum()"
   ]
  },
  {
   "cell_type": "code",
   "execution_count": null,
   "metadata": {
    "id": "OdjFeyziQkU5"
   },
   "outputs": [],
   "source": []
  }
 ],
 "metadata": {
  "colab": {
   "provenance": [
    {
     "file_id": "1Rbh7Yx5jeFJjzAzrDY_IlMtjGR0vHPDh",
     "timestamp": 1755284479318
    }
   ]
  },
  "kernelspec": {
   "display_name": "Python 3",
   "name": "python3"
  },
  "language_info": {
   "codemirror_mode": {
    "name": "ipython",
    "version": 3
   },
   "file_extension": ".py",
   "mimetype": "text/x-python",
   "name": "python",
   "nbconvert_exporter": "python",
   "pygments_lexer": "ipython3",
   "version": "3.10.12"
  }
 },
 "nbformat": 4,
 "nbformat_minor": 0
}
