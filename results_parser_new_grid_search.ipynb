{
 "cells": [
  {
   "cell_type": "code",
   "execution_count": 4,
   "metadata": {},
   "outputs": [],
   "source": [
    "# !pip install plotly\n",
    "# !pip install -U kaleido"
   ]
  },
  {
   "cell_type": "code",
   "execution_count": 5,
   "metadata": {},
   "outputs": [],
   "source": [
    "import glob\n",
    "import numpy as np\n",
    "import pandas as pd\n",
    "import plotly.express as px\n",
    "import plotly.io as pio"
   ]
  },
  {
   "cell_type": "markdown",
   "metadata": {},
   "source": [
    "Hi Matthew, I didn't get vary far because I hit some snags:\n",
    "- For some reason we have zero `False` entries in the accuracies_df for neither the filter_train_set column or the filter_val_set column\n",
    "    - This is a a problem because we need this info to create a new col for \"baseline accuracy\", \"major accuracy\", \"minor \"accuracy\"\n",
    "    - If we can't get this then we can't make our table \n",
    "    - However, if you do find something wrong in my code that is forcing all `False`s to `True` then we can make it\n",
    "- If we can do that then create a multi-index on the `t_prior` and `e_prior`\n",
    "    - If you do this I am not entirely sure that you will even need to do the max on the columns because ease multi-index `(t_prior, e_prior)` pair should only have one value for \"baseline accuracy\", \"major accuracy\", \"minor \"accuracy\"\n",
    "- Serioursly let me know if you have questions"
   ]
  },
  {
   "cell_type": "code",
   "execution_count": null,
   "metadata": {},
   "outputs": [],
   "source": [
    "# Create the dictionary for the dataframe\n",
    "files = glob.glob('./grid_search/*.txt')\n",
    "accuracies_list = []\n",
    "\n",
    "# Go through all the files\n",
    "for file in files:\n",
    "    with open(file) as f:\n",
    "        data_point = {}\n",
    "        for line in f:\n",
    "\n",
    "            # stop if we run into the line that starts the predicted states print\n",
    "            if '~' not in line:\n",
    "                if line == '\\n':\n",
    "                    pass\n",
    "                else:\n",
    "                    # save the params for this point\n",
    "                    info = line.strip('\\n').split(': ')\n",
    "                    data_point[f'{info[0]}']= f'{info[1]}'\n",
    "            else:\n",
    "                break\n",
    "        accuracies_list.append(data_point)"
   ]
  },
  {
   "cell_type": "code",
   "execution_count": 21,
   "metadata": {},
   "outputs": [
    {
     "data": {
      "text/plain": [
       "filter_train_set\n",
       "True    557\n",
       "Name: count, dtype: int64"
      ]
     },
     "execution_count": 21,
     "metadata": {},
     "output_type": "execute_result"
    }
   ],
   "source": [
    "accuracies_df = pd.DataFrame(accuracies_list)\n",
    "accuracies_df['Accuracy'] = accuracies_df['Accuracy'].astype(float).round(4)\n",
    "\n",
    "new_df = accuracies_df.loc[accuracies_df['keys'].isin(['All', 'major', 'minor'])]\n",
    "new_df['filter_train_set'].value_counts()"
   ]
  },
  {
   "cell_type": "code",
   "execution_count": 22,
   "metadata": {},
   "outputs": [
    {
     "data": {
      "text/plain": [
       "keys\n",
       "All           439\n",
       "dorian         80\n",
       "mixolydian     80\n",
       "lydian         78\n",
       "phrygian       76\n",
       "minor          68\n",
       "major          50\n",
       "Name: count, dtype: int64"
      ]
     },
     "execution_count": 22,
     "metadata": {},
     "output_type": "execute_result"
    }
   ],
   "source": [
    "accuracies_df['keys'].value_counts()"
   ]
  },
  {
   "cell_type": "code",
   "execution_count": 18,
   "metadata": {},
   "outputs": [
    {
     "data": {
      "text/plain": [
       "filter_train_set\n",
       "True    871\n",
       "Name: count, dtype: int64"
      ]
     },
     "execution_count": 18,
     "metadata": {},
     "output_type": "execute_result"
    }
   ],
   "source": [
    "accuracies_df['filter_train_set'].value_counts()"
   ]
  },
  {
   "cell_type": "code",
   "execution_count": 20,
   "metadata": {},
   "outputs": [
    {
     "data": {
      "text/plain": [
       "filter_val_set\n",
       "True    871\n",
       "Name: count, dtype: int64"
      ]
     },
     "execution_count": 20,
     "metadata": {},
     "output_type": "execute_result"
    }
   ],
   "source": [
    "accuracies_df['filter_val_set'].value_counts()"
   ]
  },
  {
   "cell_type": "code",
   "execution_count": null,
   "metadata": {},
   "outputs": [],
   "source": [
    "fig = px.scatter_3d(accuracies_df, \n",
    "              x='n_chords', \n",
    "              y='n_melody', \n",
    "              z='Accuracy',\n",
    "              height=800,)\n",
    "fig.update_xaxes(type='category')\n",
    "fig.update_yaxes(type='category')\n",
    "fig.show()"
   ]
  },
  {
   "cell_type": "code",
   "execution_count": 6,
   "metadata": {},
   "outputs": [
    {
     "name": "stdout",
     "output_type": "stream",
     "text": [
      "['0.0', '7.5', '15.0', '20.0', '22.5', '30.0', '50.0', '90.0', '160.0', '230.0', '300.0', '1037.5', '2025.0', '3012.5', '4000.0']\n",
      "<class 'str'>\n",
      "['0.0', '7.5', '15.0', '22.5', '30.0', '50.0', '75.0', '150.0', '225.0', '300.0', '1037.5', '2025.0', '3012.5', '4000.0']\n",
      "<class 'str'>\n"
     ]
    }
   ],
   "source": [
    "t_prior_labels = accuracies_df['t_prior'].astype(float).value_counts().sort_index().astype(str).index.astype(str).to_list()\n",
    "e_prior_labels = accuracies_df['e_prior'].astype(float).value_counts().sort_index().astype(str).index.astype(str).to_list()\n",
    "print(t_prior_labels)\n",
    "print(type(t_prior_labels[0]))\n",
    "print(e_prior_labels)\n",
    "print(type(e_prior_labels[0]))"
   ]
  },
  {
   "cell_type": "code",
   "execution_count": null,
   "metadata": {},
   "outputs": [],
   "source": []
  },
  {
   "cell_type": "code",
   "execution_count": null,
   "metadata": {},
   "outputs": [],
   "source": [
    "px.scatter_3d(accuracies_df, \n",
    "              x='t_prior', \n",
    "              y='e_prior', \n",
    "              z='Accuracy',\n",
    "              hover_name='Accuracy',\n",
    "              hover_data=['t_prior', \n",
    "                          'e_prior', \n",
    "                          'n_chords',\n",
    "                          'n_melody'],\n",
    "              category_orders={'t_prior': t_prior_labels,\n",
    "                               'e_prior':e_prior_labels},\n",
    "              height=800)"
   ]
  },
  {
   "cell_type": "code",
   "execution_count": 75,
   "metadata": {},
   "outputs": [
    {
     "data": {
      "application/vnd.plotly.v1+json": {
       "config": {
        "plotlyServerURL": "https://plot.ly"
       },
       "data": [
        {
         "customdata": [
          [
           "1",
           "0"
          ],
          [
           "2",
           "0"
          ],
          [
           "1",
           "0"
          ],
          [
           "1",
           "1"
          ],
          [
           "2",
           "0"
          ],
          [
           "1",
           "0"
          ],
          [
           "2",
           "0"
          ],
          [
           "2",
           "0"
          ],
          [
           "2",
           "0"
          ],
          [
           "1",
           "0"
          ],
          [
           "2",
           "0"
          ],
          [
           "1",
           "1"
          ],
          [
           "1",
           "1"
          ],
          [
           "1",
           "1"
          ],
          [
           "2",
           "0"
          ],
          [
           "2",
           "0"
          ],
          [
           "1",
           "0"
          ],
          [
           "1",
           "1"
          ],
          [
           "2",
           "0"
          ],
          [
           "2",
           "0"
          ],
          [
           "2",
           "0"
          ],
          [
           "2",
           "0"
          ],
          [
           "2",
           "0"
          ],
          [
           "1",
           "1"
          ],
          [
           "1",
           "1"
          ],
          [
           "2",
           "0"
          ],
          [
           "2",
           "0"
          ],
          [
           "1",
           "0"
          ],
          [
           "1",
           "1"
          ],
          [
           "1",
           "1"
          ],
          [
           "1",
           "0"
          ],
          [
           "1",
           "1"
          ],
          [
           "2",
           "0"
          ],
          [
           "1",
           "0"
          ],
          [
           "2",
           "0"
          ],
          [
           "1",
           "1"
          ],
          [
           "2",
           "0"
          ],
          [
           "1",
           "0"
          ],
          [
           "1",
           "0"
          ],
          [
           "1",
           "1"
          ],
          [
           "1",
           "0"
          ],
          [
           "1",
           "1"
          ],
          [
           "1",
           "0"
          ],
          [
           "1",
           "0"
          ],
          [
           "1",
           "0"
          ],
          [
           "1",
           "1"
          ],
          [
           "1",
           "0"
          ],
          [
           "1",
           "0"
          ],
          [
           "1",
           "1"
          ],
          [
           "1",
           "0"
          ],
          [
           "1",
           "1"
          ],
          [
           "2",
           "0"
          ],
          [
           "2",
           "0"
          ],
          [
           "1",
           "1"
          ],
          [
           "1",
           "0"
          ],
          [
           "1",
           "0"
          ],
          [
           "2",
           "0"
          ],
          [
           "1",
           "1"
          ],
          [
           "1",
           "1"
          ],
          [
           "2",
           "0"
          ],
          [
           "2",
           "0"
          ],
          [
           "1",
           "0"
          ],
          [
           "1",
           "1"
          ],
          [
           "2",
           "0"
          ],
          [
           "2",
           "0"
          ],
          [
           "1",
           "0"
          ],
          [
           "1",
           "0"
          ],
          [
           "1",
           "0"
          ],
          [
           "1",
           "0"
          ]
         ],
         "hovertemplate": "<b>%{hovertext}</b><br><br>t_prior=%{x}<br>e_prior=%{y}<br>Accuracy=%{z}<br>n_chords=%{customdata[0]}<br>n_melody=%{customdata[1]}<extra></extra>",
         "hovertext": {
          "bdata": "qz5XW7G/3D9ZF7fRAN7aP2N/2T15WNw/lrIMcayL2z+WsgxxrIvbP7bz/dR46do/xEKtad5x2j9wzojS3uDbP5tVn6ut2Ns/KjqSy39I2z/mP6Tfvg7cP5YhjnVxG90/v30dOGdE3T+62or9ZffcPwmKH2PuWto/LpCg+DHm2j+P5PIf0m/bP1K4HoXrUdw/+1xtxf6y2z/HKTqSy3/cP5Jc/kP67ds/XI/C9Shc2z+eXinLEMfaPxPyQc9m1ds/FD/G3LWE3D+8dJMYBFbaP65H4XoUrts/AAAAAAAA3D8ofoy5awndP6HWNO84Rds/YTJVMCqp2z9MN4lBYOXcP/+ye/KwUNs/YHZPHhZq3T/nHafoSC7bP9Ei2/l+atw/XynLEMe62D8j2/l+arzcP3ZxGw3gLdw/BoGVQ4ts2z8Fo5I6AU3cP1HaG3xhMt0/F7fRAN4C3T/AWyBB8WPcP4y5awn5oNs/k6mCUUmd3D9pb/CFyVTdP0YldQKaCNs/TmIQWDm03D8kKH6MuWvdP1YOLbKd79s/vJaQD3o22z+Cc0aU9gbbP4lBYOXQIts/TtGRXP5D2j/CFyZTBaPaP3ZxGw3gLdw/UwWjkjoB3T8Rx7q4jQbcP0HxY8xdS9w/yxDHuriN2j9wzojS3uDbP1g5tMh2vts/U5YhjnVx2z/0bFZ9rrbaP7U3+MJkqtw/P8bctYR83D8m5IOezarbP+84RUdy+ds/",
          "dtype": "f8"
         },
         "legendgroup": "",
         "marker": {
          "color": "#636efa",
          "symbol": "circle"
         },
         "mode": "markers",
         "name": "",
         "scene": "scene",
         "showlegend": false,
         "type": "scatter3d",
         "x": [
          "1037.5",
          "300.0",
          "1037.5",
          "30.0",
          "160.0",
          "4000.0",
          "300.0",
          "160.0",
          "20.0",
          "3012.5",
          "90.0",
          "7.5",
          "0.0",
          "7.5",
          "20.0",
          "230.0",
          "1037.5",
          "15.0",
          "160.0",
          "90.0",
          "90.0",
          "230.0",
          "230.0",
          "22.5",
          "15.0",
          "300.0",
          "20.0",
          "50.0",
          "0.0",
          "30.0",
          "2025.0",
          "7.5",
          "160.0",
          "2025.0",
          "20.0",
          "15.0",
          "20.0",
          "2025.0",
          "2025.0",
          "30.0",
          "50.0",
          "0.0",
          "1037.5",
          "50.0",
          "50.0",
          "15.0",
          "4000.0",
          "2025.0",
          "0.0",
          "3012.5",
          "22.5",
          "230.0",
          "230.0",
          "30.0",
          "4000.0",
          "3012.5",
          "90.0",
          "7.5",
          "22.5",
          "90.0",
          "300.0",
          "1037.5",
          "22.5",
          "160.0",
          "300.0",
          "3012.5",
          "4000.0",
          "4000.0",
          "3012.5"
         ],
         "y": [
          "1037.5",
          "0.0",
          "2025.0",
          "7.5",
          "150.0",
          "3012.5",
          "225.0",
          "0.0",
          "300.0",
          "3012.5",
          "225.0",
          "7.5",
          "30.0",
          "22.5",
          "75.0",
          "225.0",
          "4000.0",
          "30.0",
          "75.0",
          "0.0",
          "300.0",
          "0.0",
          "300.0",
          "22.5",
          "15.0",
          "300.0",
          "225.0",
          "3012.5",
          "15.0",
          "22.5",
          "3012.5",
          "30.0",
          "300.0",
          "50.0",
          "150.0",
          "22.5",
          "0.0",
          "1037.5",
          "2025.0",
          "15.0",
          "2025.0",
          "22.5",
          "50.0",
          "1037.5",
          "4000.0",
          "7.5",
          "50.0",
          "4000.0",
          "7.5",
          "50.0",
          "15.0",
          "75.0",
          "150.0",
          "30.0",
          "4000.0",
          "4000.0",
          "150.0",
          "15.0",
          "7.5",
          "75.0",
          "150.0",
          "3012.5",
          "30.0",
          "225.0",
          "75.0",
          "1037.5",
          "1037.5",
          "2025.0",
          "2025.0"
         ],
         "z": {
          "bdata": "qz5XW7G/3D9ZF7fRAN7aP2N/2T15WNw/lrIMcayL2z+WsgxxrIvbP7bz/dR46do/xEKtad5x2j9wzojS3uDbP5tVn6ut2Ns/KjqSy39I2z/mP6Tfvg7cP5YhjnVxG90/v30dOGdE3T+62or9ZffcPwmKH2PuWto/LpCg+DHm2j+P5PIf0m/bP1K4HoXrUdw/+1xtxf6y2z/HKTqSy3/cP5Jc/kP67ds/XI/C9Shc2z+eXinLEMfaPxPyQc9m1ds/FD/G3LWE3D+8dJMYBFbaP65H4XoUrts/AAAAAAAA3D8ofoy5awndP6HWNO84Rds/YTJVMCqp2z9MN4lBYOXcP/+ye/KwUNs/YHZPHhZq3T/nHafoSC7bP9Ei2/l+atw/XynLEMe62D8j2/l+arzcP3ZxGw3gLdw/BoGVQ4ts2z8Fo5I6AU3cP1HaG3xhMt0/F7fRAN4C3T/AWyBB8WPcP4y5awn5oNs/k6mCUUmd3D9pb/CFyVTdP0YldQKaCNs/TmIQWDm03D8kKH6MuWvdP1YOLbKd79s/vJaQD3o22z+Cc0aU9gbbP4lBYOXQIts/TtGRXP5D2j/CFyZTBaPaP3ZxGw3gLdw/UwWjkjoB3T8Rx7q4jQbcP0HxY8xdS9w/yxDHuriN2j9wzojS3uDbP1g5tMh2vts/U5YhjnVx2z/0bFZ9rrbaP7U3+MJkqtw/P8bctYR83D8m5IOezarbP+84RUdy+ds/",
          "dtype": "f8"
         }
        }
       ],
       "layout": {
        "height": 800,
        "legend": {
         "tracegroupgap": 0
        },
        "margin": {
         "t": 60
        },
        "scene": {
         "domain": {
          "x": [
           0,
           1
          ],
          "y": [
           0,
           1
          ]
         },
         "xaxis": {
          "categoryarray": [
           "0.0",
           "7.5",
           "15.0",
           "20.0",
           "22.5",
           "30.0",
           "50.0",
           "90.0",
           "160.0",
           "230.0",
           "300.0",
           "1037.5",
           "2025.0",
           "3012.5",
           "4000.0"
          ],
          "categoryorder": "array",
          "title": {
           "text": "t_prior"
          }
         },
         "yaxis": {
          "categoryarray": [
           "0.0",
           "7.5",
           "15.0",
           "22.5",
           "30.0",
           "50.0",
           "75.0",
           "150.0",
           "225.0",
           "300.0",
           "1037.5",
           "2025.0",
           "3012.5",
           "4000.0"
          ],
          "categoryorder": "array",
          "title": {
           "text": "e_prior"
          }
         },
         "zaxis": {
          "title": {
           "text": "Accuracy"
          }
         }
        },
        "template": {
         "data": {
          "bar": [
           {
            "error_x": {
             "color": "#2a3f5f"
            },
            "error_y": {
             "color": "#2a3f5f"
            },
            "marker": {
             "line": {
              "color": "#E5ECF6",
              "width": 0.5
             },
             "pattern": {
              "fillmode": "overlay",
              "size": 10,
              "solidity": 0.2
             }
            },
            "type": "bar"
           }
          ],
          "barpolar": [
           {
            "marker": {
             "line": {
              "color": "#E5ECF6",
              "width": 0.5
             },
             "pattern": {
              "fillmode": "overlay",
              "size": 10,
              "solidity": 0.2
             }
            },
            "type": "barpolar"
           }
          ],
          "carpet": [
           {
            "aaxis": {
             "endlinecolor": "#2a3f5f",
             "gridcolor": "white",
             "linecolor": "white",
             "minorgridcolor": "white",
             "startlinecolor": "#2a3f5f"
            },
            "baxis": {
             "endlinecolor": "#2a3f5f",
             "gridcolor": "white",
             "linecolor": "white",
             "minorgridcolor": "white",
             "startlinecolor": "#2a3f5f"
            },
            "type": "carpet"
           }
          ],
          "choropleth": [
           {
            "colorbar": {
             "outlinewidth": 0,
             "ticks": ""
            },
            "type": "choropleth"
           }
          ],
          "contour": [
           {
            "colorbar": {
             "outlinewidth": 0,
             "ticks": ""
            },
            "colorscale": [
             [
              0,
              "#0d0887"
             ],
             [
              0.1111111111111111,
              "#46039f"
             ],
             [
              0.2222222222222222,
              "#7201a8"
             ],
             [
              0.3333333333333333,
              "#9c179e"
             ],
             [
              0.4444444444444444,
              "#bd3786"
             ],
             [
              0.5555555555555556,
              "#d8576b"
             ],
             [
              0.6666666666666666,
              "#ed7953"
             ],
             [
              0.7777777777777778,
              "#fb9f3a"
             ],
             [
              0.8888888888888888,
              "#fdca26"
             ],
             [
              1,
              "#f0f921"
             ]
            ],
            "type": "contour"
           }
          ],
          "contourcarpet": [
           {
            "colorbar": {
             "outlinewidth": 0,
             "ticks": ""
            },
            "type": "contourcarpet"
           }
          ],
          "heatmap": [
           {
            "colorbar": {
             "outlinewidth": 0,
             "ticks": ""
            },
            "colorscale": [
             [
              0,
              "#0d0887"
             ],
             [
              0.1111111111111111,
              "#46039f"
             ],
             [
              0.2222222222222222,
              "#7201a8"
             ],
             [
              0.3333333333333333,
              "#9c179e"
             ],
             [
              0.4444444444444444,
              "#bd3786"
             ],
             [
              0.5555555555555556,
              "#d8576b"
             ],
             [
              0.6666666666666666,
              "#ed7953"
             ],
             [
              0.7777777777777778,
              "#fb9f3a"
             ],
             [
              0.8888888888888888,
              "#fdca26"
             ],
             [
              1,
              "#f0f921"
             ]
            ],
            "type": "heatmap"
           }
          ],
          "histogram": [
           {
            "marker": {
             "pattern": {
              "fillmode": "overlay",
              "size": 10,
              "solidity": 0.2
             }
            },
            "type": "histogram"
           }
          ],
          "histogram2d": [
           {
            "colorbar": {
             "outlinewidth": 0,
             "ticks": ""
            },
            "colorscale": [
             [
              0,
              "#0d0887"
             ],
             [
              0.1111111111111111,
              "#46039f"
             ],
             [
              0.2222222222222222,
              "#7201a8"
             ],
             [
              0.3333333333333333,
              "#9c179e"
             ],
             [
              0.4444444444444444,
              "#bd3786"
             ],
             [
              0.5555555555555556,
              "#d8576b"
             ],
             [
              0.6666666666666666,
              "#ed7953"
             ],
             [
              0.7777777777777778,
              "#fb9f3a"
             ],
             [
              0.8888888888888888,
              "#fdca26"
             ],
             [
              1,
              "#f0f921"
             ]
            ],
            "type": "histogram2d"
           }
          ],
          "histogram2dcontour": [
           {
            "colorbar": {
             "outlinewidth": 0,
             "ticks": ""
            },
            "colorscale": [
             [
              0,
              "#0d0887"
             ],
             [
              0.1111111111111111,
              "#46039f"
             ],
             [
              0.2222222222222222,
              "#7201a8"
             ],
             [
              0.3333333333333333,
              "#9c179e"
             ],
             [
              0.4444444444444444,
              "#bd3786"
             ],
             [
              0.5555555555555556,
              "#d8576b"
             ],
             [
              0.6666666666666666,
              "#ed7953"
             ],
             [
              0.7777777777777778,
              "#fb9f3a"
             ],
             [
              0.8888888888888888,
              "#fdca26"
             ],
             [
              1,
              "#f0f921"
             ]
            ],
            "type": "histogram2dcontour"
           }
          ],
          "mesh3d": [
           {
            "colorbar": {
             "outlinewidth": 0,
             "ticks": ""
            },
            "type": "mesh3d"
           }
          ],
          "parcoords": [
           {
            "line": {
             "colorbar": {
              "outlinewidth": 0,
              "ticks": ""
             }
            },
            "type": "parcoords"
           }
          ],
          "pie": [
           {
            "automargin": true,
            "type": "pie"
           }
          ],
          "scatter": [
           {
            "fillpattern": {
             "fillmode": "overlay",
             "size": 10,
             "solidity": 0.2
            },
            "type": "scatter"
           }
          ],
          "scatter3d": [
           {
            "line": {
             "colorbar": {
              "outlinewidth": 0,
              "ticks": ""
             }
            },
            "marker": {
             "colorbar": {
              "outlinewidth": 0,
              "ticks": ""
             }
            },
            "type": "scatter3d"
           }
          ],
          "scattercarpet": [
           {
            "marker": {
             "colorbar": {
              "outlinewidth": 0,
              "ticks": ""
             }
            },
            "type": "scattercarpet"
           }
          ],
          "scattergeo": [
           {
            "marker": {
             "colorbar": {
              "outlinewidth": 0,
              "ticks": ""
             }
            },
            "type": "scattergeo"
           }
          ],
          "scattergl": [
           {
            "marker": {
             "colorbar": {
              "outlinewidth": 0,
              "ticks": ""
             }
            },
            "type": "scattergl"
           }
          ],
          "scattermap": [
           {
            "marker": {
             "colorbar": {
              "outlinewidth": 0,
              "ticks": ""
             }
            },
            "type": "scattermap"
           }
          ],
          "scattermapbox": [
           {
            "marker": {
             "colorbar": {
              "outlinewidth": 0,
              "ticks": ""
             }
            },
            "type": "scattermapbox"
           }
          ],
          "scatterpolar": [
           {
            "marker": {
             "colorbar": {
              "outlinewidth": 0,
              "ticks": ""
             }
            },
            "type": "scatterpolar"
           }
          ],
          "scatterpolargl": [
           {
            "marker": {
             "colorbar": {
              "outlinewidth": 0,
              "ticks": ""
             }
            },
            "type": "scatterpolargl"
           }
          ],
          "scatterternary": [
           {
            "marker": {
             "colorbar": {
              "outlinewidth": 0,
              "ticks": ""
             }
            },
            "type": "scatterternary"
           }
          ],
          "surface": [
           {
            "colorbar": {
             "outlinewidth": 0,
             "ticks": ""
            },
            "colorscale": [
             [
              0,
              "#0d0887"
             ],
             [
              0.1111111111111111,
              "#46039f"
             ],
             [
              0.2222222222222222,
              "#7201a8"
             ],
             [
              0.3333333333333333,
              "#9c179e"
             ],
             [
              0.4444444444444444,
              "#bd3786"
             ],
             [
              0.5555555555555556,
              "#d8576b"
             ],
             [
              0.6666666666666666,
              "#ed7953"
             ],
             [
              0.7777777777777778,
              "#fb9f3a"
             ],
             [
              0.8888888888888888,
              "#fdca26"
             ],
             [
              1,
              "#f0f921"
             ]
            ],
            "type": "surface"
           }
          ],
          "table": [
           {
            "cells": {
             "fill": {
              "color": "#EBF0F8"
             },
             "line": {
              "color": "white"
             }
            },
            "header": {
             "fill": {
              "color": "#C8D4E3"
             },
             "line": {
              "color": "white"
             }
            },
            "type": "table"
           }
          ]
         },
         "layout": {
          "annotationdefaults": {
           "arrowcolor": "#2a3f5f",
           "arrowhead": 0,
           "arrowwidth": 1
          },
          "autotypenumbers": "strict",
          "coloraxis": {
           "colorbar": {
            "outlinewidth": 0,
            "ticks": ""
           }
          },
          "colorscale": {
           "diverging": [
            [
             0,
             "#8e0152"
            ],
            [
             0.1,
             "#c51b7d"
            ],
            [
             0.2,
             "#de77ae"
            ],
            [
             0.3,
             "#f1b6da"
            ],
            [
             0.4,
             "#fde0ef"
            ],
            [
             0.5,
             "#f7f7f7"
            ],
            [
             0.6,
             "#e6f5d0"
            ],
            [
             0.7,
             "#b8e186"
            ],
            [
             0.8,
             "#7fbc41"
            ],
            [
             0.9,
             "#4d9221"
            ],
            [
             1,
             "#276419"
            ]
           ],
           "sequential": [
            [
             0,
             "#0d0887"
            ],
            [
             0.1111111111111111,
             "#46039f"
            ],
            [
             0.2222222222222222,
             "#7201a8"
            ],
            [
             0.3333333333333333,
             "#9c179e"
            ],
            [
             0.4444444444444444,
             "#bd3786"
            ],
            [
             0.5555555555555556,
             "#d8576b"
            ],
            [
             0.6666666666666666,
             "#ed7953"
            ],
            [
             0.7777777777777778,
             "#fb9f3a"
            ],
            [
             0.8888888888888888,
             "#fdca26"
            ],
            [
             1,
             "#f0f921"
            ]
           ],
           "sequentialminus": [
            [
             0,
             "#0d0887"
            ],
            [
             0.1111111111111111,
             "#46039f"
            ],
            [
             0.2222222222222222,
             "#7201a8"
            ],
            [
             0.3333333333333333,
             "#9c179e"
            ],
            [
             0.4444444444444444,
             "#bd3786"
            ],
            [
             0.5555555555555556,
             "#d8576b"
            ],
            [
             0.6666666666666666,
             "#ed7953"
            ],
            [
             0.7777777777777778,
             "#fb9f3a"
            ],
            [
             0.8888888888888888,
             "#fdca26"
            ],
            [
             1,
             "#f0f921"
            ]
           ]
          },
          "colorway": [
           "#636efa",
           "#EF553B",
           "#00cc96",
           "#ab63fa",
           "#FFA15A",
           "#19d3f3",
           "#FF6692",
           "#B6E880",
           "#FF97FF",
           "#FECB52"
          ],
          "font": {
           "color": "#2a3f5f"
          },
          "geo": {
           "bgcolor": "white",
           "lakecolor": "white",
           "landcolor": "#E5ECF6",
           "showlakes": true,
           "showland": true,
           "subunitcolor": "white"
          },
          "hoverlabel": {
           "align": "left"
          },
          "hovermode": "closest",
          "mapbox": {
           "style": "light"
          },
          "paper_bgcolor": "white",
          "plot_bgcolor": "#E5ECF6",
          "polar": {
           "angularaxis": {
            "gridcolor": "white",
            "linecolor": "white",
            "ticks": ""
           },
           "bgcolor": "#E5ECF6",
           "radialaxis": {
            "gridcolor": "white",
            "linecolor": "white",
            "ticks": ""
           }
          },
          "scene": {
           "xaxis": {
            "backgroundcolor": "#E5ECF6",
            "gridcolor": "white",
            "gridwidth": 2,
            "linecolor": "white",
            "showbackground": true,
            "ticks": "",
            "zerolinecolor": "white"
           },
           "yaxis": {
            "backgroundcolor": "#E5ECF6",
            "gridcolor": "white",
            "gridwidth": 2,
            "linecolor": "white",
            "showbackground": true,
            "ticks": "",
            "zerolinecolor": "white"
           },
           "zaxis": {
            "backgroundcolor": "#E5ECF6",
            "gridcolor": "white",
            "gridwidth": 2,
            "linecolor": "white",
            "showbackground": true,
            "ticks": "",
            "zerolinecolor": "white"
           }
          },
          "shapedefaults": {
           "line": {
            "color": "#2a3f5f"
           }
          },
          "ternary": {
           "aaxis": {
            "gridcolor": "white",
            "linecolor": "white",
            "ticks": ""
           },
           "baxis": {
            "gridcolor": "white",
            "linecolor": "white",
            "ticks": ""
           },
           "bgcolor": "#E5ECF6",
           "caxis": {
            "gridcolor": "white",
            "linecolor": "white",
            "ticks": ""
           }
          },
          "title": {
           "x": 0.05
          },
          "xaxis": {
           "automargin": true,
           "gridcolor": "white",
           "linecolor": "white",
           "ticks": "",
           "title": {
            "standoff": 15
           },
           "zerolinecolor": "white",
           "zerolinewidth": 2
          },
          "yaxis": {
           "automargin": true,
           "gridcolor": "white",
           "linecolor": "white",
           "ticks": "",
           "title": {
            "standoff": 15
           },
           "zerolinecolor": "white",
           "zerolinewidth": 2
          }
         }
        }
       }
      }
     },
     "metadata": {},
     "output_type": "display_data"
    }
   ],
   "source": [
    "px.scatter_3d(accuracies_df[accuracies_df['Accuracy']>0.32], \n",
    "              x='t_prior', \n",
    "              y='e_prior', \n",
    "              z='Accuracy',\n",
    "              hover_name='Accuracy',\n",
    "              hover_data=['t_prior', \n",
    "                          'e_prior', \n",
    "                          'n_chords',\n",
    "                          'n_melody'],\n",
    "              category_orders={'t_prior': t_prior_labels,\n",
    "                'e_prior':e_prior_labels},\n",
    "              height=800)"
   ]
  },
  {
   "cell_type": "code",
   "execution_count": 15,
   "metadata": {},
   "outputs": [],
   "source": [
    "fig = px.scatter(accuracies_df[accuracies_df['Accuracy']>0.32], \n",
    "              x='t_prior',  \n",
    "              y='Accuracy',\n",
    "              hover_name='Accuracy',\n",
    "              color='e_prior',\n",
    "              symbol='e_prior',\n",
    "              size_max=15,\n",
    "              symbol_sequence=['circle', 'triangle-up', 'star-triangle-up', 'square',\n",
    "                               'star-square', 'diamond', 'diamond-tall', 'star-diamond', \n",
    "                               'pentagon', 'hexagon', 'octagon', 'cross',\n",
    "                               'star', 'hexagram'],\n",
    "              hover_data=['t_prior', \n",
    "                          'e_prior', \n",
    "                          'n_chords',\n",
    "                          'n_melody'],\n",
    "              category_orders={'t_prior': t_prior_labels,\n",
    "                'e_prior':e_prior_labels},\n",
    "              height=800,\n",
    "              width=1200)\n",
    "fig.update_traces(marker={'size': 10})\n",
    "pio.write_image(fig, \"first_grid_search.pdf\", height=800, width=1000)"
   ]
  },
  {
   "cell_type": "code",
   "execution_count": null,
   "metadata": {},
   "outputs": [],
   "source": [
    "px.scatter(accuracies_df[accuracies_df['Accuracy']>0.32], \n",
    "              x='t_prior',  \n",
    "              y='Accuracy',\n",
    "              hover_name='Accuracy',\n",
    "              color='e_prior',\n",
    "              hover_data=['t_prior', \n",
    "                          'e_prior', \n",
    "                          'n_chords',\n",
    "                          'n_melody'],\n",
    "              category_orders={'t_prior': t_prior_labels,\n",
    "                'e_prior':e_prior_labels},\n",
    "              height=800)"
   ]
  },
  {
   "cell_type": "markdown",
   "metadata": {},
   "source": [
    "major\n",
    "minor\n",
    "highest overall (not on subsetted dataset)"
   ]
  },
  {
   "cell_type": "code",
   "execution_count": null,
   "metadata": {},
   "outputs": [],
   "source": []
  },
  {
   "cell_type": "code",
   "execution_count": null,
   "metadata": {},
   "outputs": [],
   "source": []
  },
  {
   "cell_type": "code",
   "execution_count": 72,
   "metadata": {},
   "outputs": [
    {
     "data": {
      "text/plain": [
       "Accuracy    0.4597\n",
       "n_chords         1\n",
       "n_melody         0\n",
       "t_prior     3012.5\n",
       "e_prior       50.0\n",
       "Name: 53, dtype: object"
      ]
     },
     "execution_count": 72,
     "metadata": {},
     "output_type": "execute_result"
    }
   ],
   "source": [
    "accuracies_df.loc[accuracies_df['Accuracy'].idxmax()]"
   ]
  },
  {
   "cell_type": "code",
   "execution_count": null,
   "metadata": {},
   "outputs": [
    {
     "name": "stdout",
     "output_type": "stream",
     "text": [
      "0.46\n",
      "0.0\n"
     ]
    }
   ],
   "source": [
    "print(accuracies_df['Accuracy'].max().round(2))\n",
    "print(np.floor(accuracies_df['Accuracy'].min()))"
   ]
  },
  {
   "cell_type": "code",
   "execution_count": 101,
   "metadata": {},
   "outputs": [
    {
     "name": "stdout",
     "output_type": "stream",
     "text": [
      "Grid Search Accuracies\n",
      "---------------------\n",
      "% of grid points >= (0.45):\t 0.147\n",
      "% of grid points >= (0.44):\t 0.36\n",
      "% of grid points >= (0.43):\t 0.6\n",
      "% of grid points >= (0.42):\t 0.787\n",
      "% of grid points >= (0.41):\t 0.907\n",
      "% of grid points >= (0.38):\t 0.92\n",
      "% of grid points >= (0.31):\t 0.933\n",
      "% of grid points >= (0.01):\t 0.987\n",
      "% of grid points >= (0.00):\t 1.0\n"
     ]
    }
   ],
   "source": [
    "percs = list(range(int(np.floor(accuracies_df['Accuracy'].min())),\n",
    "           int(accuracies_df['Accuracy'].max().round(2)*100),\n",
    "           1\n",
    "           )\n",
    "    )\n",
    "total_len = len(accuracies_df)\n",
    "\n",
    "previous_perc_above = -1\n",
    "print('Grid Search Accuracies')\n",
    "print('---------------------')\n",
    "for perc in percs[::-1]:\n",
    "    perc = perc/100.0\n",
    "    # print(perc)\n",
    "    perc_len = len(accuracies_df[accuracies_df['Accuracy'] >= perc])\n",
    "    perc_above = round(perc_len/total_len, 3)\n",
    "\n",
    "    if perc_above != previous_perc_above:\n",
    "        print(f\"% of grid points >= ({perc:.2f}):\\t {round(perc_above, 3)}\")\n",
    "        previous_perc_above = perc_above\n"
   ]
  },
  {
   "cell_type": "code",
   "execution_count": null,
   "metadata": {},
   "outputs": [],
   "source": []
  }
 ],
 "metadata": {
  "kernelspec": {
   "display_name": "Python 3",
   "language": "python",
   "name": "python3"
  },
  "language_info": {
   "codemirror_mode": {
    "name": "ipython",
    "version": 3
   },
   "file_extension": ".py",
   "mimetype": "text/x-python",
   "name": "python",
   "nbconvert_exporter": "python",
   "pygments_lexer": "ipython3",
   "version": "3.10.16"
  }
 },
 "nbformat": 4,
 "nbformat_minor": 2
}
