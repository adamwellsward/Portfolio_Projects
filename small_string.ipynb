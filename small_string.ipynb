{
 "cells": [
  {
   "cell_type": "markdown",
   "metadata": {},
   "source": [
    "## 1st Ever LeetCode Problem"
   ]
  },
  {
   "cell_type": "markdown",
   "metadata": {},
   "source": [
    "You are given a string s and an integer k.\n",
    "\n",
    "Define a function distance(s1, s2) between two strings s1 and s2 of the same length n as:\n",
    "\n",
    "The sum of the minimum distance between s1[i] and s2[i] when the characters from 'a' to 'z' are placed in a cyclic order, for all i in the range [0, n - 1].\n",
    "For example, distance(\"ab\", \"cd\") == 4, and distance(\"a\", \"z\") == 1.\n",
    "\n",
    "You can change any letter of s to any other lowercase English letter, any number of times.\n",
    "\n",
    "Return a string denoting the lexicographically smallest\n",
    " string t you can get after some changes, such that distance(s, t) <= k."
   ]
  },
  {
   "cell_type": "code",
   "execution_count": 115,
   "metadata": {},
   "outputs": [],
   "source": [
    "class Solution(object):\n",
    "    def getSmallestString(self, s, k):\n",
    "        \"\"\"\n",
    "        :type s: str\n",
    "        :type k: int\n",
    "        :rtype: str\n",
    "        \"\"\"\n",
    "        alpha = \"abcdefghijklmnopqrstuvwxyz\"\n",
    "        d = {letter:i for i,letter in enumerate(alpha)}\n",
    "        n = len(s)\n",
    "        def distance(s1, s2):\n",
    "            sum = 0\n",
    "            for i in range(n):\n",
    "                a = abs(d[s1[i]] - d[s2[i]])\n",
    "                if a > 13:\n",
    "                    a = 26 - a\n",
    "                sum += a\n",
    "            return sum\n",
    "        \n",
    "        best = s\n",
    "        orig = s\n",
    "        for i in range(n):\n",
    "            current = best\n",
    "            for l in alpha:\n",
    "                new = best[0:i] + l + best[i+1:]\n",
    "                if distance(new, orig) <= k:\n",
    "                    if new < best:\n",
    "                        best = new\n",
    "                        print(\"new best: \", best)\n",
    "            if best == current and best[i] != 'a':\n",
    "                break\n",
    "        return best\n"
   ]
  },
  {
   "cell_type": "markdown",
   "metadata": {},
   "source": [
    "This solution worked in 9404ms on Leetcode Problem\n"
   ]
  },
  {
   "cell_type": "code",
   "execution_count": 116,
   "metadata": {},
   "outputs": [
    {
     "name": "stdout",
     "output_type": "stream",
     "text": [
      "new best:  aaxcd\n",
      "new best:  aawcd\n"
     ]
    },
    {
     "data": {
      "text/plain": [
       "'aawcd'"
      ]
     },
     "execution_count": 116,
     "metadata": {},
     "output_type": "execute_result"
    }
   ],
   "source": [
    "A = Solution()\n",
    "A.getSmallestString(\"xaxcd\", 4)"
   ]
  },
  {
   "cell_type": "code",
   "execution_count": 73,
   "metadata": {},
   "outputs": [],
   "source": [
    "d = {letter:i for i,letter in enumerate(\"abcdefghijklmnopqrstuvwxyz\")}\n",
    "def distance(s1, s2):\n",
    "            n = len(s1)\n",
    "            sum = 0\n",
    "            for i in range(n):\n",
    "                a = abs(d[s1[i]] - d[s2[i]])\n",
    "                if a > 13:\n",
    "                    a = 26 - a\n",
    "                sum += a\n",
    "            return sum"
   ]
  },
  {
   "cell_type": "code",
   "execution_count": 77,
   "metadata": {},
   "outputs": [
    {
     "name": "stdout",
     "output_type": "stream",
     "text": [
      "cda abh 11\n"
     ]
    }
   ],
   "source": [
    "\n",
    "a = \"cda\"\n",
    "b = \"abh\"\n",
    "print(a, b, distance(a,b))\n"
   ]
  },
  {
   "cell_type": "markdown",
   "metadata": {},
   "source": [
    "This is what ChatGPT had to say about it:\n",
    "\n",
    "Redundant Distance Calculation:\n",
    "\n",
    "The distance function calculates the distance between two strings s1 and s2 for each iteration of the loop. This can be optimized by precomputing the distances between all pairs of characters and storing them in a dictionary or array.\n",
    "\n",
    "String Concatenation:\n",
    "\n",
    "In the inner loop, the code uses string concatenation (best[0:i] + l + best[i+1:]) to create the new string new. String concatenation in Python can be inefficient, especially when done repeatedly. It's better to convert the string to a list, modify the list, and then join it back into a string.\n",
    "\n",
    "Unnecessary Loop Iterations:\n",
    "\n",
    "The loop iterates over all characters in the alphabet (alpha) for each position in the string s. However, it's only necessary to iterate over the characters that can reduce the distance between the original and new strings."
   ]
  },
  {
   "cell_type": "markdown",
   "metadata": {},
   "source": [
    "Here is the new code it used:"
   ]
  },
  {
   "cell_type": "code",
   "execution_count": null,
   "metadata": {},
   "outputs": [],
   "source": [
    "class Solution(object):\n",
    "    def getSmallestString(self, s, k):\n",
    "        \"\"\"\n",
    "        :type s: str\n",
    "        :type k: int\n",
    "        :rtype: str\n",
    "        \"\"\"\n",
    "        alpha = \"abcdefghijklmnopqrstuvwxyz\"\n",
    "        d = {letter: i for i, letter in enumerate(alpha)}\n",
    "        n = len(s)\n",
    "        \n",
    "        # Precompute distances between all pairs of characters\n",
    "        dist = {}\n",
    "        for i, c1 in enumerate(alpha):\n",
    "            for j, c2 in enumerate(alpha):\n",
    "                dist[(c1, c2)] = min(abs(d[c1] - d[c2]), 26 - abs(d[c1] - d[c2]))\n",
    "        \n",
    "        # Convert string to list for efficient modification\n",
    "        s_list = list(s)\n",
    "        \n",
    "        # Initialize best string and original string\n",
    "        best = s\n",
    "        orig = s\n",
    "        \n",
    "        for i in range(n):\n",
    "            # Calculate maximum possible distance reduction\n",
    "            max_dist_reduction = min(k, dist[(s[i], 'a')])\n",
    "            \n",
    "            # Iterate over characters that can potentially reduce distance\n",
    "            for l in alpha[:26 - max_dist_reduction]:\n",
    "                new = s_list[:]  # Create a copy of the original list\n",
    "                new[i] = l  # Modify the character at position i\n",
    "                \n",
    "                # Calculate distance between new and original strings\n",
    "                new_dist = sum(dist[(new[j], orig[j])] for j in range(n))\n",
    "                \n",
    "                # Update best string if distance is within the limit\n",
    "                if new_dist <= k:\n",
    "                    best = min(best, ''.join(new))\n",
    "                    break  # No need to continue with further modifications\n",
    "                \n",
    "            if best[i] == 'a':\n",
    "                break  # No need to continue if character is already 'a'\n",
    "                \n",
    "        return best\n"
   ]
  },
  {
   "cell_type": "markdown",
   "metadata": {},
   "source": [
    "Here are my edits"
   ]
  },
  {
   "cell_type": "code",
   "execution_count": null,
   "metadata": {},
   "outputs": [],
   "source": [
    "class Solution(object):\n",
    "    def getSmallestString(self, s, k):\n",
    "        \"\"\"\n",
    "        :type s: str\n",
    "        :type k: int\n",
    "        :rtype: str\n",
    "        \"\"\"\n",
    "        alpha = \"abcdefghijklmnopqrstuvwxyz\"\n",
    "        d = {letter: i for i, letter in enumerate(alpha)}\n",
    "        n = len(s)\n",
    "        \n",
    "        # Precompute distances between all pairs of characters\n",
    "        dist = {}\n",
    "        for c1 in alpha:\n",
    "            for c2 in alpha:\n",
    "                dist[(c1, c2)] = min(abs(d[c1] - d[c2]), 26 - abs(d[c1] - d[c2]))\n",
    "        \n",
    "        def distance(s1, s2):\n",
    "            return sum(dist[(s1[j], s2[j])] for j in range(n))\n",
    "        \n",
    "        best = s\n",
    "        orig = s\n",
    "        for i in range(n):\n",
    "            max_dist_reduction = min(k, dist[(s[i], 'a')])\n",
    "            current = best\n",
    "            for l in alpha[:26 - max_dist_reduction]:\n",
    "                new = best[0:i] + l + best[i+1:]\n",
    "                if distance(new, orig) <= k:\n",
    "                    if new < best:\n",
    "                        best = new\n",
    "            if best == current and best[i] != 'a':\n",
    "                break\n",
    "        return best\n"
   ]
  },
  {
   "cell_type": "markdown",
   "metadata": {},
   "source": [
    "This solved the problem in 5504 ms"
   ]
  }
 ],
 "metadata": {
  "kernelspec": {
   "display_name": "Python 3",
   "language": "python",
   "name": "python3"
  },
  "language_info": {
   "codemirror_mode": {
    "name": "ipython",
    "version": 3
   },
   "file_extension": ".py",
   "mimetype": "text/x-python",
   "name": "python",
   "nbconvert_exporter": "python",
   "pygments_lexer": "ipython3",
   "version": "3.10.12"
  }
 },
 "nbformat": 4,
 "nbformat_minor": 2
}
