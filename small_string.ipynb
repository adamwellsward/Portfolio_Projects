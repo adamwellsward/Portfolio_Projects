{
 "cells": [
  {
   "cell_type": "markdown",
   "metadata": {},
   "source": [
    "## 1st Ever LeetCode Problem"
   ]
  },
  {
   "cell_type": "markdown",
   "metadata": {},
   "source": [
    "You are given a string s and an integer k.\n",
    "\n",
    "Define a function distance(s1, s2) between two strings s1 and s2 of the same length n as:\n",
    "\n",
    "The sum of the minimum distance between s1[i] and s2[i] when the characters from 'a' to 'z' are placed in a cyclic order, for all i in the range [0, n - 1].\n",
    "For example, distance(\"ab\", \"cd\") == 4, and distance(\"a\", \"z\") == 1.\n",
    "\n",
    "You can change any letter of s to any other lowercase English letter, any number of times.\n",
    "\n",
    "Return a string denoting the lexicographically smallest\n",
    " string t you can get after some changes, such that distance(s, t) <= k."
   ]
  },
  {
   "cell_type": "code",
   "execution_count": 115,
   "metadata": {},
   "outputs": [],
   "source": [
    "class Solution(object):\n",
    "    def getSmallestString(self, s, k):\n",
    "        \"\"\"\n",
    "        :type s: str\n",
    "        :type k: int\n",
    "        :rtype: str\n",
    "        \"\"\"\n",
    "        alpha = \"abcdefghijklmnopqrstuvwxyz\"\n",
    "        d = {letter:i for i,letter in enumerate(alpha)}\n",
    "        n = len(s)\n",
    "        def distance(s1, s2):\n",
    "            sum = 0\n",
    "            for i in range(n):\n",
    "                a = abs(d[s1[i]] - d[s2[i]])\n",
    "                if a > 13:\n",
    "                    a = 26 - a\n",
    "                sum += a\n",
    "            return sum\n",
    "        \n",
    "        best = s\n",
    "        orig = s\n",
    "        for i in range(n):\n",
    "            current = best\n",
    "            for l in alpha:\n",
    "                new = best[0:i] + l + best[i+1:]\n",
    "                if distance(new, orig) <= k:\n",
    "                    if new < best:\n",
    "                        best = new\n",
    "                        print(\"new best: \", best)\n",
    "            if best == current and best[i] != 'a':\n",
    "                break\n",
    "        return best\n"
   ]
  },
  {
   "cell_type": "markdown",
   "metadata": {},
   "source": [
    "This solution worked in 9404ms on Leetcode Problem\n"
   ]
  },
  {
   "cell_type": "code",
   "execution_count": 116,
   "metadata": {},
   "outputs": [
    {
     "name": "stdout",
     "output_type": "stream",
     "text": [
      "new best:  aaxcd\n",
      "new best:  aawcd\n"
     ]
    },
    {
     "data": {
      "text/plain": [
       "'aawcd'"
      ]
     },
     "execution_count": 116,
     "metadata": {},
     "output_type": "execute_result"
    }
   ],
   "source": [
    "A = Solution()\n",
    "A.getSmallestString(\"xaxcd\", 4)"
   ]
  },
  {
   "cell_type": "code",
   "execution_count": 73,
   "metadata": {},
   "outputs": [],
   "source": [
    "d = {letter:i for i,letter in enumerate(\"abcdefghijklmnopqrstuvwxyz\")}\n",
    "def distance(s1, s2):\n",
    "            n = len(s1)\n",
    "            sum = 0\n",
    "            for i in range(n):\n",
    "                a = abs(d[s1[i]] - d[s2[i]])\n",
    "                if a > 13:\n",
    "                    a = 26 - a\n",
    "                sum += a\n",
    "            return sum"
   ]
  },
  {
   "cell_type": "code",
   "execution_count": 77,
   "metadata": {},
   "outputs": [
    {
     "name": "stdout",
     "output_type": "stream",
     "text": [
      "cda abh 11\n"
     ]
    }
   ],
   "source": [
    "\n",
    "a = \"cda\"\n",
    "b = \"abh\"\n",
    "print(a, b, distance(a,b))\n"
   ]
  },
  {
   "cell_type": "code",
   "execution_count": 30,
   "metadata": {},
   "outputs": [],
   "source": [
    "class Node(object):\n",
    "    def __init__(self, label='', l=None, r=None):\n",
    "        self.label = label\n",
    "        self.left = l\n",
    "        self.right = r\n",
    "\n",
    "class Tree(Node):\n",
    "    def __init__(self, label='', l=None, r=None):\n",
    "        super().__init__(label, l, r)\n",
    "        self.head = None\n",
    "    \n",
    "    def add_node(self, label):\n",
    "        node = Node(label)\n",
    "        if self.head is None:\n",
    "            self.head = node\n",
    "        \n"
   ]
  },
  {
   "cell_type": "code",
   "execution_count": 32,
   "metadata": {},
   "outputs": [],
   "source": []
  }
 ],
 "metadata": {
  "kernelspec": {
   "display_name": "Python 3",
   "language": "python",
   "name": "python3"
  },
  "language_info": {
   "codemirror_mode": {
    "name": "ipython",
    "version": 3
   },
   "file_extension": ".py",
   "mimetype": "text/x-python",
   "name": "python",
   "nbconvert_exporter": "python",
   "pygments_lexer": "ipython3",
   "version": "3.10.12"
  }
 },
 "nbformat": 4,
 "nbformat_minor": 2
}
