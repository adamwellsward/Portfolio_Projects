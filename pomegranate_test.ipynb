{
 "cells": [
  {
   "cell_type": "code",
   "execution_count": 2,
   "metadata": {},
   "outputs": [],
   "source": [
    "from abc_utils import *\n",
    "import pandas as pd\n",
    "from hmmlearn import hmm\n",
    "import numpy as np"
   ]
  },
  {
   "cell_type": "code",
   "execution_count": 3,
   "metadata": {},
   "outputs": [],
   "source": [
    "train_set, train_lengths, val_set, _ = load_datasets()"
   ]
  },
  {
   "cell_type": "code",
   "execution_count": 4,
   "metadata": {},
   "outputs": [],
   "source": [
    "def load_song(index):\n",
    "    start_pos = train_lengths.iloc[:index].sum().item()\n",
    "    return train_set.iloc[start_pos : start_pos + train_lengths.iloc[index].item()]"
   ]
  },
  {
   "cell_type": "code",
   "execution_count": 5,
   "metadata": {},
   "outputs": [],
   "source": [
    "def load_songs(indices):\n",
    "    end_positions = np.cumsum(train_lengths)\n",
    "    positions = np.insert(end_positions, 0, np.array([0]))\n",
    "    songs = []\n",
    "    for i in indices:\n",
    "        song = train_set.iloc[positions[i] : positions[i+1]]\n",
    "        songs.append(song)\n",
    "    # return songs\n",
    "    return pd.concat(songs)\n",
    "\n",
    "song_indices = list(range(10))\n",
    "songs = load_songs(song_indices)"
   ]
  },
  {
   "cell_type": "code",
   "execution_count": 6,
   "metadata": {},
   "outputs": [
    {
     "name": "stderr",
     "output_type": "stream",
     "text": [
      "Processing states: 100%|██████████| 944/944 [00:00<00:00, 12123.34it/s]\n"
     ]
    }
   ],
   "source": [
    "states, observations = dataframe_to_states(\n",
    "    songs, \n",
    "    2, \n",
    "    1\n",
    ")"
   ]
  },
  {
   "cell_type": "code",
   "execution_count": 7,
   "metadata": {},
   "outputs": [],
   "source": [
    "transition_matrix, emission_probs, unique_states, unique_obs, states_to_index, observation_to_index = states_to_transition(states, observations)"
   ]
  },
  {
   "cell_type": "code",
   "execution_count": 8,
   "metadata": {},
   "outputs": [],
   "source": [
    "observation_indices = observations.astype(int) "
   ]
  },
  {
   "cell_type": "code",
   "execution_count": 9,
   "metadata": {},
   "outputs": [
    {
     "data": {
      "text/plain": [
       "lengths    7\n",
       "dtype: int64"
      ]
     },
     "execution_count": 9,
     "metadata": {},
     "output_type": "execute_result"
    }
   ],
   "source": [
    "train_lengths.min()"
   ]
  },
  {
   "cell_type": "code",
   "execution_count": 10,
   "metadata": {},
   "outputs": [],
   "source": [
    "model = hmm.CategoricalHMM(\n",
    "    n_components=transition_matrix.shape[0],\n",
    "    init_params=''\n",
    ")\n",
    "\n",
    "# model.fit(observation_indices.reshape(-1, 1))"
   ]
  },
  {
   "cell_type": "code",
   "execution_count": 11,
   "metadata": {},
   "outputs": [],
   "source": [
    "model.transmat_ = transition_matrix.T\n",
    "model.emissionprob_ = emission_probs.T\n",
    "start_probs = np.ones(transition_matrix.shape[0]) / transition_matrix.shape[0]\n",
    "model.startprob_ = start_probs"
   ]
  },
  {
   "cell_type": "markdown",
   "metadata": {},
   "source": [
    "Other tools:\n",
    "- dynamax\n",
    "  - runs on JAX\n",
    "  - might have a more flexible structure\n",
    "  - "
   ]
  },
  {
   "cell_type": "code",
   "execution_count": 13,
   "metadata": {},
   "outputs": [
    {
     "data": {
      "text/plain": [
       "array([82, 80, 79, 77, 79, 75, 75, 74, 75, 77, 70, 74, 75, 77, 75, 77, 79,\n",
       "       77, 79, 82, 80, 79, 77, 79, 75, 75, 74, 75, 77, 70, 74, 77, 75, 77,\n",
       "       79, 80, 82, 87, 86, 87, 82, 82, 80, 79, 77, 75, 74, 72, 70, 72, 74,\n",
       "       75, 77, 79, 82, 87, 86, 87, 82, 82, 80, 79, 77, 75, 74, 77, 75, 77,\n",
       "       79, 80, 75, 77, 79, 80, 77, 79, 80, 82, 79, 80, 82, 84, 80, 82, 87,\n",
       "       86, 87, 82, 79, 77, 79, 80, 77, 79, 80, 82, 79, 80, 79, 75, 74, 75,\n",
       "       77, 74, 67, 60, 62, 65, 67, 69, 67, 65, 74, 72, 60, 62, 65, 67, 69,\n",
       "       67, 65, 62, 60, 60, 62, 65, 67, 69, 67, 65, 74, 72, 72, 77, 74, 72,\n",
       "       77, 74, 72, 69, 67, 65, 72, 77, 72, 74, 72, 69, 72, 81, 79, 77, 72,\n",
       "       77, 72, 74, 72, 69, 74, 72, 69, 79, 72, 77, 72, 74, 72, 69, 72, 77,\n",
       "       81, 77, 79, 77, 74, 77, 72, 77, 72, 74, 72, 77, 74, 72, 69, 67, 72,\n",
       "       74, 72, 74, 77, 79, 81, 79, 77, 74, 77, 81, 79, 81, 84, 72, 74, 72,\n",
       "       74, 77, 79, 81, 79, 77, 74, 70, 72, 72, 84, 84, 84, 86, 84, 82, 81,\n",
       "       79, 77, 74, 77, 81, 79, 81, 84, 84, 84, 84, 86, 84, 82, 81, 79, 77,\n",
       "       74, 70, 72, 72, 77, 76, 74, 72, 77, 65, 69, 72, 72, 75, 74, 70, 72,\n",
       "       69, 70, 67, 67, 72, 77, 76, 74, 72, 77, 65, 69, 72, 72, 82, 81, 79,\n",
       "       77, 79, 76, 77, 77, 70, 81, 79, 77, 82, 81, 79, 84, 81, 77, 77, 76,\n",
       "       74, 72, 77, 76, 74, 79, 76, 72, 82, 81, 79, 77, 82, 81, 79, 84, 81,\n",
       "       77, 82, 81, 79, 77, 79, 76, 77, 77, 77, 82, 81, 79, 77, 82, 81, 79,\n",
       "       84, 81, 77, 77, 76, 74, 72, 77, 76, 74, 79, 76, 72, 76, 77, 76, 74,\n",
       "       72, 77, 65, 69, 72, 72, 70, 69, 67, 65, 67, 64, 65, 65, 79, 77, 76,\n",
       "       77, 69, 72, 74, 77, 76, 77, 74, 72, 70, 69, 72, 77, 70, 74, 77, 70,\n",
       "       79, 77, 76, 74, 76, 77, 76, 77, 69, 72, 74, 77, 76, 77, 74, 77, 74,\n",
       "       79, 77, 76, 84, 82, 81, 77, 76, 77, 79, 81, 77, 72, 82, 79, 75, 70,\n",
       "       80, 79, 75, 70, 70, 76, 79, 75, 79, 82, 74, 77, 82, 81, 77, 72, 82,\n",
       "       79, 76, 72, 81, 77, 79, 81, 82, 79, 77, 76, 74, 76, 70, 79, 80, 79,\n",
       "       77, 75, 70, 79, 79, 84, 82, 80, 79, 77, 77, 74, 70, 77, 77, 86, 84,\n",
       "       82, 80, 86, 84, 82, 80, 79, 77, 75, 86, 86, 86, 86, 89, 86, 86, 86,\n",
       "       87, 84, 84, 84, 86, 82, 82, 82, 86, 86, 86, 86, 89, 86, 86, 86, 87,\n",
       "       84, 84, 84, 82, 82, 84, 82, 79, 91, 89, 87, 86, 77, 79, 80, 77, 86,\n",
       "       84, 82, 80, 79, 82, 84, 82, 79, 84, 86, 84, 80, 86, 84, 82, 80, 79,\n",
       "       77, 75, 87, 77, 77, 76, 72, 79, 81, 81, 77, 79, 81, 82, 79, 82, 81,\n",
       "       77, 81, 79, 76, 77, 79, 81, 77, 76, 72, 72, 77, 77, 76, 72, 79, 81,\n",
       "       81, 77, 79, 81, 82, 79, 82, 81, 77, 81, 79, 76, 77, 79, 81, 77, 84,\n",
       "       84, 81, 82, 79, 81, 81, 77, 79, 81, 82, 79, 82, 81, 77, 81, 79, 76,\n",
       "       77, 79, 81, 77, 76, 72, 72, 84, 84, 81, 82, 79, 81, 81, 77, 79, 81,\n",
       "       82, 79, 82, 81, 77, 81, 79, 76, 77, 79, 81, 65, 68, 65, 70, 72, 65,\n",
       "       68, 65, 70, 70, 72, 68, 72, 68, 75, 77, 72, 70, 75, 73, 72, 65, 68,\n",
       "       65, 70, 72, 65, 68, 65, 70, 70, 72, 68, 72, 68, 75, 77, 72, 70, 72,\n",
       "        0, 72, 70, 72, 73, 75, 77, 75, 73, 72, 70,  0, 70, 68, 70, 72, 73,\n",
       "       75, 73, 72, 70, 68, 65, 68, 65, 70, 72, 65, 68, 65, 70, 70, 72, 68,\n",
       "       72, 68, 75, 77, 72, 70, 77,  0, 77, 75, 77,  0, 75, 73, 75, 73, 72,\n",
       "        0, 77, 75, 77, 79,  0, 75, 73, 75, 73, 72,  0, 73, 72, 73, 77,  0,\n",
       "       72, 70, 72, 70, 68,  0, 73, 72, 73, 77, 72, 70, 72, 65, 68, 65, 70,\n",
       "       72, 65, 68, 65, 70, 70, 72, 68, 72, 68, 75, 77, 72, 70, 75, 73, 72,\n",
       "       65, 68, 65, 70, 72, 65, 68, 65, 70, 70, 72, 68, 72, 68, 75, 77, 72,\n",
       "       70, 77, 60, 65, 69, 67, 65, 62, 62, 60, 60, 65, 67, 67, 69, 69, 65,\n",
       "       69, 67, 65, 62, 60, 77, 76, 77, 72, 74, 77, 72, 70, 69, 65, 67, 64,\n",
       "       65, 81, 82, 84, 82, 81, 84, 82, 81, 79, 82, 81, 79, 77, 81, 79, 77,\n",
       "       76, 72, 77, 76, 77, 81, 79, 77, 79, 82, 81, 79, 77, 81, 79, 81, 82,\n",
       "       77, 76, 77, 72, 74, 77, 72, 70, 69, 65, 67, 64, 72, 81, 77, 72, 72,\n",
       "       74, 72, 70, 70, 76, 74, 72, 76, 79, 72, 81, 81, 81, 72, 81, 77, 72,\n",
       "       72, 74, 72, 70, 70, 76, 74, 72, 76, 79, 81, 82, 82, 74, 76, 77, 77,\n",
       "       79, 81, 82, 74, 82, 82, 74, 82, 81, 72, 81, 81, 72, 81, 81, 77, 81,\n",
       "       84, 82, 81, 79, 79, 79, 72, 81, 77, 72, 72, 74, 72, 70, 70, 76, 74,\n",
       "       72, 76, 79, 81, 82, 82, 74, 76, 77])"
      ]
     },
     "execution_count": 13,
     "metadata": {},
     "output_type": "execute_result"
    }
   ],
   "source": [
    "observation_indices"
   ]
  },
  {
   "cell_type": "code",
   "execution_count": 12,
   "metadata": {},
   "outputs": [
    {
     "ename": "IndexError",
     "evalue": "index 82 is out of bounds for axis 1 with size 24",
     "output_type": "error",
     "traceback": [
      "\u001b[0;31m---------------------------------------------------------------------------\u001b[0m",
      "\u001b[0;31mIndexError\u001b[0m                                Traceback (most recent call last)",
      "Cell \u001b[0;32mIn[12], line 1\u001b[0m\n\u001b[0;32m----> 1\u001b[0m likelihood, pred_states \u001b[38;5;241m=\u001b[39m \u001b[43mmodel\u001b[49m\u001b[38;5;241;43m.\u001b[39;49m\u001b[43mdecode\u001b[49m\u001b[43m(\u001b[49m\u001b[43mobservation_indices\u001b[49m\u001b[38;5;241;43m.\u001b[39;49m\u001b[43mreshape\u001b[49m\u001b[43m(\u001b[49m\u001b[38;5;241;43m-\u001b[39;49m\u001b[38;5;241;43m1\u001b[39;49m\u001b[43m,\u001b[49m\u001b[43m \u001b[49m\u001b[38;5;241;43m1\u001b[39;49m\u001b[43m)\u001b[49m\u001b[43m)\u001b[49m\n\u001b[1;32m      2\u001b[0m pred_states\n",
      "File \u001b[0;32m~/Documents/projects/auto-harmonizer/py_harmonizer/lib/python3.11/site-packages/hmmlearn/_emissions.py:27\u001b[0m, in \u001b[0;36m_make_wrapper.<locals>.<lambda>\u001b[0;34m(*args, **kwargs)\u001b[0m\n\u001b[1;32m     26\u001b[0m \u001b[38;5;28;01mdef\u001b[39;00m\u001b[38;5;250m \u001b[39m\u001b[38;5;21m_make_wrapper\u001b[39m(func):\n\u001b[0;32m---> 27\u001b[0m     \u001b[38;5;28;01mreturn\u001b[39;00m functools\u001b[38;5;241m.\u001b[39mwraps(func)(\u001b[38;5;28;01mlambda\u001b[39;00m \u001b[38;5;241m*\u001b[39margs, \u001b[38;5;241m*\u001b[39m\u001b[38;5;241m*\u001b[39mkwargs: \u001b[43mfunc\u001b[49m\u001b[43m(\u001b[49m\u001b[38;5;241;43m*\u001b[39;49m\u001b[43margs\u001b[49m\u001b[43m,\u001b[49m\u001b[43m \u001b[49m\u001b[38;5;241;43m*\u001b[39;49m\u001b[38;5;241;43m*\u001b[39;49m\u001b[43mkwargs\u001b[49m\u001b[43m)\u001b[49m)\n",
      "File \u001b[0;32m~/Documents/projects/auto-harmonizer/py_harmonizer/lib/python3.11/site-packages/hmmlearn/base.py:352\u001b[0m, in \u001b[0;36m_AbstractHMM.decode\u001b[0;34m(self, X, lengths, algorithm)\u001b[0m\n\u001b[1;32m    349\u001b[0m sub_state_sequences \u001b[38;5;241m=\u001b[39m []\n\u001b[1;32m    350\u001b[0m \u001b[38;5;28;01mfor\u001b[39;00m sub_X \u001b[38;5;129;01min\u001b[39;00m _utils\u001b[38;5;241m.\u001b[39msplit_X_lengths(X, lengths):\n\u001b[1;32m    351\u001b[0m     \u001b[38;5;66;03m# XXX decoder works on a single sample at a time!\u001b[39;00m\n\u001b[0;32m--> 352\u001b[0m     sub_log_prob, sub_state_sequence \u001b[38;5;241m=\u001b[39m \u001b[43mdecoder\u001b[49m\u001b[43m(\u001b[49m\u001b[43msub_X\u001b[49m\u001b[43m)\u001b[49m\n\u001b[1;32m    353\u001b[0m     log_prob \u001b[38;5;241m+\u001b[39m\u001b[38;5;241m=\u001b[39m sub_log_prob\n\u001b[1;32m    354\u001b[0m     sub_state_sequences\u001b[38;5;241m.\u001b[39mappend(sub_state_sequence)\n",
      "File \u001b[0;32m~/Documents/projects/auto-harmonizer/py_harmonizer/lib/python3.11/site-packages/hmmlearn/base.py:291\u001b[0m, in \u001b[0;36m_AbstractHMM._decode_viterbi\u001b[0;34m(self, X)\u001b[0m\n\u001b[1;32m    290\u001b[0m \u001b[38;5;28;01mdef\u001b[39;00m\u001b[38;5;250m \u001b[39m\u001b[38;5;21m_decode_viterbi\u001b[39m(\u001b[38;5;28mself\u001b[39m, X):\n\u001b[0;32m--> 291\u001b[0m     log_frameprob \u001b[38;5;241m=\u001b[39m \u001b[38;5;28;43mself\u001b[39;49m\u001b[38;5;241;43m.\u001b[39;49m\u001b[43m_compute_log_likelihood\u001b[49m\u001b[43m(\u001b[49m\u001b[43mX\u001b[49m\u001b[43m)\u001b[49m\n\u001b[1;32m    292\u001b[0m     \u001b[38;5;28;01mreturn\u001b[39;00m _hmmc\u001b[38;5;241m.\u001b[39mviterbi(\u001b[38;5;28mself\u001b[39m\u001b[38;5;241m.\u001b[39mstartprob_, \u001b[38;5;28mself\u001b[39m\u001b[38;5;241m.\u001b[39mtransmat_, log_frameprob)\n",
      "File \u001b[0;32m~/Documents/projects/auto-harmonizer/py_harmonizer/lib/python3.11/site-packages/hmmlearn/base.py:620\u001b[0m, in \u001b[0;36m_AbstractHMM._compute_log_likelihood\u001b[0;34m(self, X)\u001b[0m\n\u001b[1;32m    603\u001b[0m \u001b[38;5;250m\u001b[39m\u001b[38;5;124;03m\"\"\"\u001b[39;00m\n\u001b[1;32m    604\u001b[0m \u001b[38;5;124;03mCompute per-component emission log probability under the model.\u001b[39;00m\n\u001b[1;32m    605\u001b[0m \n\u001b[0;32m   (...)\u001b[0m\n\u001b[1;32m    615\u001b[0m \u001b[38;5;124;03m    model states, i.e., ``log(p(X|state))``.\u001b[39;00m\n\u001b[1;32m    616\u001b[0m \u001b[38;5;124;03m\"\"\"\u001b[39;00m\n\u001b[1;32m    617\u001b[0m \u001b[38;5;28;01mif\u001b[39;00m (\u001b[38;5;28mself\u001b[39m\u001b[38;5;241m.\u001b[39m_compute_likelihood  \u001b[38;5;66;03m# prevent recursion\u001b[39;00m\n\u001b[1;32m    618\u001b[0m         \u001b[38;5;241m!=\u001b[39m \u001b[38;5;18m__class__\u001b[39m\u001b[38;5;241m.\u001b[39m_compute_likelihood\u001b[38;5;241m.\u001b[39m\u001b[38;5;21m__get__\u001b[39m(\u001b[38;5;28mself\u001b[39m)):\n\u001b[1;32m    619\u001b[0m     \u001b[38;5;66;03m# Probabilities equal to zero do occur, and log(0) = -inf is OK.\u001b[39;00m\n\u001b[0;32m--> 620\u001b[0m     likelihood \u001b[38;5;241m=\u001b[39m \u001b[38;5;28;43mself\u001b[39;49m\u001b[38;5;241;43m.\u001b[39;49m\u001b[43m_compute_likelihood\u001b[49m\u001b[43m(\u001b[49m\u001b[43mX\u001b[49m\u001b[43m)\u001b[49m\n\u001b[1;32m    621\u001b[0m     \u001b[38;5;28;01mwith\u001b[39;00m np\u001b[38;5;241m.\u001b[39merrstate(divide\u001b[38;5;241m=\u001b[39m\u001b[38;5;124m\"\u001b[39m\u001b[38;5;124mignore\u001b[39m\u001b[38;5;124m\"\u001b[39m):\n\u001b[1;32m    622\u001b[0m         \u001b[38;5;28;01mreturn\u001b[39;00m np\u001b[38;5;241m.\u001b[39mlog(likelihood)\n",
      "File \u001b[0;32m~/Documents/projects/auto-harmonizer/py_harmonizer/lib/python3.11/site-packages/hmmlearn/_emissions.py:84\u001b[0m, in \u001b[0;36mBaseCategoricalHMM._compute_likelihood\u001b[0;34m(self, X)\u001b[0m\n\u001b[1;32m     81\u001b[0m     warnings\u001b[38;5;241m.\u001b[39mwarn(\u001b[38;5;124m\"\u001b[39m\u001b[38;5;124mInputs of shape other than (n_samples, 1) are \u001b[39m\u001b[38;5;124m\"\u001b[39m\n\u001b[1;32m     82\u001b[0m                   \u001b[38;5;124m\"\u001b[39m\u001b[38;5;124mdeprecated.\u001b[39m\u001b[38;5;124m\"\u001b[39m, \u001b[38;5;167;01mDeprecationWarning\u001b[39;00m)\n\u001b[1;32m     83\u001b[0m     X \u001b[38;5;241m=\u001b[39m np\u001b[38;5;241m.\u001b[39mconcatenate(X)[:, \u001b[38;5;28;01mNone\u001b[39;00m]\n\u001b[0;32m---> 84\u001b[0m \u001b[38;5;28;01mreturn\u001b[39;00m \u001b[38;5;28;43mself\u001b[39;49m\u001b[38;5;241;43m.\u001b[39;49m\u001b[43memissionprob_\u001b[49m\u001b[43m[\u001b[49m\u001b[43m:\u001b[49m\u001b[43m,\u001b[49m\u001b[43m \u001b[49m\u001b[43mX\u001b[49m\u001b[38;5;241;43m.\u001b[39;49m\u001b[43msqueeze\u001b[49m\u001b[43m(\u001b[49m\u001b[38;5;241;43m1\u001b[39;49m\u001b[43m)\u001b[49m\u001b[43m]\u001b[49m\u001b[38;5;241m.\u001b[39mT\n",
      "\u001b[0;31mIndexError\u001b[0m: index 82 is out of bounds for axis 1 with size 24"
     ]
    }
   ],
   "source": [
    "likelihood, pred_states = model.decode(observation_indices.reshape(-1, 1))\n",
    "pred_states"
   ]
  },
  {
   "cell_type": "code",
   "execution_count": null,
   "metadata": {},
   "outputs": [],
   "source": []
  }
 ],
 "metadata": {
  "kernelspec": {
   "display_name": "py_harmonizer",
   "language": "python",
   "name": "python3"
  },
  "language_info": {
   "codemirror_mode": {
    "name": "ipython",
    "version": 3
   },
   "file_extension": ".py",
   "mimetype": "text/x-python",
   "name": "python",
   "nbconvert_exporter": "python",
   "pygments_lexer": "ipython3",
   "version": "3.11.2"
  }
 },
 "nbformat": 4,
 "nbformat_minor": 2
}
