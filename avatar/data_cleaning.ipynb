{
 "cells": [
  {
   "cell_type": "markdown",
   "metadata": {},
   "source": [
    "# Data Cleaning for Avatar: The Last Airbender Dataset\n",
    "    by Adam Ward"
   ]
  },
  {
   "cell_type": "code",
   "execution_count": 25,
   "metadata": {},
   "outputs": [],
   "source": [
    "import pandas as pd \n",
    "import re\n",
    "import matplotlib.pyplot as plt"
   ]
  },
  {
   "cell_type": "code",
   "execution_count": 26,
   "metadata": {},
   "outputs": [],
   "source": [
    "# load in the data\n",
    "data = pd.read_csv(\"ATLA-episodes-scripts.csv\")"
   ]
  },
  {
   "cell_type": "code",
   "execution_count": 27,
   "metadata": {},
   "outputs": [],
   "source": [
    "# cleaning function from the Kaggle notebook\n",
    "def clean_tweet(tweet):\n",
    "    if type(tweet) == float:\n",
    "        return \"\"\n",
    "    temp = tweet.lower()\n",
    "    temp = re.sub(\"'\", \"\", temp) # to avoid removing contractions in english\n",
    "    temp = re.sub(\"@[A-Za-z0-9_]+\",\"\", temp)\n",
    "    temp = re.sub(\"#\",\"\", temp)\n",
    "    temp = re.sub(r'http\\S+', '', temp)\n",
    "    temp = re.sub('[()!?]', ' ', temp)\n",
    "    temp = re.sub('\\[.*?\\]',' ', temp)\n",
    "    temp = re.sub(\"[^a-z0-9]\",\" \", temp)\n",
    "    \n",
    "    return temp"
   ]
  },
  {
   "cell_type": "code",
   "execution_count": 28,
   "metadata": {},
   "outputs": [],
   "source": [
    "# clean the data and put it in the correct format for the model\n",
    "data['script'] = data['script'].map(lambda x : clean_tweet(x))"
   ]
  },
  {
   "cell_type": "code",
   "execution_count": 29,
   "metadata": {},
   "outputs": [],
   "source": [
    "# helper function for finding specific character lines\n",
    "def create_individual_mask(substring, full_string_column):\n",
    "    # Use apply to check each element in the column\n",
    "    return full_string_column.apply(lambda x: bool(re.search(re.escape(substring), x)))\n",
    "\n",
    "# helper function for creating a datafram of only a certain list of characters\n",
    "def create_full_mask(substrings, full_string_column):\n",
    "    # Create a regex pattern from the list of substrings\n",
    "    pattern = '|'.join(re.escape(substring) for substring in substrings)\n",
    "    \n",
    "    # Use apply to check each element in the column\n",
    "    return full_string_column.apply(lambda x: False if re.search(r'\\b(Actor|Actress)\\b', x) else bool(re.search(pattern, x)))\n",
    "\n",
    "# drop nan rows containing descriptions and the Book and episode columns\n",
    "data.dropna(inplace=True)\n",
    "data.drop(columns=[\"Book\", \"ep_number\"], inplace=True)\n",
    "\n",
    "# rename the script column to match the Kaggle dataset\n",
    "data.rename(columns={\"script\":\"Text\"}, inplace=True)"
   ]
  },
  {
   "cell_type": "code",
   "execution_count": null,
   "metadata": {},
   "outputs": [],
   "source": [
    "# create a dataset with only the main characters\n",
    "main_chars = [\"Sokka\", \"Katara\", \"Zuko\", \"Iroh\", \"Aang\", \"Toph\", \"Azula\"]\n",
    "sub_data = data[create_full_mask(main_chars, data[\"Character\"])]\n",
    "\n",
    "# create the Label column and fill it with temporary values\n",
    "sub_data.loc[:,\"Label\"] = \"positive\"\n",
    "\n",
    "# export dataset to CSV for analysis on Kaggle notebook\n",
    "sub_data.to_csv(\"atla_script.csv\")"
   ]
  }
 ],
 "metadata": {
  "kernelspec": {
   "display_name": "Python 3",
   "language": "python",
   "name": "python3"
  },
  "language_info": {
   "codemirror_mode": {
    "name": "ipython",
    "version": 3
   },
   "file_extension": ".py",
   "mimetype": "text/x-python",
   "name": "python",
   "nbconvert_exporter": "python",
   "pygments_lexer": "ipython3",
   "version": "3.10.12"
  }
 },
 "nbformat": 4,
 "nbformat_minor": 2
}
