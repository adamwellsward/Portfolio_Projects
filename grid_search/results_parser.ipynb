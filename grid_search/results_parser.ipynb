{
 "cells": [
  {
   "cell_type": "code",
   "execution_count": 34,
   "metadata": {},
   "outputs": [],
   "source": [
    "# !pip install plotly"
   ]
  },
  {
   "cell_type": "code",
   "execution_count": 36,
   "metadata": {},
   "outputs": [],
   "source": [
    "import glob\n",
    "import numpy as np\n",
    "import pandas as pd\n",
    "import plotly.express as px"
   ]
  },
  {
   "cell_type": "code",
   "execution_count": 13,
   "metadata": {},
   "outputs": [
    {
     "name": "stdout",
     "output_type": "stream",
     "text": [
      "75\n",
      "{'Accuracy': '0.4491618947086279', 'n_chords': '1', 'n_melody': '0', 't_prior': '1037.5', 'e_prior': '1037.5'}\n"
     ]
    }
   ],
   "source": [
    "files = glob.glob('./grid_search/*.txt')\n",
    "accuracies_list = []\n",
    "\n",
    "# Go through all the files\n",
    "for file in files:\n",
    "    with open(file) as f:\n",
    "        data_point = {}\n",
    "        for line in f:\n",
    "\n",
    "            # stop if we run into the line that starts the predicted states print\n",
    "            if '~' not in line:\n",
    "                if line == '\\n':\n",
    "                    pass\n",
    "                else:\n",
    "                    # save the params for this point\n",
    "                    info = line.strip('\\n').split(': ')\n",
    "                    data_point[f'{info[0]}']= f'{info[1]}'\n",
    "            else:\n",
    "                break\n",
    "        accuracies_list.append(data_point)\n",
    "\n",
    "print(len(accuracies_list))\n",
    "print(accuracies_list[0])"
   ]
  },
  {
   "cell_type": "code",
   "execution_count": 52,
   "metadata": {},
   "outputs": [
    {
     "data": {
      "text/html": [
       "<style type=\"text/css\">\n",
       "#T_80abc_row0_col0 {\n",
       "  background-color: #f1e51d;\n",
       "  color: #000000;\n",
       "}\n",
       "#T_80abc_row1_col0, #T_80abc_row5_col0, #T_80abc_row16_col0 {\n",
       "  background-color: #c5e021;\n",
       "  color: #000000;\n",
       "}\n",
       "#T_80abc_row2_col0, #T_80abc_row18_col0, #T_80abc_row43_col0, #T_80abc_row47_col0, #T_80abc_row63_col0 {\n",
       "  background-color: #e7e419;\n",
       "  color: #000000;\n",
       "}\n",
       "#T_80abc_row3_col0, #T_80abc_row4_col0 {\n",
       "  background-color: #d5e21a;\n",
       "  color: #000000;\n",
       "}\n",
       "#T_80abc_row6_col0, #T_80abc_row15_col0 {\n",
       "  background-color: #bade28;\n",
       "  color: #000000;\n",
       "}\n",
       "#T_80abc_row7_col0, #T_80abc_row8_col0, #T_80abc_row22_col0, #T_80abc_row25_col0, #T_80abc_row54_col0, #T_80abc_row66_col0 {\n",
       "  background-color: #dde318;\n",
       "  color: #000000;\n",
       "}\n",
       "#T_80abc_row9_col0, #T_80abc_row23_col0, #T_80abc_row32_col0, #T_80abc_row35_col0 {\n",
       "  background-color: #d0e11c;\n",
       "  color: #000000;\n",
       "}\n",
       "#T_80abc_row10_col0 {\n",
       "  background-color: #e2e418;\n",
       "  color: #000000;\n",
       "}\n",
       "#T_80abc_row11_col0 {\n",
       "  background-color: #f8e621;\n",
       "  color: #000000;\n",
       "}\n",
       "#T_80abc_row12_col0, #T_80abc_row44_col0 {\n",
       "  background-color: #fbe723;\n",
       "  color: #000000;\n",
       "}\n",
       "#T_80abc_row13_col0 {\n",
       "  background-color: #3dbc74;\n",
       "  color: #f1f1f1;\n",
       "}\n",
       "#T_80abc_row14_col0, #T_80abc_row31_col0, #T_80abc_row45_col0, #T_80abc_row61_col0 {\n",
       "  background-color: #f6e620;\n",
       "  color: #000000;\n",
       "}\n",
       "#T_80abc_row17_col0, #T_80abc_row42_col0, #T_80abc_row68_col0 {\n",
       "  background-color: #d2e21b;\n",
       "  color: #000000;\n",
       "}\n",
       "#T_80abc_row19_col0, #T_80abc_row29_col0, #T_80abc_row33_col0, #T_80abc_row48_col0, #T_80abc_row73_col0 {\n",
       "  background-color: #d8e219;\n",
       "  color: #000000;\n",
       "}\n",
       "#T_80abc_row20_col0, #T_80abc_row38_col0, #T_80abc_row71_col0 {\n",
       "  background-color: #eae51a;\n",
       "  color: #000000;\n",
       "}\n",
       "#T_80abc_row21_col0, #T_80abc_row26_col0, #T_80abc_row46_col0, #T_80abc_row65_col0 {\n",
       "  background-color: #460b5e;\n",
       "  color: #f1f1f1;\n",
       "}\n",
       "#T_80abc_row24_col0, #T_80abc_row69_col0 {\n",
       "  background-color: #c2df23;\n",
       "  color: #000000;\n",
       "}\n",
       "#T_80abc_row27_col0, #T_80abc_row49_col0 {\n",
       "  background-color: #ece51b;\n",
       "  color: #000000;\n",
       "}\n",
       "#T_80abc_row28_col0, #T_80abc_row58_col0 {\n",
       "  background-color: #b8de29;\n",
       "  color: #000000;\n",
       "}\n",
       "#T_80abc_row30_col0, #T_80abc_row62_col0, #T_80abc_row74_col0 {\n",
       "  background-color: #dfe318;\n",
       "  color: #000000;\n",
       "}\n",
       "#T_80abc_row34_col0 {\n",
       "  background-color: #f4e61e;\n",
       "  color: #000000;\n",
       "}\n",
       "#T_80abc_row36_col0, #T_80abc_row50_col0, #T_80abc_row53_col0 {\n",
       "  background-color: #fde725;\n",
       "  color: #000000;\n",
       "}\n",
       "#T_80abc_row37_col0, #T_80abc_row55_col0 {\n",
       "  background-color: #cde11d;\n",
       "  color: #000000;\n",
       "}\n",
       "#T_80abc_row39_col0 {\n",
       "  background-color: #93d741;\n",
       "  color: #000000;\n",
       "}\n",
       "#T_80abc_row40_col0, #T_80abc_row52_col0, #T_80abc_row70_col0 {\n",
       "  background-color: #efe51c;\n",
       "  color: #000000;\n",
       "}\n",
       "#T_80abc_row41_col0, #T_80abc_row60_col0 {\n",
       "  background-color: #e5e419;\n",
       "  color: #000000;\n",
       "}\n",
       "#T_80abc_row51_col0, #T_80abc_row56_col0 {\n",
       "  background-color: #c8e020;\n",
       "  color: #000000;\n",
       "}\n",
       "#T_80abc_row57_col0 {\n",
       "  background-color: #cae11f;\n",
       "  color: #000000;\n",
       "}\n",
       "#T_80abc_row59_col0 {\n",
       "  background-color: #c0df25;\n",
       "  color: #000000;\n",
       "}\n",
       "#T_80abc_row64_col0 {\n",
       "  background-color: #bddf26;\n",
       "  color: #000000;\n",
       "}\n",
       "#T_80abc_row67_col0 {\n",
       "  background-color: #dae319;\n",
       "  color: #000000;\n",
       "}\n",
       "#T_80abc_row72_col0 {\n",
       "  background-color: #440154;\n",
       "  color: #f1f1f1;\n",
       "}\n",
       "</style>\n",
       "<table id=\"T_80abc\">\n",
       "  <thead>\n",
       "    <tr>\n",
       "      <th class=\"blank level0\" >&nbsp;</th>\n",
       "      <th id=\"T_80abc_level0_col0\" class=\"col_heading level0 col0\" >Accuracy</th>\n",
       "      <th id=\"T_80abc_level0_col1\" class=\"col_heading level0 col1\" >n_chords</th>\n",
       "      <th id=\"T_80abc_level0_col2\" class=\"col_heading level0 col2\" >n_melody</th>\n",
       "      <th id=\"T_80abc_level0_col3\" class=\"col_heading level0 col3\" >t_prior</th>\n",
       "      <th id=\"T_80abc_level0_col4\" class=\"col_heading level0 col4\" >e_prior</th>\n",
       "    </tr>\n",
       "  </thead>\n",
       "  <tbody>\n",
       "    <tr>\n",
       "      <th id=\"T_80abc_level0_row0\" class=\"row_heading level0 row0\" >0</th>\n",
       "      <td id=\"T_80abc_row0_col0\" class=\"data row0 col0\" >0.449200</td>\n",
       "      <td id=\"T_80abc_row0_col1\" class=\"data row0 col1\" >1</td>\n",
       "      <td id=\"T_80abc_row0_col2\" class=\"data row0 col2\" >0</td>\n",
       "      <td id=\"T_80abc_row0_col3\" class=\"data row0 col3\" >1037.5</td>\n",
       "      <td id=\"T_80abc_row0_col4\" class=\"data row0 col4\" >1037.5</td>\n",
       "    </tr>\n",
       "    <tr>\n",
       "      <th id=\"T_80abc_level0_row1\" class=\"row_heading level0 row1\" >1</th>\n",
       "      <td id=\"T_80abc_row1_col0\" class=\"data row1 col0\" >0.419800</td>\n",
       "      <td id=\"T_80abc_row1_col1\" class=\"data row1 col1\" >2</td>\n",
       "      <td id=\"T_80abc_row1_col2\" class=\"data row1 col2\" >0</td>\n",
       "      <td id=\"T_80abc_row1_col3\" class=\"data row1 col3\" >300.0</td>\n",
       "      <td id=\"T_80abc_row1_col4\" class=\"data row1 col4\" >0.0</td>\n",
       "    </tr>\n",
       "    <tr>\n",
       "      <th id=\"T_80abc_level0_row2\" class=\"row_heading level0 row2\" >2</th>\n",
       "      <td id=\"T_80abc_row2_col0\" class=\"data row2 col0\" >0.442900</td>\n",
       "      <td id=\"T_80abc_row2_col1\" class=\"data row2 col1\" >1</td>\n",
       "      <td id=\"T_80abc_row2_col2\" class=\"data row2 col2\" >0</td>\n",
       "      <td id=\"T_80abc_row2_col3\" class=\"data row2 col3\" >1037.5</td>\n",
       "      <td id=\"T_80abc_row2_col4\" class=\"data row2 col4\" >2025.0</td>\n",
       "    </tr>\n",
       "    <tr>\n",
       "      <th id=\"T_80abc_level0_row3\" class=\"row_heading level0 row3\" >3</th>\n",
       "      <td id=\"T_80abc_row3_col0\" class=\"data row3 col0\" >0.430400</td>\n",
       "      <td id=\"T_80abc_row3_col1\" class=\"data row3 col1\" >1</td>\n",
       "      <td id=\"T_80abc_row3_col2\" class=\"data row3 col2\" >1</td>\n",
       "      <td id=\"T_80abc_row3_col3\" class=\"data row3 col3\" >30.0</td>\n",
       "      <td id=\"T_80abc_row3_col4\" class=\"data row3 col4\" >7.5</td>\n",
       "    </tr>\n",
       "    <tr>\n",
       "      <th id=\"T_80abc_level0_row4\" class=\"row_heading level0 row4\" >4</th>\n",
       "      <td id=\"T_80abc_row4_col0\" class=\"data row4 col0\" >0.430400</td>\n",
       "      <td id=\"T_80abc_row4_col1\" class=\"data row4 col1\" >2</td>\n",
       "      <td id=\"T_80abc_row4_col2\" class=\"data row4 col2\" >0</td>\n",
       "      <td id=\"T_80abc_row4_col3\" class=\"data row4 col3\" >160.0</td>\n",
       "      <td id=\"T_80abc_row4_col4\" class=\"data row4 col4\" >150.0</td>\n",
       "    </tr>\n",
       "    <tr>\n",
       "      <th id=\"T_80abc_level0_row5\" class=\"row_heading level0 row5\" >5</th>\n",
       "      <td id=\"T_80abc_row5_col0\" class=\"data row5 col0\" >0.420500</td>\n",
       "      <td id=\"T_80abc_row5_col1\" class=\"data row5 col1\" >1</td>\n",
       "      <td id=\"T_80abc_row5_col2\" class=\"data row5 col2\" >0</td>\n",
       "      <td id=\"T_80abc_row5_col3\" class=\"data row5 col3\" >4000.0</td>\n",
       "      <td id=\"T_80abc_row5_col4\" class=\"data row5 col4\" >3012.5</td>\n",
       "    </tr>\n",
       "    <tr>\n",
       "      <th id=\"T_80abc_level0_row6\" class=\"row_heading level0 row6\" >6</th>\n",
       "      <td id=\"T_80abc_row6_col0\" class=\"data row6 col0\" >0.413200</td>\n",
       "      <td id=\"T_80abc_row6_col1\" class=\"data row6 col1\" >2</td>\n",
       "      <td id=\"T_80abc_row6_col2\" class=\"data row6 col2\" >0</td>\n",
       "      <td id=\"T_80abc_row6_col3\" class=\"data row6 col3\" >300.0</td>\n",
       "      <td id=\"T_80abc_row6_col4\" class=\"data row6 col4\" >225.0</td>\n",
       "    </tr>\n",
       "    <tr>\n",
       "      <th id=\"T_80abc_level0_row7\" class=\"row_heading level0 row7\" >7</th>\n",
       "      <td id=\"T_80abc_row7_col0\" class=\"data row7 col0\" >0.435600</td>\n",
       "      <td id=\"T_80abc_row7_col1\" class=\"data row7 col1\" >2</td>\n",
       "      <td id=\"T_80abc_row7_col2\" class=\"data row7 col2\" >0</td>\n",
       "      <td id=\"T_80abc_row7_col3\" class=\"data row7 col3\" >160.0</td>\n",
       "      <td id=\"T_80abc_row7_col4\" class=\"data row7 col4\" >0.0</td>\n",
       "    </tr>\n",
       "    <tr>\n",
       "      <th id=\"T_80abc_level0_row8\" class=\"row_heading level0 row8\" >8</th>\n",
       "      <td id=\"T_80abc_row8_col0\" class=\"data row8 col0\" >0.435100</td>\n",
       "      <td id=\"T_80abc_row8_col1\" class=\"data row8 col1\" >2</td>\n",
       "      <td id=\"T_80abc_row8_col2\" class=\"data row8 col2\" >0</td>\n",
       "      <td id=\"T_80abc_row8_col3\" class=\"data row8 col3\" >20.0</td>\n",
       "      <td id=\"T_80abc_row8_col4\" class=\"data row8 col4\" >300.0</td>\n",
       "    </tr>\n",
       "    <tr>\n",
       "      <th id=\"T_80abc_level0_row9\" class=\"row_heading level0 row9\" >9</th>\n",
       "      <td id=\"T_80abc_row9_col0\" class=\"data row9 col0\" >0.426300</td>\n",
       "      <td id=\"T_80abc_row9_col1\" class=\"data row9 col1\" >1</td>\n",
       "      <td id=\"T_80abc_row9_col2\" class=\"data row9 col2\" >0</td>\n",
       "      <td id=\"T_80abc_row9_col3\" class=\"data row9 col3\" >3012.5</td>\n",
       "      <td id=\"T_80abc_row9_col4\" class=\"data row9 col4\" >3012.5</td>\n",
       "    </tr>\n",
       "    <tr>\n",
       "      <th id=\"T_80abc_level0_row10\" class=\"row_heading level0 row10\" >10</th>\n",
       "      <td id=\"T_80abc_row10_col0\" class=\"data row10 col0\" >0.438400</td>\n",
       "      <td id=\"T_80abc_row10_col1\" class=\"data row10 col1\" >2</td>\n",
       "      <td id=\"T_80abc_row10_col2\" class=\"data row10 col2\" >0</td>\n",
       "      <td id=\"T_80abc_row10_col3\" class=\"data row10 col3\" >90.0</td>\n",
       "      <td id=\"T_80abc_row10_col4\" class=\"data row10 col4\" >225.0</td>\n",
       "    </tr>\n",
       "    <tr>\n",
       "      <th id=\"T_80abc_level0_row11\" class=\"row_heading level0 row11\" >11</th>\n",
       "      <td id=\"T_80abc_row11_col0\" class=\"data row11 col0\" >0.454800</td>\n",
       "      <td id=\"T_80abc_row11_col1\" class=\"data row11 col1\" >1</td>\n",
       "      <td id=\"T_80abc_row11_col2\" class=\"data row11 col2\" >1</td>\n",
       "      <td id=\"T_80abc_row11_col3\" class=\"data row11 col3\" >7.5</td>\n",
       "      <td id=\"T_80abc_row11_col4\" class=\"data row11 col4\" >7.5</td>\n",
       "    </tr>\n",
       "    <tr>\n",
       "      <th id=\"T_80abc_level0_row12\" class=\"row_heading level0 row12\" >12</th>\n",
       "      <td id=\"T_80abc_row12_col0\" class=\"data row12 col0\" >0.457300</td>\n",
       "      <td id=\"T_80abc_row12_col1\" class=\"data row12 col1\" >1</td>\n",
       "      <td id=\"T_80abc_row12_col2\" class=\"data row12 col2\" >1</td>\n",
       "      <td id=\"T_80abc_row12_col3\" class=\"data row12 col3\" >0.0</td>\n",
       "      <td id=\"T_80abc_row12_col4\" class=\"data row12 col4\" >30.0</td>\n",
       "    </tr>\n",
       "    <tr>\n",
       "      <th id=\"T_80abc_level0_row13\" class=\"row_heading level0 row13\" >13</th>\n",
       "      <td id=\"T_80abc_row13_col0\" class=\"data row13 col0\" >0.316200</td>\n",
       "      <td id=\"T_80abc_row13_col1\" class=\"data row13 col1\" >1</td>\n",
       "      <td id=\"T_80abc_row13_col2\" class=\"data row13 col2\" >0</td>\n",
       "      <td id=\"T_80abc_row13_col3\" class=\"data row13 col3\" >50.0</td>\n",
       "      <td id=\"T_80abc_row13_col4\" class=\"data row13 col4\" >50.0</td>\n",
       "    </tr>\n",
       "    <tr>\n",
       "      <th id=\"T_80abc_level0_row14\" class=\"row_heading level0 row14\" >14</th>\n",
       "      <td id=\"T_80abc_row14_col0\" class=\"data row14 col0\" >0.452600</td>\n",
       "      <td id=\"T_80abc_row14_col1\" class=\"data row14 col1\" >1</td>\n",
       "      <td id=\"T_80abc_row14_col2\" class=\"data row14 col2\" >1</td>\n",
       "      <td id=\"T_80abc_row14_col3\" class=\"data row14 col3\" >7.5</td>\n",
       "      <td id=\"T_80abc_row14_col4\" class=\"data row14 col4\" >22.5</td>\n",
       "    </tr>\n",
       "    <tr>\n",
       "      <th id=\"T_80abc_level0_row15\" class=\"row_heading level0 row15\" >15</th>\n",
       "      <td id=\"T_80abc_row15_col0\" class=\"data row15 col0\" >0.411800</td>\n",
       "      <td id=\"T_80abc_row15_col1\" class=\"data row15 col1\" >2</td>\n",
       "      <td id=\"T_80abc_row15_col2\" class=\"data row15 col2\" >0</td>\n",
       "      <td id=\"T_80abc_row15_col3\" class=\"data row15 col3\" >20.0</td>\n",
       "      <td id=\"T_80abc_row15_col4\" class=\"data row15 col4\" >75.0</td>\n",
       "    </tr>\n",
       "    <tr>\n",
       "      <th id=\"T_80abc_level0_row16\" class=\"row_heading level0 row16\" >16</th>\n",
       "      <td id=\"T_80abc_row16_col0\" class=\"data row16 col0\" >0.420300</td>\n",
       "      <td id=\"T_80abc_row16_col1\" class=\"data row16 col1\" >2</td>\n",
       "      <td id=\"T_80abc_row16_col2\" class=\"data row16 col2\" >0</td>\n",
       "      <td id=\"T_80abc_row16_col3\" class=\"data row16 col3\" >230.0</td>\n",
       "      <td id=\"T_80abc_row16_col4\" class=\"data row16 col4\" >225.0</td>\n",
       "    </tr>\n",
       "    <tr>\n",
       "      <th id=\"T_80abc_level0_row17\" class=\"row_heading level0 row17\" >17</th>\n",
       "      <td id=\"T_80abc_row17_col0\" class=\"data row17 col0\" >0.428700</td>\n",
       "      <td id=\"T_80abc_row17_col1\" class=\"data row17 col1\" >1</td>\n",
       "      <td id=\"T_80abc_row17_col2\" class=\"data row17 col2\" >0</td>\n",
       "      <td id=\"T_80abc_row17_col3\" class=\"data row17 col3\" >1037.5</td>\n",
       "      <td id=\"T_80abc_row17_col4\" class=\"data row17 col4\" >4000.0</td>\n",
       "    </tr>\n",
       "    <tr>\n",
       "      <th id=\"T_80abc_level0_row18\" class=\"row_heading level0 row18\" >18</th>\n",
       "      <td id=\"T_80abc_row18_col0\" class=\"data row18 col0\" >0.442500</td>\n",
       "      <td id=\"T_80abc_row18_col1\" class=\"data row18 col1\" >1</td>\n",
       "      <td id=\"T_80abc_row18_col2\" class=\"data row18 col2\" >1</td>\n",
       "      <td id=\"T_80abc_row18_col3\" class=\"data row18 col3\" >15.0</td>\n",
       "      <td id=\"T_80abc_row18_col4\" class=\"data row18 col4\" >30.0</td>\n",
       "    </tr>\n",
       "    <tr>\n",
       "      <th id=\"T_80abc_level0_row19\" class=\"row_heading level0 row19\" >19</th>\n",
       "      <td id=\"T_80abc_row19_col0\" class=\"data row19 col0\" >0.432800</td>\n",
       "      <td id=\"T_80abc_row19_col1\" class=\"data row19 col1\" >2</td>\n",
       "      <td id=\"T_80abc_row19_col2\" class=\"data row19 col2\" >0</td>\n",
       "      <td id=\"T_80abc_row19_col3\" class=\"data row19 col3\" >160.0</td>\n",
       "      <td id=\"T_80abc_row19_col4\" class=\"data row19 col4\" >75.0</td>\n",
       "    </tr>\n",
       "    <tr>\n",
       "      <th id=\"T_80abc_level0_row20\" class=\"row_heading level0 row20\" >20</th>\n",
       "      <td id=\"T_80abc_row20_col0\" class=\"data row20 col0\" >0.445300</td>\n",
       "      <td id=\"T_80abc_row20_col1\" class=\"data row20 col1\" >2</td>\n",
       "      <td id=\"T_80abc_row20_col2\" class=\"data row20 col2\" >0</td>\n",
       "      <td id=\"T_80abc_row20_col3\" class=\"data row20 col3\" >90.0</td>\n",
       "      <td id=\"T_80abc_row20_col4\" class=\"data row20 col4\" >0.0</td>\n",
       "    </tr>\n",
       "    <tr>\n",
       "      <th id=\"T_80abc_level0_row21\" class=\"row_heading level0 row21\" >21</th>\n",
       "      <td id=\"T_80abc_row21_col0\" class=\"data row21 col0\" >0.018200</td>\n",
       "      <td id=\"T_80abc_row21_col1\" class=\"data row21 col1\" >1</td>\n",
       "      <td id=\"T_80abc_row21_col2\" class=\"data row21 col2\" >1</td>\n",
       "      <td id=\"T_80abc_row21_col3\" class=\"data row21 col3\" >30.0</td>\n",
       "      <td id=\"T_80abc_row21_col4\" class=\"data row21 col4\" >0.0</td>\n",
       "    </tr>\n",
       "    <tr>\n",
       "      <th id=\"T_80abc_level0_row22\" class=\"row_heading level0 row22\" >22</th>\n",
       "      <td id=\"T_80abc_row22_col0\" class=\"data row22 col0\" >0.436400</td>\n",
       "      <td id=\"T_80abc_row22_col1\" class=\"data row22 col1\" >2</td>\n",
       "      <td id=\"T_80abc_row22_col2\" class=\"data row22 col2\" >0</td>\n",
       "      <td id=\"T_80abc_row22_col3\" class=\"data row22 col3\" >90.0</td>\n",
       "      <td id=\"T_80abc_row22_col4\" class=\"data row22 col4\" >300.0</td>\n",
       "    </tr>\n",
       "    <tr>\n",
       "      <th id=\"T_80abc_level0_row23\" class=\"row_heading level0 row23\" >23</th>\n",
       "      <td id=\"T_80abc_row23_col0\" class=\"data row23 col0\" >0.427500</td>\n",
       "      <td id=\"T_80abc_row23_col1\" class=\"data row23 col1\" >2</td>\n",
       "      <td id=\"T_80abc_row23_col2\" class=\"data row23 col2\" >0</td>\n",
       "      <td id=\"T_80abc_row23_col3\" class=\"data row23 col3\" >230.0</td>\n",
       "      <td id=\"T_80abc_row23_col4\" class=\"data row23 col4\" >0.0</td>\n",
       "    </tr>\n",
       "    <tr>\n",
       "      <th id=\"T_80abc_level0_row24\" class=\"row_heading level0 row24\" >24</th>\n",
       "      <td id=\"T_80abc_row24_col0\" class=\"data row24 col0\" >0.418400</td>\n",
       "      <td id=\"T_80abc_row24_col1\" class=\"data row24 col1\" >2</td>\n",
       "      <td id=\"T_80abc_row24_col2\" class=\"data row24 col2\" >0</td>\n",
       "      <td id=\"T_80abc_row24_col3\" class=\"data row24 col3\" >230.0</td>\n",
       "      <td id=\"T_80abc_row24_col4\" class=\"data row24 col4\" >300.0</td>\n",
       "    </tr>\n",
       "    <tr>\n",
       "      <th id=\"T_80abc_level0_row25\" class=\"row_heading level0 row25\" >25</th>\n",
       "      <td id=\"T_80abc_row25_col0\" class=\"data row25 col0\" >0.434900</td>\n",
       "      <td id=\"T_80abc_row25_col1\" class=\"data row25 col1\" >1</td>\n",
       "      <td id=\"T_80abc_row25_col2\" class=\"data row25 col2\" >1</td>\n",
       "      <td id=\"T_80abc_row25_col3\" class=\"data row25 col3\" >22.5</td>\n",
       "      <td id=\"T_80abc_row25_col4\" class=\"data row25 col4\" >22.5</td>\n",
       "    </tr>\n",
       "    <tr>\n",
       "      <th id=\"T_80abc_level0_row26\" class=\"row_heading level0 row26\" >26</th>\n",
       "      <td id=\"T_80abc_row26_col0\" class=\"data row26 col0\" >0.018900</td>\n",
       "      <td id=\"T_80abc_row26_col1\" class=\"data row26 col1\" >1</td>\n",
       "      <td id=\"T_80abc_row26_col2\" class=\"data row26 col2\" >1</td>\n",
       "      <td id=\"T_80abc_row26_col3\" class=\"data row26 col3\" >7.5</td>\n",
       "      <td id=\"T_80abc_row26_col4\" class=\"data row26 col4\" >0.0</td>\n",
       "    </tr>\n",
       "    <tr>\n",
       "      <th id=\"T_80abc_level0_row27\" class=\"row_heading level0 row27\" >27</th>\n",
       "      <td id=\"T_80abc_row27_col0\" class=\"data row27 col0\" >0.445600</td>\n",
       "      <td id=\"T_80abc_row27_col1\" class=\"data row27 col1\" >1</td>\n",
       "      <td id=\"T_80abc_row27_col2\" class=\"data row27 col2\" >1</td>\n",
       "      <td id=\"T_80abc_row27_col3\" class=\"data row27 col3\" >15.0</td>\n",
       "      <td id=\"T_80abc_row27_col4\" class=\"data row27 col4\" >15.0</td>\n",
       "    </tr>\n",
       "    <tr>\n",
       "      <th id=\"T_80abc_level0_row28\" class=\"row_heading level0 row28\" >28</th>\n",
       "      <td id=\"T_80abc_row28_col0\" class=\"data row28 col0\" >0.411500</td>\n",
       "      <td id=\"T_80abc_row28_col1\" class=\"data row28 col1\" >2</td>\n",
       "      <td id=\"T_80abc_row28_col2\" class=\"data row28 col2\" >0</td>\n",
       "      <td id=\"T_80abc_row28_col3\" class=\"data row28 col3\" >300.0</td>\n",
       "      <td id=\"T_80abc_row28_col4\" class=\"data row28 col4\" >300.0</td>\n",
       "    </tr>\n",
       "    <tr>\n",
       "      <th id=\"T_80abc_level0_row29\" class=\"row_heading level0 row29\" >29</th>\n",
       "      <td id=\"T_80abc_row29_col0\" class=\"data row29 col0\" >0.432500</td>\n",
       "      <td id=\"T_80abc_row29_col1\" class=\"data row29 col1\" >2</td>\n",
       "      <td id=\"T_80abc_row29_col2\" class=\"data row29 col2\" >0</td>\n",
       "      <td id=\"T_80abc_row29_col3\" class=\"data row29 col3\" >20.0</td>\n",
       "      <td id=\"T_80abc_row29_col4\" class=\"data row29 col4\" >225.0</td>\n",
       "    </tr>\n",
       "    <tr>\n",
       "      <th id=\"T_80abc_level0_row30\" class=\"row_heading level0 row30\" >30</th>\n",
       "      <td id=\"T_80abc_row30_col0\" class=\"data row30 col0\" >0.437500</td>\n",
       "      <td id=\"T_80abc_row30_col1\" class=\"data row30 col1\" >1</td>\n",
       "      <td id=\"T_80abc_row30_col2\" class=\"data row30 col2\" >0</td>\n",
       "      <td id=\"T_80abc_row30_col3\" class=\"data row30 col3\" >50.0</td>\n",
       "      <td id=\"T_80abc_row30_col4\" class=\"data row30 col4\" >3012.5</td>\n",
       "    </tr>\n",
       "    <tr>\n",
       "      <th id=\"T_80abc_level0_row31\" class=\"row_heading level0 row31\" >31</th>\n",
       "      <td id=\"T_80abc_row31_col0\" class=\"data row31 col0\" >0.453700</td>\n",
       "      <td id=\"T_80abc_row31_col1\" class=\"data row31 col1\" >1</td>\n",
       "      <td id=\"T_80abc_row31_col2\" class=\"data row31 col2\" >1</td>\n",
       "      <td id=\"T_80abc_row31_col3\" class=\"data row31 col3\" >0.0</td>\n",
       "      <td id=\"T_80abc_row31_col4\" class=\"data row31 col4\" >15.0</td>\n",
       "    </tr>\n",
       "    <tr>\n",
       "      <th id=\"T_80abc_level0_row32\" class=\"row_heading level0 row32\" >32</th>\n",
       "      <td id=\"T_80abc_row32_col0\" class=\"data row32 col0\" >0.426100</td>\n",
       "      <td id=\"T_80abc_row32_col1\" class=\"data row32 col1\" >1</td>\n",
       "      <td id=\"T_80abc_row32_col2\" class=\"data row32 col2\" >1</td>\n",
       "      <td id=\"T_80abc_row32_col3\" class=\"data row32 col3\" >30.0</td>\n",
       "      <td id=\"T_80abc_row32_col4\" class=\"data row32 col4\" >22.5</td>\n",
       "    </tr>\n",
       "    <tr>\n",
       "      <th id=\"T_80abc_level0_row33\" class=\"row_heading level0 row33\" >33</th>\n",
       "      <td id=\"T_80abc_row33_col0\" class=\"data row33 col0\" >0.432200</td>\n",
       "      <td id=\"T_80abc_row33_col1\" class=\"data row33 col1\" >1</td>\n",
       "      <td id=\"T_80abc_row33_col2\" class=\"data row33 col2\" >0</td>\n",
       "      <td id=\"T_80abc_row33_col3\" class=\"data row33 col3\" >2025.0</td>\n",
       "      <td id=\"T_80abc_row33_col4\" class=\"data row33 col4\" >3012.5</td>\n",
       "    </tr>\n",
       "    <tr>\n",
       "      <th id=\"T_80abc_level0_row34\" class=\"row_heading level0 row34\" >34</th>\n",
       "      <td id=\"T_80abc_row34_col0\" class=\"data row34 col0\" >0.451500</td>\n",
       "      <td id=\"T_80abc_row34_col1\" class=\"data row34 col1\" >1</td>\n",
       "      <td id=\"T_80abc_row34_col2\" class=\"data row34 col2\" >1</td>\n",
       "      <td id=\"T_80abc_row34_col3\" class=\"data row34 col3\" >7.5</td>\n",
       "      <td id=\"T_80abc_row34_col4\" class=\"data row34 col4\" >30.0</td>\n",
       "    </tr>\n",
       "    <tr>\n",
       "      <th id=\"T_80abc_level0_row35\" class=\"row_heading level0 row35\" >35</th>\n",
       "      <td id=\"T_80abc_row35_col0\" class=\"data row35 col0\" >0.426800</td>\n",
       "      <td id=\"T_80abc_row35_col1\" class=\"data row35 col1\" >2</td>\n",
       "      <td id=\"T_80abc_row35_col2\" class=\"data row35 col2\" >0</td>\n",
       "      <td id=\"T_80abc_row35_col3\" class=\"data row35 col3\" >160.0</td>\n",
       "      <td id=\"T_80abc_row35_col4\" class=\"data row35 col4\" >300.0</td>\n",
       "    </tr>\n",
       "    <tr>\n",
       "      <th id=\"T_80abc_level0_row36\" class=\"row_heading level0 row36\" >36</th>\n",
       "      <td id=\"T_80abc_row36_col0\" class=\"data row36 col0\" >0.459600</td>\n",
       "      <td id=\"T_80abc_row36_col1\" class=\"data row36 col1\" >1</td>\n",
       "      <td id=\"T_80abc_row36_col2\" class=\"data row36 col2\" >0</td>\n",
       "      <td id=\"T_80abc_row36_col3\" class=\"data row36 col3\" >2025.0</td>\n",
       "      <td id=\"T_80abc_row36_col4\" class=\"data row36 col4\" >50.0</td>\n",
       "    </tr>\n",
       "    <tr>\n",
       "      <th id=\"T_80abc_level0_row37\" class=\"row_heading level0 row37\" >37</th>\n",
       "      <td id=\"T_80abc_row37_col0\" class=\"data row37 col0\" >0.424700</td>\n",
       "      <td id=\"T_80abc_row37_col1\" class=\"data row37 col1\" >2</td>\n",
       "      <td id=\"T_80abc_row37_col2\" class=\"data row37 col2\" >0</td>\n",
       "      <td id=\"T_80abc_row37_col3\" class=\"data row37 col3\" >20.0</td>\n",
       "      <td id=\"T_80abc_row37_col4\" class=\"data row37 col4\" >150.0</td>\n",
       "    </tr>\n",
       "    <tr>\n",
       "      <th id=\"T_80abc_level0_row38\" class=\"row_heading level0 row38\" >38</th>\n",
       "      <td id=\"T_80abc_row38_col0\" class=\"data row38 col0\" >0.444000</td>\n",
       "      <td id=\"T_80abc_row38_col1\" class=\"data row38 col1\" >1</td>\n",
       "      <td id=\"T_80abc_row38_col2\" class=\"data row38 col2\" >1</td>\n",
       "      <td id=\"T_80abc_row38_col3\" class=\"data row38 col3\" >15.0</td>\n",
       "      <td id=\"T_80abc_row38_col4\" class=\"data row38 col4\" >22.5</td>\n",
       "    </tr>\n",
       "    <tr>\n",
       "      <th id=\"T_80abc_level0_row39\" class=\"row_heading level0 row39\" >39</th>\n",
       "      <td id=\"T_80abc_row39_col0\" class=\"data row39 col0\" >0.386400</td>\n",
       "      <td id=\"T_80abc_row39_col1\" class=\"data row39 col1\" >2</td>\n",
       "      <td id=\"T_80abc_row39_col2\" class=\"data row39 col2\" >0</td>\n",
       "      <td id=\"T_80abc_row39_col3\" class=\"data row39 col3\" >20.0</td>\n",
       "      <td id=\"T_80abc_row39_col4\" class=\"data row39 col4\" >0.0</td>\n",
       "    </tr>\n",
       "    <tr>\n",
       "      <th id=\"T_80abc_level0_row40\" class=\"row_heading level0 row40\" >40</th>\n",
       "      <td id=\"T_80abc_row40_col0\" class=\"data row40 col0\" >0.449000</td>\n",
       "      <td id=\"T_80abc_row40_col1\" class=\"data row40 col1\" >1</td>\n",
       "      <td id=\"T_80abc_row40_col2\" class=\"data row40 col2\" >0</td>\n",
       "      <td id=\"T_80abc_row40_col3\" class=\"data row40 col3\" >2025.0</td>\n",
       "      <td id=\"T_80abc_row40_col4\" class=\"data row40 col4\" >1037.5</td>\n",
       "    </tr>\n",
       "    <tr>\n",
       "      <th id=\"T_80abc_level0_row41\" class=\"row_heading level0 row41\" >41</th>\n",
       "      <td id=\"T_80abc_row41_col0\" class=\"data row41 col0\" >0.440300</td>\n",
       "      <td id=\"T_80abc_row41_col1\" class=\"data row41 col1\" >1</td>\n",
       "      <td id=\"T_80abc_row41_col2\" class=\"data row41 col2\" >0</td>\n",
       "      <td id=\"T_80abc_row41_col3\" class=\"data row41 col3\" >2025.0</td>\n",
       "      <td id=\"T_80abc_row41_col4\" class=\"data row41 col4\" >2025.0</td>\n",
       "    </tr>\n",
       "    <tr>\n",
       "      <th id=\"T_80abc_level0_row42\" class=\"row_heading level0 row42\" >42</th>\n",
       "      <td id=\"T_80abc_row42_col0\" class=\"data row42 col0\" >0.428500</td>\n",
       "      <td id=\"T_80abc_row42_col1\" class=\"data row42 col1\" >1</td>\n",
       "      <td id=\"T_80abc_row42_col2\" class=\"data row42 col2\" >1</td>\n",
       "      <td id=\"T_80abc_row42_col3\" class=\"data row42 col3\" >30.0</td>\n",
       "      <td id=\"T_80abc_row42_col4\" class=\"data row42 col4\" >15.0</td>\n",
       "    </tr>\n",
       "    <tr>\n",
       "      <th id=\"T_80abc_level0_row43\" class=\"row_heading level0 row43\" >43</th>\n",
       "      <td id=\"T_80abc_row43_col0\" class=\"data row43 col0\" >0.442200</td>\n",
       "      <td id=\"T_80abc_row43_col1\" class=\"data row43 col1\" >1</td>\n",
       "      <td id=\"T_80abc_row43_col2\" class=\"data row43 col2\" >0</td>\n",
       "      <td id=\"T_80abc_row43_col3\" class=\"data row43 col3\" >50.0</td>\n",
       "      <td id=\"T_80abc_row43_col4\" class=\"data row43 col4\" >2025.0</td>\n",
       "    </tr>\n",
       "    <tr>\n",
       "      <th id=\"T_80abc_level0_row44\" class=\"row_heading level0 row44\" >44</th>\n",
       "      <td id=\"T_80abc_row44_col0\" class=\"data row44 col0\" >0.456200</td>\n",
       "      <td id=\"T_80abc_row44_col1\" class=\"data row44 col1\" >1</td>\n",
       "      <td id=\"T_80abc_row44_col2\" class=\"data row44 col2\" >1</td>\n",
       "      <td id=\"T_80abc_row44_col3\" class=\"data row44 col3\" >0.0</td>\n",
       "      <td id=\"T_80abc_row44_col4\" class=\"data row44 col4\" >22.5</td>\n",
       "    </tr>\n",
       "    <tr>\n",
       "      <th id=\"T_80abc_level0_row45\" class=\"row_heading level0 row45\" >45</th>\n",
       "      <td id=\"T_80abc_row45_col0\" class=\"data row45 col0\" >0.453300</td>\n",
       "      <td id=\"T_80abc_row45_col1\" class=\"data row45 col1\" >1</td>\n",
       "      <td id=\"T_80abc_row45_col2\" class=\"data row45 col2\" >0</td>\n",
       "      <td id=\"T_80abc_row45_col3\" class=\"data row45 col3\" >1037.5</td>\n",
       "      <td id=\"T_80abc_row45_col4\" class=\"data row45 col4\" >50.0</td>\n",
       "    </tr>\n",
       "    <tr>\n",
       "      <th id=\"T_80abc_level0_row46\" class=\"row_heading level0 row46\" >46</th>\n",
       "      <td id=\"T_80abc_row46_col0\" class=\"data row46 col0\" >0.018500</td>\n",
       "      <td id=\"T_80abc_row46_col1\" class=\"data row46 col1\" >1</td>\n",
       "      <td id=\"T_80abc_row46_col2\" class=\"data row46 col2\" >1</td>\n",
       "      <td id=\"T_80abc_row46_col3\" class=\"data row46 col3\" >22.5</td>\n",
       "      <td id=\"T_80abc_row46_col4\" class=\"data row46 col4\" >0.0</td>\n",
       "    </tr>\n",
       "    <tr>\n",
       "      <th id=\"T_80abc_level0_row47\" class=\"row_heading level0 row47\" >47</th>\n",
       "      <td id=\"T_80abc_row47_col0\" class=\"data row47 col0\" >0.443600</td>\n",
       "      <td id=\"T_80abc_row47_col1\" class=\"data row47 col1\" >1</td>\n",
       "      <td id=\"T_80abc_row47_col2\" class=\"data row47 col2\" >0</td>\n",
       "      <td id=\"T_80abc_row47_col3\" class=\"data row47 col3\" >50.0</td>\n",
       "      <td id=\"T_80abc_row47_col4\" class=\"data row47 col4\" >1037.5</td>\n",
       "    </tr>\n",
       "    <tr>\n",
       "      <th id=\"T_80abc_level0_row48\" class=\"row_heading level0 row48\" >48</th>\n",
       "      <td id=\"T_80abc_row48_col0\" class=\"data row48 col0\" >0.431700</td>\n",
       "      <td id=\"T_80abc_row48_col1\" class=\"data row48 col1\" >1</td>\n",
       "      <td id=\"T_80abc_row48_col2\" class=\"data row48 col2\" >0</td>\n",
       "      <td id=\"T_80abc_row48_col3\" class=\"data row48 col3\" >50.0</td>\n",
       "      <td id=\"T_80abc_row48_col4\" class=\"data row48 col4\" >4000.0</td>\n",
       "    </tr>\n",
       "    <tr>\n",
       "      <th id=\"T_80abc_level0_row49\" class=\"row_heading level0 row49\" >49</th>\n",
       "      <td id=\"T_80abc_row49_col0\" class=\"data row49 col0\" >0.447100</td>\n",
       "      <td id=\"T_80abc_row49_col1\" class=\"data row49 col1\" >1</td>\n",
       "      <td id=\"T_80abc_row49_col2\" class=\"data row49 col2\" >1</td>\n",
       "      <td id=\"T_80abc_row49_col3\" class=\"data row49 col3\" >15.0</td>\n",
       "      <td id=\"T_80abc_row49_col4\" class=\"data row49 col4\" >7.5</td>\n",
       "    </tr>\n",
       "    <tr>\n",
       "      <th id=\"T_80abc_level0_row50\" class=\"row_heading level0 row50\" >50</th>\n",
       "      <td id=\"T_80abc_row50_col0\" class=\"data row50 col0\" >0.458300</td>\n",
       "      <td id=\"T_80abc_row50_col1\" class=\"data row50 col1\" >1</td>\n",
       "      <td id=\"T_80abc_row50_col2\" class=\"data row50 col2\" >0</td>\n",
       "      <td id=\"T_80abc_row50_col3\" class=\"data row50 col3\" >4000.0</td>\n",
       "      <td id=\"T_80abc_row50_col4\" class=\"data row50 col4\" >50.0</td>\n",
       "    </tr>\n",
       "    <tr>\n",
       "      <th id=\"T_80abc_level0_row51\" class=\"row_heading level0 row51\" >51</th>\n",
       "      <td id=\"T_80abc_row51_col0\" class=\"data row51 col0\" >0.422400</td>\n",
       "      <td id=\"T_80abc_row51_col1\" class=\"data row51 col1\" >1</td>\n",
       "      <td id=\"T_80abc_row51_col2\" class=\"data row51 col2\" >0</td>\n",
       "      <td id=\"T_80abc_row51_col3\" class=\"data row51 col3\" >2025.0</td>\n",
       "      <td id=\"T_80abc_row51_col4\" class=\"data row51 col4\" >4000.0</td>\n",
       "    </tr>\n",
       "    <tr>\n",
       "      <th id=\"T_80abc_level0_row52\" class=\"row_heading level0 row52\" >52</th>\n",
       "      <td id=\"T_80abc_row52_col0\" class=\"data row52 col0\" >0.448500</td>\n",
       "      <td id=\"T_80abc_row52_col1\" class=\"data row52 col1\" >1</td>\n",
       "      <td id=\"T_80abc_row52_col2\" class=\"data row52 col2\" >1</td>\n",
       "      <td id=\"T_80abc_row52_col3\" class=\"data row52 col3\" >0.0</td>\n",
       "      <td id=\"T_80abc_row52_col4\" class=\"data row52 col4\" >7.5</td>\n",
       "    </tr>\n",
       "    <tr>\n",
       "      <th id=\"T_80abc_level0_row53\" class=\"row_heading level0 row53\" >53</th>\n",
       "      <td id=\"T_80abc_row53_col0\" class=\"data row53 col0\" >0.459700</td>\n",
       "      <td id=\"T_80abc_row53_col1\" class=\"data row53 col1\" >1</td>\n",
       "      <td id=\"T_80abc_row53_col2\" class=\"data row53 col2\" >0</td>\n",
       "      <td id=\"T_80abc_row53_col3\" class=\"data row53 col3\" >3012.5</td>\n",
       "      <td id=\"T_80abc_row53_col4\" class=\"data row53 col4\" >50.0</td>\n",
       "    </tr>\n",
       "    <tr>\n",
       "      <th id=\"T_80abc_level0_row54\" class=\"row_heading level0 row54\" >54</th>\n",
       "      <td id=\"T_80abc_row54_col0\" class=\"data row54 col0\" >0.436500</td>\n",
       "      <td id=\"T_80abc_row54_col1\" class=\"data row54 col1\" >1</td>\n",
       "      <td id=\"T_80abc_row54_col2\" class=\"data row54 col2\" >1</td>\n",
       "      <td id=\"T_80abc_row54_col3\" class=\"data row54 col3\" >22.5</td>\n",
       "      <td id=\"T_80abc_row54_col4\" class=\"data row54 col4\" >15.0</td>\n",
       "    </tr>\n",
       "    <tr>\n",
       "      <th id=\"T_80abc_level0_row55\" class=\"row_heading level0 row55\" >55</th>\n",
       "      <td id=\"T_80abc_row55_col0\" class=\"data row55 col0\" >0.425200</td>\n",
       "      <td id=\"T_80abc_row55_col1\" class=\"data row55 col1\" >2</td>\n",
       "      <td id=\"T_80abc_row55_col2\" class=\"data row55 col2\" >0</td>\n",
       "      <td id=\"T_80abc_row55_col3\" class=\"data row55 col3\" >230.0</td>\n",
       "      <td id=\"T_80abc_row55_col4\" class=\"data row55 col4\" >75.0</td>\n",
       "    </tr>\n",
       "    <tr>\n",
       "      <th id=\"T_80abc_level0_row56\" class=\"row_heading level0 row56\" >56</th>\n",
       "      <td id=\"T_80abc_row56_col0\" class=\"data row56 col0\" >0.422300</td>\n",
       "      <td id=\"T_80abc_row56_col1\" class=\"data row56 col1\" >2</td>\n",
       "      <td id=\"T_80abc_row56_col2\" class=\"data row56 col2\" >0</td>\n",
       "      <td id=\"T_80abc_row56_col3\" class=\"data row56 col3\" >230.0</td>\n",
       "      <td id=\"T_80abc_row56_col4\" class=\"data row56 col4\" >150.0</td>\n",
       "    </tr>\n",
       "    <tr>\n",
       "      <th id=\"T_80abc_level0_row57\" class=\"row_heading level0 row57\" >57</th>\n",
       "      <td id=\"T_80abc_row57_col0\" class=\"data row57 col0\" >0.424000</td>\n",
       "      <td id=\"T_80abc_row57_col1\" class=\"data row57 col1\" >1</td>\n",
       "      <td id=\"T_80abc_row57_col2\" class=\"data row57 col2\" >1</td>\n",
       "      <td id=\"T_80abc_row57_col3\" class=\"data row57 col3\" >30.0</td>\n",
       "      <td id=\"T_80abc_row57_col4\" class=\"data row57 col4\" >30.0</td>\n",
       "    </tr>\n",
       "    <tr>\n",
       "      <th id=\"T_80abc_level0_row58\" class=\"row_heading level0 row58\" >58</th>\n",
       "      <td id=\"T_80abc_row58_col0\" class=\"data row58 col0\" >0.410400</td>\n",
       "      <td id=\"T_80abc_row58_col1\" class=\"data row58 col1\" >1</td>\n",
       "      <td id=\"T_80abc_row58_col2\" class=\"data row58 col2\" >0</td>\n",
       "      <td id=\"T_80abc_row58_col3\" class=\"data row58 col3\" >4000.0</td>\n",
       "      <td id=\"T_80abc_row58_col4\" class=\"data row58 col4\" >4000.0</td>\n",
       "    </tr>\n",
       "    <tr>\n",
       "      <th id=\"T_80abc_level0_row59\" class=\"row_heading level0 row59\" >59</th>\n",
       "      <td id=\"T_80abc_row59_col0\" class=\"data row59 col0\" >0.416200</td>\n",
       "      <td id=\"T_80abc_row59_col1\" class=\"data row59 col1\" >1</td>\n",
       "      <td id=\"T_80abc_row59_col2\" class=\"data row59 col2\" >0</td>\n",
       "      <td id=\"T_80abc_row59_col3\" class=\"data row59 col3\" >3012.5</td>\n",
       "      <td id=\"T_80abc_row59_col4\" class=\"data row59 col4\" >4000.0</td>\n",
       "    </tr>\n",
       "    <tr>\n",
       "      <th id=\"T_80abc_level0_row60\" class=\"row_heading level0 row60\" >60</th>\n",
       "      <td id=\"T_80abc_row60_col0\" class=\"data row60 col0\" >0.440300</td>\n",
       "      <td id=\"T_80abc_row60_col1\" class=\"data row60 col1\" >2</td>\n",
       "      <td id=\"T_80abc_row60_col2\" class=\"data row60 col2\" >0</td>\n",
       "      <td id=\"T_80abc_row60_col3\" class=\"data row60 col3\" >90.0</td>\n",
       "      <td id=\"T_80abc_row60_col4\" class=\"data row60 col4\" >150.0</td>\n",
       "    </tr>\n",
       "    <tr>\n",
       "      <th id=\"T_80abc_level0_row61\" class=\"row_heading level0 row61\" >61</th>\n",
       "      <td id=\"T_80abc_row61_col0\" class=\"data row61 col0\" >0.453200</td>\n",
       "      <td id=\"T_80abc_row61_col1\" class=\"data row61 col1\" >1</td>\n",
       "      <td id=\"T_80abc_row61_col2\" class=\"data row61 col2\" >1</td>\n",
       "      <td id=\"T_80abc_row61_col3\" class=\"data row61 col3\" >7.5</td>\n",
       "      <td id=\"T_80abc_row61_col4\" class=\"data row61 col4\" >15.0</td>\n",
       "    </tr>\n",
       "    <tr>\n",
       "      <th id=\"T_80abc_level0_row62\" class=\"row_heading level0 row62\" >62</th>\n",
       "      <td id=\"T_80abc_row62_col0\" class=\"data row62 col0\" >0.437900</td>\n",
       "      <td id=\"T_80abc_row62_col1\" class=\"data row62 col1\" >1</td>\n",
       "      <td id=\"T_80abc_row62_col2\" class=\"data row62 col2\" >1</td>\n",
       "      <td id=\"T_80abc_row62_col3\" class=\"data row62 col3\" >22.5</td>\n",
       "      <td id=\"T_80abc_row62_col4\" class=\"data row62 col4\" >7.5</td>\n",
       "    </tr>\n",
       "    <tr>\n",
       "      <th id=\"T_80abc_level0_row63\" class=\"row_heading level0 row63\" >63</th>\n",
       "      <td id=\"T_80abc_row63_col0\" class=\"data row63 col0\" >0.442100</td>\n",
       "      <td id=\"T_80abc_row63_col1\" class=\"data row63 col1\" >2</td>\n",
       "      <td id=\"T_80abc_row63_col2\" class=\"data row63 col2\" >0</td>\n",
       "      <td id=\"T_80abc_row63_col3\" class=\"data row63 col3\" >90.0</td>\n",
       "      <td id=\"T_80abc_row63_col4\" class=\"data row63 col4\" >75.0</td>\n",
       "    </tr>\n",
       "    <tr>\n",
       "      <th id=\"T_80abc_level0_row64\" class=\"row_heading level0 row64\" >64</th>\n",
       "      <td id=\"T_80abc_row64_col0\" class=\"data row64 col0\" >0.414900</td>\n",
       "      <td id=\"T_80abc_row64_col1\" class=\"data row64 col1\" >2</td>\n",
       "      <td id=\"T_80abc_row64_col2\" class=\"data row64 col2\" >0</td>\n",
       "      <td id=\"T_80abc_row64_col3\" class=\"data row64 col3\" >300.0</td>\n",
       "      <td id=\"T_80abc_row64_col4\" class=\"data row64 col4\" >150.0</td>\n",
       "    </tr>\n",
       "    <tr>\n",
       "      <th id=\"T_80abc_level0_row65\" class=\"row_heading level0 row65\" >65</th>\n",
       "      <td id=\"T_80abc_row65_col0\" class=\"data row65 col0\" >0.018800</td>\n",
       "      <td id=\"T_80abc_row65_col1\" class=\"data row65 col1\" >1</td>\n",
       "      <td id=\"T_80abc_row65_col2\" class=\"data row65 col2\" >1</td>\n",
       "      <td id=\"T_80abc_row65_col3\" class=\"data row65 col3\" >15.0</td>\n",
       "      <td id=\"T_80abc_row65_col4\" class=\"data row65 col4\" >0.0</td>\n",
       "    </tr>\n",
       "    <tr>\n",
       "      <th id=\"T_80abc_level0_row66\" class=\"row_heading level0 row66\" >66</th>\n",
       "      <td id=\"T_80abc_row66_col0\" class=\"data row66 col0\" >0.435600</td>\n",
       "      <td id=\"T_80abc_row66_col1\" class=\"data row66 col1\" >1</td>\n",
       "      <td id=\"T_80abc_row66_col2\" class=\"data row66 col2\" >0</td>\n",
       "      <td id=\"T_80abc_row66_col3\" class=\"data row66 col3\" >1037.5</td>\n",
       "      <td id=\"T_80abc_row66_col4\" class=\"data row66 col4\" >3012.5</td>\n",
       "    </tr>\n",
       "    <tr>\n",
       "      <th id=\"T_80abc_level0_row67\" class=\"row_heading level0 row67\" >67</th>\n",
       "      <td id=\"T_80abc_row67_col0\" class=\"data row67 col0\" >0.433500</td>\n",
       "      <td id=\"T_80abc_row67_col1\" class=\"data row67 col1\" >1</td>\n",
       "      <td id=\"T_80abc_row67_col2\" class=\"data row67 col2\" >1</td>\n",
       "      <td id=\"T_80abc_row67_col3\" class=\"data row67 col3\" >22.5</td>\n",
       "      <td id=\"T_80abc_row67_col4\" class=\"data row67 col4\" >30.0</td>\n",
       "    </tr>\n",
       "    <tr>\n",
       "      <th id=\"T_80abc_level0_row68\" class=\"row_heading level0 row68\" >68</th>\n",
       "      <td id=\"T_80abc_row68_col0\" class=\"data row68 col0\" >0.428800</td>\n",
       "      <td id=\"T_80abc_row68_col1\" class=\"data row68 col1\" >2</td>\n",
       "      <td id=\"T_80abc_row68_col2\" class=\"data row68 col2\" >0</td>\n",
       "      <td id=\"T_80abc_row68_col3\" class=\"data row68 col3\" >160.0</td>\n",
       "      <td id=\"T_80abc_row68_col4\" class=\"data row68 col4\" >225.0</td>\n",
       "    </tr>\n",
       "    <tr>\n",
       "      <th id=\"T_80abc_level0_row69\" class=\"row_heading level0 row69\" >69</th>\n",
       "      <td id=\"T_80abc_row69_col0\" class=\"data row69 col0\" >0.417400</td>\n",
       "      <td id=\"T_80abc_row69_col1\" class=\"data row69 col1\" >2</td>\n",
       "      <td id=\"T_80abc_row69_col2\" class=\"data row69 col2\" >0</td>\n",
       "      <td id=\"T_80abc_row69_col3\" class=\"data row69 col3\" >300.0</td>\n",
       "      <td id=\"T_80abc_row69_col4\" class=\"data row69 col4\" >75.0</td>\n",
       "    </tr>\n",
       "    <tr>\n",
       "      <th id=\"T_80abc_level0_row70\" class=\"row_heading level0 row70\" >70</th>\n",
       "      <td id=\"T_80abc_row70_col0\" class=\"data row70 col0\" >0.447900</td>\n",
       "      <td id=\"T_80abc_row70_col1\" class=\"data row70 col1\" >1</td>\n",
       "      <td id=\"T_80abc_row70_col2\" class=\"data row70 col2\" >0</td>\n",
       "      <td id=\"T_80abc_row70_col3\" class=\"data row70 col3\" >3012.5</td>\n",
       "      <td id=\"T_80abc_row70_col4\" class=\"data row70 col4\" >1037.5</td>\n",
       "    </tr>\n",
       "    <tr>\n",
       "      <th id=\"T_80abc_level0_row71\" class=\"row_heading level0 row71\" >71</th>\n",
       "      <td id=\"T_80abc_row71_col0\" class=\"data row71 col0\" >0.445100</td>\n",
       "      <td id=\"T_80abc_row71_col1\" class=\"data row71 col1\" >1</td>\n",
       "      <td id=\"T_80abc_row71_col2\" class=\"data row71 col2\" >0</td>\n",
       "      <td id=\"T_80abc_row71_col3\" class=\"data row71 col3\" >4000.0</td>\n",
       "      <td id=\"T_80abc_row71_col4\" class=\"data row71 col4\" >1037.5</td>\n",
       "    </tr>\n",
       "    <tr>\n",
       "      <th id=\"T_80abc_level0_row72\" class=\"row_heading level0 row72\" >72</th>\n",
       "      <td id=\"T_80abc_row72_col0\" class=\"data row72 col0\" >0.005200</td>\n",
       "      <td id=\"T_80abc_row72_col1\" class=\"data row72 col1\" >1</td>\n",
       "      <td id=\"T_80abc_row72_col2\" class=\"data row72 col2\" >1</td>\n",
       "      <td id=\"T_80abc_row72_col3\" class=\"data row72 col3\" >0.0</td>\n",
       "      <td id=\"T_80abc_row72_col4\" class=\"data row72 col4\" >0.0</td>\n",
       "    </tr>\n",
       "    <tr>\n",
       "      <th id=\"T_80abc_level0_row73\" class=\"row_heading level0 row73\" >73</th>\n",
       "      <td id=\"T_80abc_row73_col0\" class=\"data row73 col0\" >0.432300</td>\n",
       "      <td id=\"T_80abc_row73_col1\" class=\"data row73 col1\" >1</td>\n",
       "      <td id=\"T_80abc_row73_col2\" class=\"data row73 col2\" >0</td>\n",
       "      <td id=\"T_80abc_row73_col3\" class=\"data row73 col3\" >4000.0</td>\n",
       "      <td id=\"T_80abc_row73_col4\" class=\"data row73 col4\" >2025.0</td>\n",
       "    </tr>\n",
       "    <tr>\n",
       "      <th id=\"T_80abc_level0_row74\" class=\"row_heading level0 row74\" >74</th>\n",
       "      <td id=\"T_80abc_row74_col0\" class=\"data row74 col0\" >0.437100</td>\n",
       "      <td id=\"T_80abc_row74_col1\" class=\"data row74 col1\" >1</td>\n",
       "      <td id=\"T_80abc_row74_col2\" class=\"data row74 col2\" >0</td>\n",
       "      <td id=\"T_80abc_row74_col3\" class=\"data row74 col3\" >3012.5</td>\n",
       "      <td id=\"T_80abc_row74_col4\" class=\"data row74 col4\" >2025.0</td>\n",
       "    </tr>\n",
       "  </tbody>\n",
       "</table>\n"
      ],
      "text/plain": [
       "<pandas.io.formats.style.Styler at 0x12ac16140>"
      ]
     },
     "execution_count": 52,
     "metadata": {},
     "output_type": "execute_result"
    }
   ],
   "source": [
    "accuracies_df = pd.DataFrame(accuracies_list)\n",
    "accuracies_df['Accuracy'] = accuracies_df['Accuracy'].astype(float).round(4)\n",
    "accuracies_df['n_chords'] = accuracies_df['n_chords']\n",
    "accuracies_df['n_melody'] = accuracies_df['n_melody']\n",
    "accuracies_df['t_prior'] = accuracies_df['t_prior']\n",
    "accuracies_df['e_prior'] = accuracies_df['e_prior']\n",
    "accuracies_df.style.background_gradient('viridis', \n",
    "                                        vmin=accuracies_df['Accuracy'].min(),\n",
    "                                        vmax=accuracies_df['Accuracy'].max())"
   ]
  },
  {
   "cell_type": "code",
   "execution_count": 49,
   "metadata": {},
   "outputs": [
    {
     "data": {
      "application/vnd.plotly.v1+json": {
       "config": {
        "plotlyServerURL": "https://plot.ly"
       },
       "data": [
        {
         "hovertemplate": "n_chords=%{x}<br>n_melody=%{y}<br>Accuracy=%{z}<extra></extra>",
         "legendgroup": "",
         "marker": {
          "color": "#636efa",
          "symbol": "circle"
         },
         "mode": "markers",
         "name": "",
         "scene": "scene",
         "showlegend": false,
         "type": "scatter3d",
         "x": [
          "1",
          "2",
          "1",
          "1",
          "2",
          "1",
          "2",
          "2",
          "2",
          "1",
          "2",
          "1",
          "1",
          "1",
          "1",
          "2",
          "2",
          "1",
          "1",
          "2",
          "2",
          "1",
          "2",
          "2",
          "2",
          "1",
          "1",
          "1",
          "2",
          "2",
          "1",
          "1",
          "1",
          "1",
          "1",
          "2",
          "1",
          "2",
          "1",
          "2",
          "1",
          "1",
          "1",
          "1",
          "1",
          "1",
          "1",
          "1",
          "1",
          "1",
          "1",
          "1",
          "1",
          "1",
          "1",
          "2",
          "2",
          "1",
          "1",
          "1",
          "2",
          "1",
          "1",
          "2",
          "2",
          "1",
          "1",
          "1",
          "2",
          "2",
          "1",
          "1",
          "1",
          "1",
          "1"
         ],
         "y": [
          "0",
          "0",
          "0",
          "1",
          "0",
          "0",
          "0",
          "0",
          "0",
          "0",
          "0",
          "1",
          "1",
          "0",
          "1",
          "0",
          "0",
          "0",
          "1",
          "0",
          "0",
          "1",
          "0",
          "0",
          "0",
          "1",
          "1",
          "1",
          "0",
          "0",
          "0",
          "1",
          "1",
          "0",
          "1",
          "0",
          "0",
          "0",
          "1",
          "0",
          "0",
          "0",
          "1",
          "0",
          "1",
          "0",
          "1",
          "0",
          "0",
          "1",
          "0",
          "0",
          "1",
          "0",
          "1",
          "0",
          "0",
          "1",
          "0",
          "0",
          "0",
          "1",
          "1",
          "0",
          "0",
          "1",
          "0",
          "1",
          "0",
          "0",
          "0",
          "0",
          "1",
          "0",
          "0"
         ],
         "z": {
          "bdata": "qz5XW7G/3D9ZF7fRAN7aP2N/2T15WNw/lrIMcayL2z+WsgxxrIvbP7bz/dR46do/xEKtad5x2j9wzojS3uDbP5tVn6ut2Ns/KjqSy39I2z/mP6Tfvg7cP5YhjnVxG90/v30dOGdE3T9bsb/snjzUP7raiv1l99w/CYofY+5a2j8ukKD4MebaP4/k8h/Sb9s/UrgehetR3D/7XG3F/rLbP8cpOpLLf9w/whcmUwWjkj+SXP5D+u3bP1yPwvUoXNs/nl4pyxDH2j8T8kHPZtXbP5jdk4eFWpM/FD/G3LWE3D+8dJMYBFbaP65H4XoUrts/AAAAAAAA3D8ofoy5awndP6HWNO84Rds/YTJVMCqp2z9MN4lBYOXcP/+ye/KwUNs/YHZPHhZq3T/nHafoSC7bP9Ei2/l+atw/XynLEMe62D8j2/l+arzcP3ZxGw3gLdw/BoGVQ4ts2z8Fo5I6AU3cP1HaG3xhMt0/F7fRAN4C3T+LbOf7qfGSP8BbIEHxY9w/jLlrCfmg2z+TqYJRSZ3cP2lv8IXJVN0/RiV1ApoI2z9OYhBYObTcPyQofoy5a90/Vg4tsp3v2z+8lpAPejbbP4JzRpT2Bts/iUFg5dAi2z9O0ZFc/kPaP8IXJlMFo9o/dnEbDeAt3D9TBaOSOgHdPxHHuriNBtw/QfFjzF1L3D/LEMe6uI3aP1XBqKROQJM/cM6I0t7g2z9YObTIdr7bP1OWIY51cds/9GxWfa622j+1N/jCZKrcPz/G3LWEfNw/lPYGX5hMdT8m5IOezarbP+84RUdy+ds/",
          "dtype": "f8"
         }
        }
       ],
       "layout": {
        "height": 800,
        "legend": {
         "tracegroupgap": 0
        },
        "margin": {
         "t": 60
        },
        "scene": {
         "domain": {
          "x": [
           0,
           1
          ],
          "y": [
           0,
           1
          ]
         },
         "xaxis": {
          "title": {
           "text": "n_chords"
          }
         },
         "yaxis": {
          "title": {
           "text": "n_melody"
          }
         },
         "zaxis": {
          "title": {
           "text": "Accuracy"
          }
         }
        },
        "template": {
         "data": {
          "bar": [
           {
            "error_x": {
             "color": "#2a3f5f"
            },
            "error_y": {
             "color": "#2a3f5f"
            },
            "marker": {
             "line": {
              "color": "#E5ECF6",
              "width": 0.5
             },
             "pattern": {
              "fillmode": "overlay",
              "size": 10,
              "solidity": 0.2
             }
            },
            "type": "bar"
           }
          ],
          "barpolar": [
           {
            "marker": {
             "line": {
              "color": "#E5ECF6",
              "width": 0.5
             },
             "pattern": {
              "fillmode": "overlay",
              "size": 10,
              "solidity": 0.2
             }
            },
            "type": "barpolar"
           }
          ],
          "carpet": [
           {
            "aaxis": {
             "endlinecolor": "#2a3f5f",
             "gridcolor": "white",
             "linecolor": "white",
             "minorgridcolor": "white",
             "startlinecolor": "#2a3f5f"
            },
            "baxis": {
             "endlinecolor": "#2a3f5f",
             "gridcolor": "white",
             "linecolor": "white",
             "minorgridcolor": "white",
             "startlinecolor": "#2a3f5f"
            },
            "type": "carpet"
           }
          ],
          "choropleth": [
           {
            "colorbar": {
             "outlinewidth": 0,
             "ticks": ""
            },
            "type": "choropleth"
           }
          ],
          "contour": [
           {
            "colorbar": {
             "outlinewidth": 0,
             "ticks": ""
            },
            "colorscale": [
             [
              0,
              "#0d0887"
             ],
             [
              0.1111111111111111,
              "#46039f"
             ],
             [
              0.2222222222222222,
              "#7201a8"
             ],
             [
              0.3333333333333333,
              "#9c179e"
             ],
             [
              0.4444444444444444,
              "#bd3786"
             ],
             [
              0.5555555555555556,
              "#d8576b"
             ],
             [
              0.6666666666666666,
              "#ed7953"
             ],
             [
              0.7777777777777778,
              "#fb9f3a"
             ],
             [
              0.8888888888888888,
              "#fdca26"
             ],
             [
              1,
              "#f0f921"
             ]
            ],
            "type": "contour"
           }
          ],
          "contourcarpet": [
           {
            "colorbar": {
             "outlinewidth": 0,
             "ticks": ""
            },
            "type": "contourcarpet"
           }
          ],
          "heatmap": [
           {
            "colorbar": {
             "outlinewidth": 0,
             "ticks": ""
            },
            "colorscale": [
             [
              0,
              "#0d0887"
             ],
             [
              0.1111111111111111,
              "#46039f"
             ],
             [
              0.2222222222222222,
              "#7201a8"
             ],
             [
              0.3333333333333333,
              "#9c179e"
             ],
             [
              0.4444444444444444,
              "#bd3786"
             ],
             [
              0.5555555555555556,
              "#d8576b"
             ],
             [
              0.6666666666666666,
              "#ed7953"
             ],
             [
              0.7777777777777778,
              "#fb9f3a"
             ],
             [
              0.8888888888888888,
              "#fdca26"
             ],
             [
              1,
              "#f0f921"
             ]
            ],
            "type": "heatmap"
           }
          ],
          "histogram": [
           {
            "marker": {
             "pattern": {
              "fillmode": "overlay",
              "size": 10,
              "solidity": 0.2
             }
            },
            "type": "histogram"
           }
          ],
          "histogram2d": [
           {
            "colorbar": {
             "outlinewidth": 0,
             "ticks": ""
            },
            "colorscale": [
             [
              0,
              "#0d0887"
             ],
             [
              0.1111111111111111,
              "#46039f"
             ],
             [
              0.2222222222222222,
              "#7201a8"
             ],
             [
              0.3333333333333333,
              "#9c179e"
             ],
             [
              0.4444444444444444,
              "#bd3786"
             ],
             [
              0.5555555555555556,
              "#d8576b"
             ],
             [
              0.6666666666666666,
              "#ed7953"
             ],
             [
              0.7777777777777778,
              "#fb9f3a"
             ],
             [
              0.8888888888888888,
              "#fdca26"
             ],
             [
              1,
              "#f0f921"
             ]
            ],
            "type": "histogram2d"
           }
          ],
          "histogram2dcontour": [
           {
            "colorbar": {
             "outlinewidth": 0,
             "ticks": ""
            },
            "colorscale": [
             [
              0,
              "#0d0887"
             ],
             [
              0.1111111111111111,
              "#46039f"
             ],
             [
              0.2222222222222222,
              "#7201a8"
             ],
             [
              0.3333333333333333,
              "#9c179e"
             ],
             [
              0.4444444444444444,
              "#bd3786"
             ],
             [
              0.5555555555555556,
              "#d8576b"
             ],
             [
              0.6666666666666666,
              "#ed7953"
             ],
             [
              0.7777777777777778,
              "#fb9f3a"
             ],
             [
              0.8888888888888888,
              "#fdca26"
             ],
             [
              1,
              "#f0f921"
             ]
            ],
            "type": "histogram2dcontour"
           }
          ],
          "mesh3d": [
           {
            "colorbar": {
             "outlinewidth": 0,
             "ticks": ""
            },
            "type": "mesh3d"
           }
          ],
          "parcoords": [
           {
            "line": {
             "colorbar": {
              "outlinewidth": 0,
              "ticks": ""
             }
            },
            "type": "parcoords"
           }
          ],
          "pie": [
           {
            "automargin": true,
            "type": "pie"
           }
          ],
          "scatter": [
           {
            "fillpattern": {
             "fillmode": "overlay",
             "size": 10,
             "solidity": 0.2
            },
            "type": "scatter"
           }
          ],
          "scatter3d": [
           {
            "line": {
             "colorbar": {
              "outlinewidth": 0,
              "ticks": ""
             }
            },
            "marker": {
             "colorbar": {
              "outlinewidth": 0,
              "ticks": ""
             }
            },
            "type": "scatter3d"
           }
          ],
          "scattercarpet": [
           {
            "marker": {
             "colorbar": {
              "outlinewidth": 0,
              "ticks": ""
             }
            },
            "type": "scattercarpet"
           }
          ],
          "scattergeo": [
           {
            "marker": {
             "colorbar": {
              "outlinewidth": 0,
              "ticks": ""
             }
            },
            "type": "scattergeo"
           }
          ],
          "scattergl": [
           {
            "marker": {
             "colorbar": {
              "outlinewidth": 0,
              "ticks": ""
             }
            },
            "type": "scattergl"
           }
          ],
          "scattermap": [
           {
            "marker": {
             "colorbar": {
              "outlinewidth": 0,
              "ticks": ""
             }
            },
            "type": "scattermap"
           }
          ],
          "scattermapbox": [
           {
            "marker": {
             "colorbar": {
              "outlinewidth": 0,
              "ticks": ""
             }
            },
            "type": "scattermapbox"
           }
          ],
          "scatterpolar": [
           {
            "marker": {
             "colorbar": {
              "outlinewidth": 0,
              "ticks": ""
             }
            },
            "type": "scatterpolar"
           }
          ],
          "scatterpolargl": [
           {
            "marker": {
             "colorbar": {
              "outlinewidth": 0,
              "ticks": ""
             }
            },
            "type": "scatterpolargl"
           }
          ],
          "scatterternary": [
           {
            "marker": {
             "colorbar": {
              "outlinewidth": 0,
              "ticks": ""
             }
            },
            "type": "scatterternary"
           }
          ],
          "surface": [
           {
            "colorbar": {
             "outlinewidth": 0,
             "ticks": ""
            },
            "colorscale": [
             [
              0,
              "#0d0887"
             ],
             [
              0.1111111111111111,
              "#46039f"
             ],
             [
              0.2222222222222222,
              "#7201a8"
             ],
             [
              0.3333333333333333,
              "#9c179e"
             ],
             [
              0.4444444444444444,
              "#bd3786"
             ],
             [
              0.5555555555555556,
              "#d8576b"
             ],
             [
              0.6666666666666666,
              "#ed7953"
             ],
             [
              0.7777777777777778,
              "#fb9f3a"
             ],
             [
              0.8888888888888888,
              "#fdca26"
             ],
             [
              1,
              "#f0f921"
             ]
            ],
            "type": "surface"
           }
          ],
          "table": [
           {
            "cells": {
             "fill": {
              "color": "#EBF0F8"
             },
             "line": {
              "color": "white"
             }
            },
            "header": {
             "fill": {
              "color": "#C8D4E3"
             },
             "line": {
              "color": "white"
             }
            },
            "type": "table"
           }
          ]
         },
         "layout": {
          "annotationdefaults": {
           "arrowcolor": "#2a3f5f",
           "arrowhead": 0,
           "arrowwidth": 1
          },
          "autotypenumbers": "strict",
          "coloraxis": {
           "colorbar": {
            "outlinewidth": 0,
            "ticks": ""
           }
          },
          "colorscale": {
           "diverging": [
            [
             0,
             "#8e0152"
            ],
            [
             0.1,
             "#c51b7d"
            ],
            [
             0.2,
             "#de77ae"
            ],
            [
             0.3,
             "#f1b6da"
            ],
            [
             0.4,
             "#fde0ef"
            ],
            [
             0.5,
             "#f7f7f7"
            ],
            [
             0.6,
             "#e6f5d0"
            ],
            [
             0.7,
             "#b8e186"
            ],
            [
             0.8,
             "#7fbc41"
            ],
            [
             0.9,
             "#4d9221"
            ],
            [
             1,
             "#276419"
            ]
           ],
           "sequential": [
            [
             0,
             "#0d0887"
            ],
            [
             0.1111111111111111,
             "#46039f"
            ],
            [
             0.2222222222222222,
             "#7201a8"
            ],
            [
             0.3333333333333333,
             "#9c179e"
            ],
            [
             0.4444444444444444,
             "#bd3786"
            ],
            [
             0.5555555555555556,
             "#d8576b"
            ],
            [
             0.6666666666666666,
             "#ed7953"
            ],
            [
             0.7777777777777778,
             "#fb9f3a"
            ],
            [
             0.8888888888888888,
             "#fdca26"
            ],
            [
             1,
             "#f0f921"
            ]
           ],
           "sequentialminus": [
            [
             0,
             "#0d0887"
            ],
            [
             0.1111111111111111,
             "#46039f"
            ],
            [
             0.2222222222222222,
             "#7201a8"
            ],
            [
             0.3333333333333333,
             "#9c179e"
            ],
            [
             0.4444444444444444,
             "#bd3786"
            ],
            [
             0.5555555555555556,
             "#d8576b"
            ],
            [
             0.6666666666666666,
             "#ed7953"
            ],
            [
             0.7777777777777778,
             "#fb9f3a"
            ],
            [
             0.8888888888888888,
             "#fdca26"
            ],
            [
             1,
             "#f0f921"
            ]
           ]
          },
          "colorway": [
           "#636efa",
           "#EF553B",
           "#00cc96",
           "#ab63fa",
           "#FFA15A",
           "#19d3f3",
           "#FF6692",
           "#B6E880",
           "#FF97FF",
           "#FECB52"
          ],
          "font": {
           "color": "#2a3f5f"
          },
          "geo": {
           "bgcolor": "white",
           "lakecolor": "white",
           "landcolor": "#E5ECF6",
           "showlakes": true,
           "showland": true,
           "subunitcolor": "white"
          },
          "hoverlabel": {
           "align": "left"
          },
          "hovermode": "closest",
          "mapbox": {
           "style": "light"
          },
          "paper_bgcolor": "white",
          "plot_bgcolor": "#E5ECF6",
          "polar": {
           "angularaxis": {
            "gridcolor": "white",
            "linecolor": "white",
            "ticks": ""
           },
           "bgcolor": "#E5ECF6",
           "radialaxis": {
            "gridcolor": "white",
            "linecolor": "white",
            "ticks": ""
           }
          },
          "scene": {
           "xaxis": {
            "backgroundcolor": "#E5ECF6",
            "gridcolor": "white",
            "gridwidth": 2,
            "linecolor": "white",
            "showbackground": true,
            "ticks": "",
            "zerolinecolor": "white"
           },
           "yaxis": {
            "backgroundcolor": "#E5ECF6",
            "gridcolor": "white",
            "gridwidth": 2,
            "linecolor": "white",
            "showbackground": true,
            "ticks": "",
            "zerolinecolor": "white"
           },
           "zaxis": {
            "backgroundcolor": "#E5ECF6",
            "gridcolor": "white",
            "gridwidth": 2,
            "linecolor": "white",
            "showbackground": true,
            "ticks": "",
            "zerolinecolor": "white"
           }
          },
          "shapedefaults": {
           "line": {
            "color": "#2a3f5f"
           }
          },
          "ternary": {
           "aaxis": {
            "gridcolor": "white",
            "linecolor": "white",
            "ticks": ""
           },
           "baxis": {
            "gridcolor": "white",
            "linecolor": "white",
            "ticks": ""
           },
           "bgcolor": "#E5ECF6",
           "caxis": {
            "gridcolor": "white",
            "linecolor": "white",
            "ticks": ""
           }
          },
          "title": {
           "x": 0.05
          },
          "xaxis": {
           "automargin": true,
           "gridcolor": "white",
           "linecolor": "white",
           "ticks": "",
           "title": {
            "standoff": 15
           },
           "zerolinecolor": "white",
           "zerolinewidth": 2
          },
          "yaxis": {
           "automargin": true,
           "gridcolor": "white",
           "linecolor": "white",
           "ticks": "",
           "title": {
            "standoff": 15
           },
           "zerolinecolor": "white",
           "zerolinewidth": 2
          }
         }
        },
        "xaxis": {
         "type": "category"
        },
        "yaxis": {
         "type": "category"
        }
       }
      }
     },
     "metadata": {},
     "output_type": "display_data"
    }
   ],
   "source": [
    "fig = px.scatter_3d(accuracies_df, \n",
    "              x='n_chords', \n",
    "              y='n_melody', \n",
    "              z='Accuracy',\n",
    "              height=800,)\n",
    "fig.update_xaxes(type='category')\n",
    "fig.update_yaxes(type='category')\n",
    "fig.show()"
   ]
  },
  {
   "cell_type": "code",
   "execution_count": 68,
   "metadata": {},
   "outputs": [
    {
     "name": "stdout",
     "output_type": "stream",
     "text": [
      "['0.0', '7.5', '15.0', '20.0', '22.5', '30.0', '50.0', '90.0', '160.0', '230.0', '300.0', '1037.5', '2025.0', '3012.5', '4000.0']\n",
      "<class 'str'>\n",
      "['0.0', '7.5', '15.0', '22.5', '30.0', '50.0', '75.0', '150.0', '225.0', '300.0', '1037.5', '2025.0', '3012.5', '4000.0']\n",
      "<class 'str'>\n"
     ]
    }
   ],
   "source": [
    "t_prior_labels = accuracies_df['t_prior'].astype(float).value_counts().sort_index().astype(str).index.astype(str).to_list()\n",
    "e_prior_labels = accuracies_df['e_prior'].astype(float).value_counts().sort_index().astype(str).index.astype(str).to_list()\n",
    "print(t_prior_labels)\n",
    "print(type(t_prior_labels[0]))\n",
    "print(e_prior_labels)\n",
    "print(type(e_prior_labels[0]))"
   ]
  },
  {
   "cell_type": "code",
   "execution_count": null,
   "metadata": {},
   "outputs": [],
   "source": []
  },
  {
   "cell_type": "code",
   "execution_count": 74,
   "metadata": {},
   "outputs": [
    {
     "data": {
      "application/vnd.plotly.v1+json": {
       "config": {
        "plotlyServerURL": "https://plot.ly"
       },
       "data": [
        {
         "customdata": [
          [
           "1",
           "0"
          ],
          [
           "2",
           "0"
          ],
          [
           "1",
           "0"
          ],
          [
           "1",
           "1"
          ],
          [
           "2",
           "0"
          ],
          [
           "1",
           "0"
          ],
          [
           "2",
           "0"
          ],
          [
           "2",
           "0"
          ],
          [
           "2",
           "0"
          ],
          [
           "1",
           "0"
          ],
          [
           "2",
           "0"
          ],
          [
           "1",
           "1"
          ],
          [
           "1",
           "1"
          ],
          [
           "1",
           "0"
          ],
          [
           "1",
           "1"
          ],
          [
           "2",
           "0"
          ],
          [
           "2",
           "0"
          ],
          [
           "1",
           "0"
          ],
          [
           "1",
           "1"
          ],
          [
           "2",
           "0"
          ],
          [
           "2",
           "0"
          ],
          [
           "1",
           "1"
          ],
          [
           "2",
           "0"
          ],
          [
           "2",
           "0"
          ],
          [
           "2",
           "0"
          ],
          [
           "1",
           "1"
          ],
          [
           "1",
           "1"
          ],
          [
           "1",
           "1"
          ],
          [
           "2",
           "0"
          ],
          [
           "2",
           "0"
          ],
          [
           "1",
           "0"
          ],
          [
           "1",
           "1"
          ],
          [
           "1",
           "1"
          ],
          [
           "1",
           "0"
          ],
          [
           "1",
           "1"
          ],
          [
           "2",
           "0"
          ],
          [
           "1",
           "0"
          ],
          [
           "2",
           "0"
          ],
          [
           "1",
           "1"
          ],
          [
           "2",
           "0"
          ],
          [
           "1",
           "0"
          ],
          [
           "1",
           "0"
          ],
          [
           "1",
           "1"
          ],
          [
           "1",
           "0"
          ],
          [
           "1",
           "1"
          ],
          [
           "1",
           "0"
          ],
          [
           "1",
           "1"
          ],
          [
           "1",
           "0"
          ],
          [
           "1",
           "0"
          ],
          [
           "1",
           "1"
          ],
          [
           "1",
           "0"
          ],
          [
           "1",
           "0"
          ],
          [
           "1",
           "1"
          ],
          [
           "1",
           "0"
          ],
          [
           "1",
           "1"
          ],
          [
           "2",
           "0"
          ],
          [
           "2",
           "0"
          ],
          [
           "1",
           "1"
          ],
          [
           "1",
           "0"
          ],
          [
           "1",
           "0"
          ],
          [
           "2",
           "0"
          ],
          [
           "1",
           "1"
          ],
          [
           "1",
           "1"
          ],
          [
           "2",
           "0"
          ],
          [
           "2",
           "0"
          ],
          [
           "1",
           "1"
          ],
          [
           "1",
           "0"
          ],
          [
           "1",
           "1"
          ],
          [
           "2",
           "0"
          ],
          [
           "2",
           "0"
          ],
          [
           "1",
           "0"
          ],
          [
           "1",
           "0"
          ],
          [
           "1",
           "1"
          ],
          [
           "1",
           "0"
          ],
          [
           "1",
           "0"
          ]
         ],
         "hovertemplate": "<b>%{hovertext}</b><br><br>t_prior=%{x}<br>e_prior=%{y}<br>Accuracy=%{z}<br>n_chords=%{customdata[0]}<br>n_melody=%{customdata[1]}<extra></extra>",
         "hovertext": {
          "bdata": "qz5XW7G/3D9ZF7fRAN7aP2N/2T15WNw/lrIMcayL2z+WsgxxrIvbP7bz/dR46do/xEKtad5x2j9wzojS3uDbP5tVn6ut2Ns/KjqSy39I2z/mP6Tfvg7cP5YhjnVxG90/v30dOGdE3T9bsb/snjzUP7raiv1l99w/CYofY+5a2j8ukKD4MebaP4/k8h/Sb9s/UrgehetR3D/7XG3F/rLbP8cpOpLLf9w/whcmUwWjkj+SXP5D+u3bP1yPwvUoXNs/nl4pyxDH2j8T8kHPZtXbP5jdk4eFWpM/FD/G3LWE3D+8dJMYBFbaP65H4XoUrts/AAAAAAAA3D8ofoy5awndP6HWNO84Rds/YTJVMCqp2z9MN4lBYOXcP/+ye/KwUNs/YHZPHhZq3T/nHafoSC7bP9Ei2/l+atw/XynLEMe62D8j2/l+arzcP3ZxGw3gLdw/BoGVQ4ts2z8Fo5I6AU3cP1HaG3xhMt0/F7fRAN4C3T+LbOf7qfGSP8BbIEHxY9w/jLlrCfmg2z+TqYJRSZ3cP2lv8IXJVN0/RiV1ApoI2z9OYhBYObTcPyQofoy5a90/Vg4tsp3v2z+8lpAPejbbP4JzRpT2Bts/iUFg5dAi2z9O0ZFc/kPaP8IXJlMFo9o/dnEbDeAt3D9TBaOSOgHdPxHHuriNBtw/QfFjzF1L3D/LEMe6uI3aP1XBqKROQJM/cM6I0t7g2z9YObTIdr7bP1OWIY51cds/9GxWfa622j+1N/jCZKrcPz/G3LWEfNw/lPYGX5hMdT8m5IOezarbP+84RUdy+ds/",
          "dtype": "f8"
         },
         "legendgroup": "",
         "marker": {
          "color": "#636efa",
          "symbol": "circle"
         },
         "mode": "markers",
         "name": "",
         "scene": "scene",
         "showlegend": false,
         "type": "scatter3d",
         "x": [
          "1037.5",
          "300.0",
          "1037.5",
          "30.0",
          "160.0",
          "4000.0",
          "300.0",
          "160.0",
          "20.0",
          "3012.5",
          "90.0",
          "7.5",
          "0.0",
          "50.0",
          "7.5",
          "20.0",
          "230.0",
          "1037.5",
          "15.0",
          "160.0",
          "90.0",
          "30.0",
          "90.0",
          "230.0",
          "230.0",
          "22.5",
          "7.5",
          "15.0",
          "300.0",
          "20.0",
          "50.0",
          "0.0",
          "30.0",
          "2025.0",
          "7.5",
          "160.0",
          "2025.0",
          "20.0",
          "15.0",
          "20.0",
          "2025.0",
          "2025.0",
          "30.0",
          "50.0",
          "0.0",
          "1037.5",
          "22.5",
          "50.0",
          "50.0",
          "15.0",
          "4000.0",
          "2025.0",
          "0.0",
          "3012.5",
          "22.5",
          "230.0",
          "230.0",
          "30.0",
          "4000.0",
          "3012.5",
          "90.0",
          "7.5",
          "22.5",
          "90.0",
          "300.0",
          "15.0",
          "1037.5",
          "22.5",
          "160.0",
          "300.0",
          "3012.5",
          "4000.0",
          "0.0",
          "4000.0",
          "3012.5"
         ],
         "y": [
          "1037.5",
          "0.0",
          "2025.0",
          "7.5",
          "150.0",
          "3012.5",
          "225.0",
          "0.0",
          "300.0",
          "3012.5",
          "225.0",
          "7.5",
          "30.0",
          "50.0",
          "22.5",
          "75.0",
          "225.0",
          "4000.0",
          "30.0",
          "75.0",
          "0.0",
          "0.0",
          "300.0",
          "0.0",
          "300.0",
          "22.5",
          "0.0",
          "15.0",
          "300.0",
          "225.0",
          "3012.5",
          "15.0",
          "22.5",
          "3012.5",
          "30.0",
          "300.0",
          "50.0",
          "150.0",
          "22.5",
          "0.0",
          "1037.5",
          "2025.0",
          "15.0",
          "2025.0",
          "22.5",
          "50.0",
          "0.0",
          "1037.5",
          "4000.0",
          "7.5",
          "50.0",
          "4000.0",
          "7.5",
          "50.0",
          "15.0",
          "75.0",
          "150.0",
          "30.0",
          "4000.0",
          "4000.0",
          "150.0",
          "15.0",
          "7.5",
          "75.0",
          "150.0",
          "0.0",
          "3012.5",
          "30.0",
          "225.0",
          "75.0",
          "1037.5",
          "1037.5",
          "0.0",
          "2025.0",
          "2025.0"
         ],
         "z": {
          "bdata": "qz5XW7G/3D9ZF7fRAN7aP2N/2T15WNw/lrIMcayL2z+WsgxxrIvbP7bz/dR46do/xEKtad5x2j9wzojS3uDbP5tVn6ut2Ns/KjqSy39I2z/mP6Tfvg7cP5YhjnVxG90/v30dOGdE3T9bsb/snjzUP7raiv1l99w/CYofY+5a2j8ukKD4MebaP4/k8h/Sb9s/UrgehetR3D/7XG3F/rLbP8cpOpLLf9w/whcmUwWjkj+SXP5D+u3bP1yPwvUoXNs/nl4pyxDH2j8T8kHPZtXbP5jdk4eFWpM/FD/G3LWE3D+8dJMYBFbaP65H4XoUrts/AAAAAAAA3D8ofoy5awndP6HWNO84Rds/YTJVMCqp2z9MN4lBYOXcP/+ye/KwUNs/YHZPHhZq3T/nHafoSC7bP9Ei2/l+atw/XynLEMe62D8j2/l+arzcP3ZxGw3gLdw/BoGVQ4ts2z8Fo5I6AU3cP1HaG3xhMt0/F7fRAN4C3T+LbOf7qfGSP8BbIEHxY9w/jLlrCfmg2z+TqYJRSZ3cP2lv8IXJVN0/RiV1ApoI2z9OYhBYObTcPyQofoy5a90/Vg4tsp3v2z+8lpAPejbbP4JzRpT2Bts/iUFg5dAi2z9O0ZFc/kPaP8IXJlMFo9o/dnEbDeAt3D9TBaOSOgHdPxHHuriNBtw/QfFjzF1L3D/LEMe6uI3aP1XBqKROQJM/cM6I0t7g2z9YObTIdr7bP1OWIY51cds/9GxWfa622j+1N/jCZKrcPz/G3LWEfNw/lPYGX5hMdT8m5IOezarbP+84RUdy+ds/",
          "dtype": "f8"
         }
        }
       ],
       "layout": {
        "height": 800,
        "legend": {
         "tracegroupgap": 0
        },
        "margin": {
         "t": 60
        },
        "scene": {
         "domain": {
          "x": [
           0,
           1
          ],
          "y": [
           0,
           1
          ]
         },
         "xaxis": {
          "categoryarray": [
           "0.0",
           "7.5",
           "15.0",
           "20.0",
           "22.5",
           "30.0",
           "50.0",
           "90.0",
           "160.0",
           "230.0",
           "300.0",
           "1037.5",
           "2025.0",
           "3012.5",
           "4000.0"
          ],
          "categoryorder": "array",
          "title": {
           "text": "t_prior"
          }
         },
         "yaxis": {
          "categoryarray": [
           "0.0",
           "7.5",
           "15.0",
           "22.5",
           "30.0",
           "50.0",
           "75.0",
           "150.0",
           "225.0",
           "300.0",
           "1037.5",
           "2025.0",
           "3012.5",
           "4000.0"
          ],
          "categoryorder": "array",
          "title": {
           "text": "e_prior"
          }
         },
         "zaxis": {
          "title": {
           "text": "Accuracy"
          }
         }
        },
        "template": {
         "data": {
          "bar": [
           {
            "error_x": {
             "color": "#2a3f5f"
            },
            "error_y": {
             "color": "#2a3f5f"
            },
            "marker": {
             "line": {
              "color": "#E5ECF6",
              "width": 0.5
             },
             "pattern": {
              "fillmode": "overlay",
              "size": 10,
              "solidity": 0.2
             }
            },
            "type": "bar"
           }
          ],
          "barpolar": [
           {
            "marker": {
             "line": {
              "color": "#E5ECF6",
              "width": 0.5
             },
             "pattern": {
              "fillmode": "overlay",
              "size": 10,
              "solidity": 0.2
             }
            },
            "type": "barpolar"
           }
          ],
          "carpet": [
           {
            "aaxis": {
             "endlinecolor": "#2a3f5f",
             "gridcolor": "white",
             "linecolor": "white",
             "minorgridcolor": "white",
             "startlinecolor": "#2a3f5f"
            },
            "baxis": {
             "endlinecolor": "#2a3f5f",
             "gridcolor": "white",
             "linecolor": "white",
             "minorgridcolor": "white",
             "startlinecolor": "#2a3f5f"
            },
            "type": "carpet"
           }
          ],
          "choropleth": [
           {
            "colorbar": {
             "outlinewidth": 0,
             "ticks": ""
            },
            "type": "choropleth"
           }
          ],
          "contour": [
           {
            "colorbar": {
             "outlinewidth": 0,
             "ticks": ""
            },
            "colorscale": [
             [
              0,
              "#0d0887"
             ],
             [
              0.1111111111111111,
              "#46039f"
             ],
             [
              0.2222222222222222,
              "#7201a8"
             ],
             [
              0.3333333333333333,
              "#9c179e"
             ],
             [
              0.4444444444444444,
              "#bd3786"
             ],
             [
              0.5555555555555556,
              "#d8576b"
             ],
             [
              0.6666666666666666,
              "#ed7953"
             ],
             [
              0.7777777777777778,
              "#fb9f3a"
             ],
             [
              0.8888888888888888,
              "#fdca26"
             ],
             [
              1,
              "#f0f921"
             ]
            ],
            "type": "contour"
           }
          ],
          "contourcarpet": [
           {
            "colorbar": {
             "outlinewidth": 0,
             "ticks": ""
            },
            "type": "contourcarpet"
           }
          ],
          "heatmap": [
           {
            "colorbar": {
             "outlinewidth": 0,
             "ticks": ""
            },
            "colorscale": [
             [
              0,
              "#0d0887"
             ],
             [
              0.1111111111111111,
              "#46039f"
             ],
             [
              0.2222222222222222,
              "#7201a8"
             ],
             [
              0.3333333333333333,
              "#9c179e"
             ],
             [
              0.4444444444444444,
              "#bd3786"
             ],
             [
              0.5555555555555556,
              "#d8576b"
             ],
             [
              0.6666666666666666,
              "#ed7953"
             ],
             [
              0.7777777777777778,
              "#fb9f3a"
             ],
             [
              0.8888888888888888,
              "#fdca26"
             ],
             [
              1,
              "#f0f921"
             ]
            ],
            "type": "heatmap"
           }
          ],
          "histogram": [
           {
            "marker": {
             "pattern": {
              "fillmode": "overlay",
              "size": 10,
              "solidity": 0.2
             }
            },
            "type": "histogram"
           }
          ],
          "histogram2d": [
           {
            "colorbar": {
             "outlinewidth": 0,
             "ticks": ""
            },
            "colorscale": [
             [
              0,
              "#0d0887"
             ],
             [
              0.1111111111111111,
              "#46039f"
             ],
             [
              0.2222222222222222,
              "#7201a8"
             ],
             [
              0.3333333333333333,
              "#9c179e"
             ],
             [
              0.4444444444444444,
              "#bd3786"
             ],
             [
              0.5555555555555556,
              "#d8576b"
             ],
             [
              0.6666666666666666,
              "#ed7953"
             ],
             [
              0.7777777777777778,
              "#fb9f3a"
             ],
             [
              0.8888888888888888,
              "#fdca26"
             ],
             [
              1,
              "#f0f921"
             ]
            ],
            "type": "histogram2d"
           }
          ],
          "histogram2dcontour": [
           {
            "colorbar": {
             "outlinewidth": 0,
             "ticks": ""
            },
            "colorscale": [
             [
              0,
              "#0d0887"
             ],
             [
              0.1111111111111111,
              "#46039f"
             ],
             [
              0.2222222222222222,
              "#7201a8"
             ],
             [
              0.3333333333333333,
              "#9c179e"
             ],
             [
              0.4444444444444444,
              "#bd3786"
             ],
             [
              0.5555555555555556,
              "#d8576b"
             ],
             [
              0.6666666666666666,
              "#ed7953"
             ],
             [
              0.7777777777777778,
              "#fb9f3a"
             ],
             [
              0.8888888888888888,
              "#fdca26"
             ],
             [
              1,
              "#f0f921"
             ]
            ],
            "type": "histogram2dcontour"
           }
          ],
          "mesh3d": [
           {
            "colorbar": {
             "outlinewidth": 0,
             "ticks": ""
            },
            "type": "mesh3d"
           }
          ],
          "parcoords": [
           {
            "line": {
             "colorbar": {
              "outlinewidth": 0,
              "ticks": ""
             }
            },
            "type": "parcoords"
           }
          ],
          "pie": [
           {
            "automargin": true,
            "type": "pie"
           }
          ],
          "scatter": [
           {
            "fillpattern": {
             "fillmode": "overlay",
             "size": 10,
             "solidity": 0.2
            },
            "type": "scatter"
           }
          ],
          "scatter3d": [
           {
            "line": {
             "colorbar": {
              "outlinewidth": 0,
              "ticks": ""
             }
            },
            "marker": {
             "colorbar": {
              "outlinewidth": 0,
              "ticks": ""
             }
            },
            "type": "scatter3d"
           }
          ],
          "scattercarpet": [
           {
            "marker": {
             "colorbar": {
              "outlinewidth": 0,
              "ticks": ""
             }
            },
            "type": "scattercarpet"
           }
          ],
          "scattergeo": [
           {
            "marker": {
             "colorbar": {
              "outlinewidth": 0,
              "ticks": ""
             }
            },
            "type": "scattergeo"
           }
          ],
          "scattergl": [
           {
            "marker": {
             "colorbar": {
              "outlinewidth": 0,
              "ticks": ""
             }
            },
            "type": "scattergl"
           }
          ],
          "scattermap": [
           {
            "marker": {
             "colorbar": {
              "outlinewidth": 0,
              "ticks": ""
             }
            },
            "type": "scattermap"
           }
          ],
          "scattermapbox": [
           {
            "marker": {
             "colorbar": {
              "outlinewidth": 0,
              "ticks": ""
             }
            },
            "type": "scattermapbox"
           }
          ],
          "scatterpolar": [
           {
            "marker": {
             "colorbar": {
              "outlinewidth": 0,
              "ticks": ""
             }
            },
            "type": "scatterpolar"
           }
          ],
          "scatterpolargl": [
           {
            "marker": {
             "colorbar": {
              "outlinewidth": 0,
              "ticks": ""
             }
            },
            "type": "scatterpolargl"
           }
          ],
          "scatterternary": [
           {
            "marker": {
             "colorbar": {
              "outlinewidth": 0,
              "ticks": ""
             }
            },
            "type": "scatterternary"
           }
          ],
          "surface": [
           {
            "colorbar": {
             "outlinewidth": 0,
             "ticks": ""
            },
            "colorscale": [
             [
              0,
              "#0d0887"
             ],
             [
              0.1111111111111111,
              "#46039f"
             ],
             [
              0.2222222222222222,
              "#7201a8"
             ],
             [
              0.3333333333333333,
              "#9c179e"
             ],
             [
              0.4444444444444444,
              "#bd3786"
             ],
             [
              0.5555555555555556,
              "#d8576b"
             ],
             [
              0.6666666666666666,
              "#ed7953"
             ],
             [
              0.7777777777777778,
              "#fb9f3a"
             ],
             [
              0.8888888888888888,
              "#fdca26"
             ],
             [
              1,
              "#f0f921"
             ]
            ],
            "type": "surface"
           }
          ],
          "table": [
           {
            "cells": {
             "fill": {
              "color": "#EBF0F8"
             },
             "line": {
              "color": "white"
             }
            },
            "header": {
             "fill": {
              "color": "#C8D4E3"
             },
             "line": {
              "color": "white"
             }
            },
            "type": "table"
           }
          ]
         },
         "layout": {
          "annotationdefaults": {
           "arrowcolor": "#2a3f5f",
           "arrowhead": 0,
           "arrowwidth": 1
          },
          "autotypenumbers": "strict",
          "coloraxis": {
           "colorbar": {
            "outlinewidth": 0,
            "ticks": ""
           }
          },
          "colorscale": {
           "diverging": [
            [
             0,
             "#8e0152"
            ],
            [
             0.1,
             "#c51b7d"
            ],
            [
             0.2,
             "#de77ae"
            ],
            [
             0.3,
             "#f1b6da"
            ],
            [
             0.4,
             "#fde0ef"
            ],
            [
             0.5,
             "#f7f7f7"
            ],
            [
             0.6,
             "#e6f5d0"
            ],
            [
             0.7,
             "#b8e186"
            ],
            [
             0.8,
             "#7fbc41"
            ],
            [
             0.9,
             "#4d9221"
            ],
            [
             1,
             "#276419"
            ]
           ],
           "sequential": [
            [
             0,
             "#0d0887"
            ],
            [
             0.1111111111111111,
             "#46039f"
            ],
            [
             0.2222222222222222,
             "#7201a8"
            ],
            [
             0.3333333333333333,
             "#9c179e"
            ],
            [
             0.4444444444444444,
             "#bd3786"
            ],
            [
             0.5555555555555556,
             "#d8576b"
            ],
            [
             0.6666666666666666,
             "#ed7953"
            ],
            [
             0.7777777777777778,
             "#fb9f3a"
            ],
            [
             0.8888888888888888,
             "#fdca26"
            ],
            [
             1,
             "#f0f921"
            ]
           ],
           "sequentialminus": [
            [
             0,
             "#0d0887"
            ],
            [
             0.1111111111111111,
             "#46039f"
            ],
            [
             0.2222222222222222,
             "#7201a8"
            ],
            [
             0.3333333333333333,
             "#9c179e"
            ],
            [
             0.4444444444444444,
             "#bd3786"
            ],
            [
             0.5555555555555556,
             "#d8576b"
            ],
            [
             0.6666666666666666,
             "#ed7953"
            ],
            [
             0.7777777777777778,
             "#fb9f3a"
            ],
            [
             0.8888888888888888,
             "#fdca26"
            ],
            [
             1,
             "#f0f921"
            ]
           ]
          },
          "colorway": [
           "#636efa",
           "#EF553B",
           "#00cc96",
           "#ab63fa",
           "#FFA15A",
           "#19d3f3",
           "#FF6692",
           "#B6E880",
           "#FF97FF",
           "#FECB52"
          ],
          "font": {
           "color": "#2a3f5f"
          },
          "geo": {
           "bgcolor": "white",
           "lakecolor": "white",
           "landcolor": "#E5ECF6",
           "showlakes": true,
           "showland": true,
           "subunitcolor": "white"
          },
          "hoverlabel": {
           "align": "left"
          },
          "hovermode": "closest",
          "mapbox": {
           "style": "light"
          },
          "paper_bgcolor": "white",
          "plot_bgcolor": "#E5ECF6",
          "polar": {
           "angularaxis": {
            "gridcolor": "white",
            "linecolor": "white",
            "ticks": ""
           },
           "bgcolor": "#E5ECF6",
           "radialaxis": {
            "gridcolor": "white",
            "linecolor": "white",
            "ticks": ""
           }
          },
          "scene": {
           "xaxis": {
            "backgroundcolor": "#E5ECF6",
            "gridcolor": "white",
            "gridwidth": 2,
            "linecolor": "white",
            "showbackground": true,
            "ticks": "",
            "zerolinecolor": "white"
           },
           "yaxis": {
            "backgroundcolor": "#E5ECF6",
            "gridcolor": "white",
            "gridwidth": 2,
            "linecolor": "white",
            "showbackground": true,
            "ticks": "",
            "zerolinecolor": "white"
           },
           "zaxis": {
            "backgroundcolor": "#E5ECF6",
            "gridcolor": "white",
            "gridwidth": 2,
            "linecolor": "white",
            "showbackground": true,
            "ticks": "",
            "zerolinecolor": "white"
           }
          },
          "shapedefaults": {
           "line": {
            "color": "#2a3f5f"
           }
          },
          "ternary": {
           "aaxis": {
            "gridcolor": "white",
            "linecolor": "white",
            "ticks": ""
           },
           "baxis": {
            "gridcolor": "white",
            "linecolor": "white",
            "ticks": ""
           },
           "bgcolor": "#E5ECF6",
           "caxis": {
            "gridcolor": "white",
            "linecolor": "white",
            "ticks": ""
           }
          },
          "title": {
           "x": 0.05
          },
          "xaxis": {
           "automargin": true,
           "gridcolor": "white",
           "linecolor": "white",
           "ticks": "",
           "title": {
            "standoff": 15
           },
           "zerolinecolor": "white",
           "zerolinewidth": 2
          },
          "yaxis": {
           "automargin": true,
           "gridcolor": "white",
           "linecolor": "white",
           "ticks": "",
           "title": {
            "standoff": 15
           },
           "zerolinecolor": "white",
           "zerolinewidth": 2
          }
         }
        }
       }
      }
     },
     "metadata": {},
     "output_type": "display_data"
    }
   ],
   "source": [
    "px.scatter_3d(accuracies_df, \n",
    "              x='t_prior', \n",
    "              y='e_prior', \n",
    "              z='Accuracy',\n",
    "              hover_name='Accuracy',\n",
    "              hover_data=['t_prior', \n",
    "                          'e_prior', \n",
    "                          'n_chords',\n",
    "                          'n_melody'],\n",
    "              category_orders={'t_prior': t_prior_labels,\n",
    "                               'e_prior':e_prior_labels},\n",
    "              height=800)"
   ]
  },
  {
   "cell_type": "code",
   "execution_count": 75,
   "metadata": {},
   "outputs": [
    {
     "data": {
      "application/vnd.plotly.v1+json": {
       "config": {
        "plotlyServerURL": "https://plot.ly"
       },
       "data": [
        {
         "customdata": [
          [
           "1",
           "0"
          ],
          [
           "2",
           "0"
          ],
          [
           "1",
           "0"
          ],
          [
           "1",
           "1"
          ],
          [
           "2",
           "0"
          ],
          [
           "1",
           "0"
          ],
          [
           "2",
           "0"
          ],
          [
           "2",
           "0"
          ],
          [
           "2",
           "0"
          ],
          [
           "1",
           "0"
          ],
          [
           "2",
           "0"
          ],
          [
           "1",
           "1"
          ],
          [
           "1",
           "1"
          ],
          [
           "1",
           "1"
          ],
          [
           "2",
           "0"
          ],
          [
           "2",
           "0"
          ],
          [
           "1",
           "0"
          ],
          [
           "1",
           "1"
          ],
          [
           "2",
           "0"
          ],
          [
           "2",
           "0"
          ],
          [
           "2",
           "0"
          ],
          [
           "2",
           "0"
          ],
          [
           "2",
           "0"
          ],
          [
           "1",
           "1"
          ],
          [
           "1",
           "1"
          ],
          [
           "2",
           "0"
          ],
          [
           "2",
           "0"
          ],
          [
           "1",
           "0"
          ],
          [
           "1",
           "1"
          ],
          [
           "1",
           "1"
          ],
          [
           "1",
           "0"
          ],
          [
           "1",
           "1"
          ],
          [
           "2",
           "0"
          ],
          [
           "1",
           "0"
          ],
          [
           "2",
           "0"
          ],
          [
           "1",
           "1"
          ],
          [
           "2",
           "0"
          ],
          [
           "1",
           "0"
          ],
          [
           "1",
           "0"
          ],
          [
           "1",
           "1"
          ],
          [
           "1",
           "0"
          ],
          [
           "1",
           "1"
          ],
          [
           "1",
           "0"
          ],
          [
           "1",
           "0"
          ],
          [
           "1",
           "0"
          ],
          [
           "1",
           "1"
          ],
          [
           "1",
           "0"
          ],
          [
           "1",
           "0"
          ],
          [
           "1",
           "1"
          ],
          [
           "1",
           "0"
          ],
          [
           "1",
           "1"
          ],
          [
           "2",
           "0"
          ],
          [
           "2",
           "0"
          ],
          [
           "1",
           "1"
          ],
          [
           "1",
           "0"
          ],
          [
           "1",
           "0"
          ],
          [
           "2",
           "0"
          ],
          [
           "1",
           "1"
          ],
          [
           "1",
           "1"
          ],
          [
           "2",
           "0"
          ],
          [
           "2",
           "0"
          ],
          [
           "1",
           "0"
          ],
          [
           "1",
           "1"
          ],
          [
           "2",
           "0"
          ],
          [
           "2",
           "0"
          ],
          [
           "1",
           "0"
          ],
          [
           "1",
           "0"
          ],
          [
           "1",
           "0"
          ],
          [
           "1",
           "0"
          ]
         ],
         "hovertemplate": "<b>%{hovertext}</b><br><br>t_prior=%{x}<br>e_prior=%{y}<br>Accuracy=%{z}<br>n_chords=%{customdata[0]}<br>n_melody=%{customdata[1]}<extra></extra>",
         "hovertext": {
          "bdata": "qz5XW7G/3D9ZF7fRAN7aP2N/2T15WNw/lrIMcayL2z+WsgxxrIvbP7bz/dR46do/xEKtad5x2j9wzojS3uDbP5tVn6ut2Ns/KjqSy39I2z/mP6Tfvg7cP5YhjnVxG90/v30dOGdE3T+62or9ZffcPwmKH2PuWto/LpCg+DHm2j+P5PIf0m/bP1K4HoXrUdw/+1xtxf6y2z/HKTqSy3/cP5Jc/kP67ds/XI/C9Shc2z+eXinLEMfaPxPyQc9m1ds/FD/G3LWE3D+8dJMYBFbaP65H4XoUrts/AAAAAAAA3D8ofoy5awndP6HWNO84Rds/YTJVMCqp2z9MN4lBYOXcP/+ye/KwUNs/YHZPHhZq3T/nHafoSC7bP9Ei2/l+atw/XynLEMe62D8j2/l+arzcP3ZxGw3gLdw/BoGVQ4ts2z8Fo5I6AU3cP1HaG3xhMt0/F7fRAN4C3T/AWyBB8WPcP4y5awn5oNs/k6mCUUmd3D9pb/CFyVTdP0YldQKaCNs/TmIQWDm03D8kKH6MuWvdP1YOLbKd79s/vJaQD3o22z+Cc0aU9gbbP4lBYOXQIts/TtGRXP5D2j/CFyZTBaPaP3ZxGw3gLdw/UwWjkjoB3T8Rx7q4jQbcP0HxY8xdS9w/yxDHuriN2j9wzojS3uDbP1g5tMh2vts/U5YhjnVx2z/0bFZ9rrbaP7U3+MJkqtw/P8bctYR83D8m5IOezarbP+84RUdy+ds/",
          "dtype": "f8"
         },
         "legendgroup": "",
         "marker": {
          "color": "#636efa",
          "symbol": "circle"
         },
         "mode": "markers",
         "name": "",
         "scene": "scene",
         "showlegend": false,
         "type": "scatter3d",
         "x": [
          "1037.5",
          "300.0",
          "1037.5",
          "30.0",
          "160.0",
          "4000.0",
          "300.0",
          "160.0",
          "20.0",
          "3012.5",
          "90.0",
          "7.5",
          "0.0",
          "7.5",
          "20.0",
          "230.0",
          "1037.5",
          "15.0",
          "160.0",
          "90.0",
          "90.0",
          "230.0",
          "230.0",
          "22.5",
          "15.0",
          "300.0",
          "20.0",
          "50.0",
          "0.0",
          "30.0",
          "2025.0",
          "7.5",
          "160.0",
          "2025.0",
          "20.0",
          "15.0",
          "20.0",
          "2025.0",
          "2025.0",
          "30.0",
          "50.0",
          "0.0",
          "1037.5",
          "50.0",
          "50.0",
          "15.0",
          "4000.0",
          "2025.0",
          "0.0",
          "3012.5",
          "22.5",
          "230.0",
          "230.0",
          "30.0",
          "4000.0",
          "3012.5",
          "90.0",
          "7.5",
          "22.5",
          "90.0",
          "300.0",
          "1037.5",
          "22.5",
          "160.0",
          "300.0",
          "3012.5",
          "4000.0",
          "4000.0",
          "3012.5"
         ],
         "y": [
          "1037.5",
          "0.0",
          "2025.0",
          "7.5",
          "150.0",
          "3012.5",
          "225.0",
          "0.0",
          "300.0",
          "3012.5",
          "225.0",
          "7.5",
          "30.0",
          "22.5",
          "75.0",
          "225.0",
          "4000.0",
          "30.0",
          "75.0",
          "0.0",
          "300.0",
          "0.0",
          "300.0",
          "22.5",
          "15.0",
          "300.0",
          "225.0",
          "3012.5",
          "15.0",
          "22.5",
          "3012.5",
          "30.0",
          "300.0",
          "50.0",
          "150.0",
          "22.5",
          "0.0",
          "1037.5",
          "2025.0",
          "15.0",
          "2025.0",
          "22.5",
          "50.0",
          "1037.5",
          "4000.0",
          "7.5",
          "50.0",
          "4000.0",
          "7.5",
          "50.0",
          "15.0",
          "75.0",
          "150.0",
          "30.0",
          "4000.0",
          "4000.0",
          "150.0",
          "15.0",
          "7.5",
          "75.0",
          "150.0",
          "3012.5",
          "30.0",
          "225.0",
          "75.0",
          "1037.5",
          "1037.5",
          "2025.0",
          "2025.0"
         ],
         "z": {
          "bdata": "qz5XW7G/3D9ZF7fRAN7aP2N/2T15WNw/lrIMcayL2z+WsgxxrIvbP7bz/dR46do/xEKtad5x2j9wzojS3uDbP5tVn6ut2Ns/KjqSy39I2z/mP6Tfvg7cP5YhjnVxG90/v30dOGdE3T+62or9ZffcPwmKH2PuWto/LpCg+DHm2j+P5PIf0m/bP1K4HoXrUdw/+1xtxf6y2z/HKTqSy3/cP5Jc/kP67ds/XI/C9Shc2z+eXinLEMfaPxPyQc9m1ds/FD/G3LWE3D+8dJMYBFbaP65H4XoUrts/AAAAAAAA3D8ofoy5awndP6HWNO84Rds/YTJVMCqp2z9MN4lBYOXcP/+ye/KwUNs/YHZPHhZq3T/nHafoSC7bP9Ei2/l+atw/XynLEMe62D8j2/l+arzcP3ZxGw3gLdw/BoGVQ4ts2z8Fo5I6AU3cP1HaG3xhMt0/F7fRAN4C3T/AWyBB8WPcP4y5awn5oNs/k6mCUUmd3D9pb/CFyVTdP0YldQKaCNs/TmIQWDm03D8kKH6MuWvdP1YOLbKd79s/vJaQD3o22z+Cc0aU9gbbP4lBYOXQIts/TtGRXP5D2j/CFyZTBaPaP3ZxGw3gLdw/UwWjkjoB3T8Rx7q4jQbcP0HxY8xdS9w/yxDHuriN2j9wzojS3uDbP1g5tMh2vts/U5YhjnVx2z/0bFZ9rrbaP7U3+MJkqtw/P8bctYR83D8m5IOezarbP+84RUdy+ds/",
          "dtype": "f8"
         }
        }
       ],
       "layout": {
        "height": 800,
        "legend": {
         "tracegroupgap": 0
        },
        "margin": {
         "t": 60
        },
        "scene": {
         "domain": {
          "x": [
           0,
           1
          ],
          "y": [
           0,
           1
          ]
         },
         "xaxis": {
          "categoryarray": [
           "0.0",
           "7.5",
           "15.0",
           "20.0",
           "22.5",
           "30.0",
           "50.0",
           "90.0",
           "160.0",
           "230.0",
           "300.0",
           "1037.5",
           "2025.0",
           "3012.5",
           "4000.0"
          ],
          "categoryorder": "array",
          "title": {
           "text": "t_prior"
          }
         },
         "yaxis": {
          "categoryarray": [
           "0.0",
           "7.5",
           "15.0",
           "22.5",
           "30.0",
           "50.0",
           "75.0",
           "150.0",
           "225.0",
           "300.0",
           "1037.5",
           "2025.0",
           "3012.5",
           "4000.0"
          ],
          "categoryorder": "array",
          "title": {
           "text": "e_prior"
          }
         },
         "zaxis": {
          "title": {
           "text": "Accuracy"
          }
         }
        },
        "template": {
         "data": {
          "bar": [
           {
            "error_x": {
             "color": "#2a3f5f"
            },
            "error_y": {
             "color": "#2a3f5f"
            },
            "marker": {
             "line": {
              "color": "#E5ECF6",
              "width": 0.5
             },
             "pattern": {
              "fillmode": "overlay",
              "size": 10,
              "solidity": 0.2
             }
            },
            "type": "bar"
           }
          ],
          "barpolar": [
           {
            "marker": {
             "line": {
              "color": "#E5ECF6",
              "width": 0.5
             },
             "pattern": {
              "fillmode": "overlay",
              "size": 10,
              "solidity": 0.2
             }
            },
            "type": "barpolar"
           }
          ],
          "carpet": [
           {
            "aaxis": {
             "endlinecolor": "#2a3f5f",
             "gridcolor": "white",
             "linecolor": "white",
             "minorgridcolor": "white",
             "startlinecolor": "#2a3f5f"
            },
            "baxis": {
             "endlinecolor": "#2a3f5f",
             "gridcolor": "white",
             "linecolor": "white",
             "minorgridcolor": "white",
             "startlinecolor": "#2a3f5f"
            },
            "type": "carpet"
           }
          ],
          "choropleth": [
           {
            "colorbar": {
             "outlinewidth": 0,
             "ticks": ""
            },
            "type": "choropleth"
           }
          ],
          "contour": [
           {
            "colorbar": {
             "outlinewidth": 0,
             "ticks": ""
            },
            "colorscale": [
             [
              0,
              "#0d0887"
             ],
             [
              0.1111111111111111,
              "#46039f"
             ],
             [
              0.2222222222222222,
              "#7201a8"
             ],
             [
              0.3333333333333333,
              "#9c179e"
             ],
             [
              0.4444444444444444,
              "#bd3786"
             ],
             [
              0.5555555555555556,
              "#d8576b"
             ],
             [
              0.6666666666666666,
              "#ed7953"
             ],
             [
              0.7777777777777778,
              "#fb9f3a"
             ],
             [
              0.8888888888888888,
              "#fdca26"
             ],
             [
              1,
              "#f0f921"
             ]
            ],
            "type": "contour"
           }
          ],
          "contourcarpet": [
           {
            "colorbar": {
             "outlinewidth": 0,
             "ticks": ""
            },
            "type": "contourcarpet"
           }
          ],
          "heatmap": [
           {
            "colorbar": {
             "outlinewidth": 0,
             "ticks": ""
            },
            "colorscale": [
             [
              0,
              "#0d0887"
             ],
             [
              0.1111111111111111,
              "#46039f"
             ],
             [
              0.2222222222222222,
              "#7201a8"
             ],
             [
              0.3333333333333333,
              "#9c179e"
             ],
             [
              0.4444444444444444,
              "#bd3786"
             ],
             [
              0.5555555555555556,
              "#d8576b"
             ],
             [
              0.6666666666666666,
              "#ed7953"
             ],
             [
              0.7777777777777778,
              "#fb9f3a"
             ],
             [
              0.8888888888888888,
              "#fdca26"
             ],
             [
              1,
              "#f0f921"
             ]
            ],
            "type": "heatmap"
           }
          ],
          "histogram": [
           {
            "marker": {
             "pattern": {
              "fillmode": "overlay",
              "size": 10,
              "solidity": 0.2
             }
            },
            "type": "histogram"
           }
          ],
          "histogram2d": [
           {
            "colorbar": {
             "outlinewidth": 0,
             "ticks": ""
            },
            "colorscale": [
             [
              0,
              "#0d0887"
             ],
             [
              0.1111111111111111,
              "#46039f"
             ],
             [
              0.2222222222222222,
              "#7201a8"
             ],
             [
              0.3333333333333333,
              "#9c179e"
             ],
             [
              0.4444444444444444,
              "#bd3786"
             ],
             [
              0.5555555555555556,
              "#d8576b"
             ],
             [
              0.6666666666666666,
              "#ed7953"
             ],
             [
              0.7777777777777778,
              "#fb9f3a"
             ],
             [
              0.8888888888888888,
              "#fdca26"
             ],
             [
              1,
              "#f0f921"
             ]
            ],
            "type": "histogram2d"
           }
          ],
          "histogram2dcontour": [
           {
            "colorbar": {
             "outlinewidth": 0,
             "ticks": ""
            },
            "colorscale": [
             [
              0,
              "#0d0887"
             ],
             [
              0.1111111111111111,
              "#46039f"
             ],
             [
              0.2222222222222222,
              "#7201a8"
             ],
             [
              0.3333333333333333,
              "#9c179e"
             ],
             [
              0.4444444444444444,
              "#bd3786"
             ],
             [
              0.5555555555555556,
              "#d8576b"
             ],
             [
              0.6666666666666666,
              "#ed7953"
             ],
             [
              0.7777777777777778,
              "#fb9f3a"
             ],
             [
              0.8888888888888888,
              "#fdca26"
             ],
             [
              1,
              "#f0f921"
             ]
            ],
            "type": "histogram2dcontour"
           }
          ],
          "mesh3d": [
           {
            "colorbar": {
             "outlinewidth": 0,
             "ticks": ""
            },
            "type": "mesh3d"
           }
          ],
          "parcoords": [
           {
            "line": {
             "colorbar": {
              "outlinewidth": 0,
              "ticks": ""
             }
            },
            "type": "parcoords"
           }
          ],
          "pie": [
           {
            "automargin": true,
            "type": "pie"
           }
          ],
          "scatter": [
           {
            "fillpattern": {
             "fillmode": "overlay",
             "size": 10,
             "solidity": 0.2
            },
            "type": "scatter"
           }
          ],
          "scatter3d": [
           {
            "line": {
             "colorbar": {
              "outlinewidth": 0,
              "ticks": ""
             }
            },
            "marker": {
             "colorbar": {
              "outlinewidth": 0,
              "ticks": ""
             }
            },
            "type": "scatter3d"
           }
          ],
          "scattercarpet": [
           {
            "marker": {
             "colorbar": {
              "outlinewidth": 0,
              "ticks": ""
             }
            },
            "type": "scattercarpet"
           }
          ],
          "scattergeo": [
           {
            "marker": {
             "colorbar": {
              "outlinewidth": 0,
              "ticks": ""
             }
            },
            "type": "scattergeo"
           }
          ],
          "scattergl": [
           {
            "marker": {
             "colorbar": {
              "outlinewidth": 0,
              "ticks": ""
             }
            },
            "type": "scattergl"
           }
          ],
          "scattermap": [
           {
            "marker": {
             "colorbar": {
              "outlinewidth": 0,
              "ticks": ""
             }
            },
            "type": "scattermap"
           }
          ],
          "scattermapbox": [
           {
            "marker": {
             "colorbar": {
              "outlinewidth": 0,
              "ticks": ""
             }
            },
            "type": "scattermapbox"
           }
          ],
          "scatterpolar": [
           {
            "marker": {
             "colorbar": {
              "outlinewidth": 0,
              "ticks": ""
             }
            },
            "type": "scatterpolar"
           }
          ],
          "scatterpolargl": [
           {
            "marker": {
             "colorbar": {
              "outlinewidth": 0,
              "ticks": ""
             }
            },
            "type": "scatterpolargl"
           }
          ],
          "scatterternary": [
           {
            "marker": {
             "colorbar": {
              "outlinewidth": 0,
              "ticks": ""
             }
            },
            "type": "scatterternary"
           }
          ],
          "surface": [
           {
            "colorbar": {
             "outlinewidth": 0,
             "ticks": ""
            },
            "colorscale": [
             [
              0,
              "#0d0887"
             ],
             [
              0.1111111111111111,
              "#46039f"
             ],
             [
              0.2222222222222222,
              "#7201a8"
             ],
             [
              0.3333333333333333,
              "#9c179e"
             ],
             [
              0.4444444444444444,
              "#bd3786"
             ],
             [
              0.5555555555555556,
              "#d8576b"
             ],
             [
              0.6666666666666666,
              "#ed7953"
             ],
             [
              0.7777777777777778,
              "#fb9f3a"
             ],
             [
              0.8888888888888888,
              "#fdca26"
             ],
             [
              1,
              "#f0f921"
             ]
            ],
            "type": "surface"
           }
          ],
          "table": [
           {
            "cells": {
             "fill": {
              "color": "#EBF0F8"
             },
             "line": {
              "color": "white"
             }
            },
            "header": {
             "fill": {
              "color": "#C8D4E3"
             },
             "line": {
              "color": "white"
             }
            },
            "type": "table"
           }
          ]
         },
         "layout": {
          "annotationdefaults": {
           "arrowcolor": "#2a3f5f",
           "arrowhead": 0,
           "arrowwidth": 1
          },
          "autotypenumbers": "strict",
          "coloraxis": {
           "colorbar": {
            "outlinewidth": 0,
            "ticks": ""
           }
          },
          "colorscale": {
           "diverging": [
            [
             0,
             "#8e0152"
            ],
            [
             0.1,
             "#c51b7d"
            ],
            [
             0.2,
             "#de77ae"
            ],
            [
             0.3,
             "#f1b6da"
            ],
            [
             0.4,
             "#fde0ef"
            ],
            [
             0.5,
             "#f7f7f7"
            ],
            [
             0.6,
             "#e6f5d0"
            ],
            [
             0.7,
             "#b8e186"
            ],
            [
             0.8,
             "#7fbc41"
            ],
            [
             0.9,
             "#4d9221"
            ],
            [
             1,
             "#276419"
            ]
           ],
           "sequential": [
            [
             0,
             "#0d0887"
            ],
            [
             0.1111111111111111,
             "#46039f"
            ],
            [
             0.2222222222222222,
             "#7201a8"
            ],
            [
             0.3333333333333333,
             "#9c179e"
            ],
            [
             0.4444444444444444,
             "#bd3786"
            ],
            [
             0.5555555555555556,
             "#d8576b"
            ],
            [
             0.6666666666666666,
             "#ed7953"
            ],
            [
             0.7777777777777778,
             "#fb9f3a"
            ],
            [
             0.8888888888888888,
             "#fdca26"
            ],
            [
             1,
             "#f0f921"
            ]
           ],
           "sequentialminus": [
            [
             0,
             "#0d0887"
            ],
            [
             0.1111111111111111,
             "#46039f"
            ],
            [
             0.2222222222222222,
             "#7201a8"
            ],
            [
             0.3333333333333333,
             "#9c179e"
            ],
            [
             0.4444444444444444,
             "#bd3786"
            ],
            [
             0.5555555555555556,
             "#d8576b"
            ],
            [
             0.6666666666666666,
             "#ed7953"
            ],
            [
             0.7777777777777778,
             "#fb9f3a"
            ],
            [
             0.8888888888888888,
             "#fdca26"
            ],
            [
             1,
             "#f0f921"
            ]
           ]
          },
          "colorway": [
           "#636efa",
           "#EF553B",
           "#00cc96",
           "#ab63fa",
           "#FFA15A",
           "#19d3f3",
           "#FF6692",
           "#B6E880",
           "#FF97FF",
           "#FECB52"
          ],
          "font": {
           "color": "#2a3f5f"
          },
          "geo": {
           "bgcolor": "white",
           "lakecolor": "white",
           "landcolor": "#E5ECF6",
           "showlakes": true,
           "showland": true,
           "subunitcolor": "white"
          },
          "hoverlabel": {
           "align": "left"
          },
          "hovermode": "closest",
          "mapbox": {
           "style": "light"
          },
          "paper_bgcolor": "white",
          "plot_bgcolor": "#E5ECF6",
          "polar": {
           "angularaxis": {
            "gridcolor": "white",
            "linecolor": "white",
            "ticks": ""
           },
           "bgcolor": "#E5ECF6",
           "radialaxis": {
            "gridcolor": "white",
            "linecolor": "white",
            "ticks": ""
           }
          },
          "scene": {
           "xaxis": {
            "backgroundcolor": "#E5ECF6",
            "gridcolor": "white",
            "gridwidth": 2,
            "linecolor": "white",
            "showbackground": true,
            "ticks": "",
            "zerolinecolor": "white"
           },
           "yaxis": {
            "backgroundcolor": "#E5ECF6",
            "gridcolor": "white",
            "gridwidth": 2,
            "linecolor": "white",
            "showbackground": true,
            "ticks": "",
            "zerolinecolor": "white"
           },
           "zaxis": {
            "backgroundcolor": "#E5ECF6",
            "gridcolor": "white",
            "gridwidth": 2,
            "linecolor": "white",
            "showbackground": true,
            "ticks": "",
            "zerolinecolor": "white"
           }
          },
          "shapedefaults": {
           "line": {
            "color": "#2a3f5f"
           }
          },
          "ternary": {
           "aaxis": {
            "gridcolor": "white",
            "linecolor": "white",
            "ticks": ""
           },
           "baxis": {
            "gridcolor": "white",
            "linecolor": "white",
            "ticks": ""
           },
           "bgcolor": "#E5ECF6",
           "caxis": {
            "gridcolor": "white",
            "linecolor": "white",
            "ticks": ""
           }
          },
          "title": {
           "x": 0.05
          },
          "xaxis": {
           "automargin": true,
           "gridcolor": "white",
           "linecolor": "white",
           "ticks": "",
           "title": {
            "standoff": 15
           },
           "zerolinecolor": "white",
           "zerolinewidth": 2
          },
          "yaxis": {
           "automargin": true,
           "gridcolor": "white",
           "linecolor": "white",
           "ticks": "",
           "title": {
            "standoff": 15
           },
           "zerolinecolor": "white",
           "zerolinewidth": 2
          }
         }
        }
       }
      }
     },
     "metadata": {},
     "output_type": "display_data"
    }
   ],
   "source": [
    "px.scatter_3d(accuracies_df[accuracies_df['Accuracy']>0.32], \n",
    "              x='t_prior', \n",
    "              y='e_prior', \n",
    "              z='Accuracy',\n",
    "              hover_name='Accuracy',\n",
    "              hover_data=['t_prior', \n",
    "                          'e_prior', \n",
    "                          'n_chords',\n",
    "                          'n_melody'],\n",
    "              category_orders={'t_prior': t_prior_labels,\n",
    "                'e_prior':e_prior_labels},\n",
    "              height=800)"
   ]
  },
  {
   "cell_type": "code",
   "execution_count": 72,
   "metadata": {},
   "outputs": [
    {
     "data": {
      "text/plain": [
       "Accuracy    0.4597\n",
       "n_chords         1\n",
       "n_melody         0\n",
       "t_prior     3012.5\n",
       "e_prior       50.0\n",
       "Name: 53, dtype: object"
      ]
     },
     "execution_count": 72,
     "metadata": {},
     "output_type": "execute_result"
    }
   ],
   "source": [
    "accuracies_df.loc[accuracies_df['Accuracy'].idxmax()]"
   ]
  },
  {
   "cell_type": "code",
   "execution_count": null,
   "metadata": {},
   "outputs": [
    {
     "name": "stdout",
     "output_type": "stream",
     "text": [
      "0.46\n",
      "0.0\n"
     ]
    }
   ],
   "source": [
    "print(accuracies_df['Accuracy'].max().round(2))\n",
    "print(np.floor(accuracies_df['Accuracy'].min()))"
   ]
  },
  {
   "cell_type": "code",
   "execution_count": 101,
   "metadata": {},
   "outputs": [
    {
     "name": "stdout",
     "output_type": "stream",
     "text": [
      "Grid Search Accuracies\n",
      "---------------------\n",
      "% of grid points >= (0.45):\t 0.147\n",
      "% of grid points >= (0.44):\t 0.36\n",
      "% of grid points >= (0.43):\t 0.6\n",
      "% of grid points >= (0.42):\t 0.787\n",
      "% of grid points >= (0.41):\t 0.907\n",
      "% of grid points >= (0.38):\t 0.92\n",
      "% of grid points >= (0.31):\t 0.933\n",
      "% of grid points >= (0.01):\t 0.987\n",
      "% of grid points >= (0.00):\t 1.0\n"
     ]
    }
   ],
   "source": [
    "percs = list(range(int(np.floor(accuracies_df['Accuracy'].min())),\n",
    "           int(accuracies_df['Accuracy'].max().round(2)*100),\n",
    "           1\n",
    "           )\n",
    "    )\n",
    "total_len = len(accuracies_df)\n",
    "\n",
    "previous_perc_above = -1\n",
    "print('Grid Search Accuracies')\n",
    "print('---------------------')\n",
    "for perc in percs[::-1]:\n",
    "    perc = perc/100.0\n",
    "    # print(perc)\n",
    "    perc_len = len(accuracies_df[accuracies_df['Accuracy'] >= perc])\n",
    "    perc_above = round(perc_len/total_len, 3)\n",
    "\n",
    "    if perc_above != previous_perc_above:\n",
    "        print(f\"% of grid points >= ({perc:.2f}):\\t {round(perc_above, 3)}\")\n",
    "        previous_perc_above = perc_above\n"
   ]
  },
  {
   "cell_type": "code",
   "execution_count": null,
   "metadata": {},
   "outputs": [],
   "source": []
  }
 ],
 "metadata": {
  "kernelspec": {
   "display_name": "Python 3",
   "language": "python",
   "name": "python3"
  },
  "language_info": {
   "codemirror_mode": {
    "name": "ipython",
    "version": 3
   },
   "file_extension": ".py",
   "mimetype": "text/x-python",
   "name": "python",
   "nbconvert_exporter": "python",
   "pygments_lexer": "ipython3",
   "version": "3.10.16"
  }
 },
 "nbformat": 4,
 "nbformat_minor": 2
}
