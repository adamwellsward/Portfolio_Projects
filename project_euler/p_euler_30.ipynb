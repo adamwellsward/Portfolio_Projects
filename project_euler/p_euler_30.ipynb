{
 "cells": [
  {
   "cell_type": "markdown",
   "id": "4994d400",
   "metadata": {},
   "source": [
    "## Project Euler Solution #30"
   ]
  },
  {
   "cell_type": "code",
   "execution_count": 1,
   "id": "5afc68a2",
   "metadata": {},
   "outputs": [],
   "source": [
    "import numpy as np"
   ]
  },
  {
   "cell_type": "markdown",
   "id": "86d83436",
   "metadata": {},
   "source": [
    "#### Strategy\n",
    "\n",
    "- function to run through possible numbers up to N\n",
    "- iterate through values of N until the function value stabilizes\n",
    "- function to compute a single number\n",
    "- within the single number function, if the first digit ^ 5 is already greater than the number, break.\n",
    "- do this for each number so it speeds things up"
   ]
  },
  {
   "cell_type": "code",
   "execution_count": 12,
   "id": "4185cb0f",
   "metadata": {},
   "outputs": [],
   "source": [
    "def sum_power_digits(x, p):\n",
    "    \"\"\"Check if a number is the sum of the pth powers of its digits.\"\"\"\n",
    "    digits = [int(d) for d in str(x)]\n",
    "\n",
    "    sum = 0\n",
    "    for d in digits:\n",
    "        power = d**p\n",
    "        if power > x:\n",
    "            return False\n",
    "        sum += power\n",
    "    \n",
    "    return True if sum == x else False\n",
    "\n",
    "def check_up_to(N, p):\n",
    "    nums = []\n",
    "    for i in range(2, N+1):\n",
    "        if sum_power_digits(i, p):\n",
    "            nums.append(i)\n",
    "    return len(nums), sum(nums)\n"
   ]
  },
  {
   "cell_type": "code",
   "execution_count": 17,
   "id": "97782ba8",
   "metadata": {},
   "outputs": [
    {
     "name": "stdout",
     "output_type": "stream",
     "text": [
      "(6, 443839)\n",
      "(6, 443839)\n",
      "(6, 443839)\n",
      "(6, 443839)\n",
      "(6, 443839)\n",
      "(6, 443839)\n",
      "(6, 443839)\n",
      "(6, 443839)\n",
      "(6, 443839)\n",
      "(6, 443839)\n"
     ]
    }
   ],
   "source": [
    "for n in range(1000000, 10000001, 1000000):\n",
    "    print(check_up_to(n, 5))"
   ]
  },
  {
   "cell_type": "markdown",
   "id": "d64ea82a",
   "metadata": {},
   "source": [
    "The answer has converged. After solving and reading others' thoughts, I realized that an upper bound on the search can be computed using 9 as all the digits. I would do this next time to not use a 'guess and check' method."
   ]
  }
 ],
 "metadata": {
  "kernelspec": {
   "display_name": "Python 3",
   "language": "python",
   "name": "python3"
  },
  "language_info": {
   "codemirror_mode": {
    "name": "ipython",
    "version": 3
   },
   "file_extension": ".py",
   "mimetype": "text/x-python",
   "name": "python",
   "nbconvert_exporter": "python",
   "pygments_lexer": "ipython3",
   "version": "3.10.12"
  }
 },
 "nbformat": 4,
 "nbformat_minor": 5
}
