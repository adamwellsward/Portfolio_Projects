{
 "cells": [
  {
   "cell_type": "markdown",
   "id": "4994d400",
   "metadata": {},
   "source": [
    "## Project Euler Solution #31"
   ]
  },
  {
   "cell_type": "code",
   "execution_count": 1,
   "id": "5afc68a2",
   "metadata": {},
   "outputs": [],
   "source": [
    "import numpy as np"
   ]
  },
  {
   "cell_type": "markdown",
   "id": "a7e2c48d",
   "metadata": {},
   "source": [
    "Brute Force: For up to 200 coins total, do the sum or every different combination of the coins. If it is more than 200p, throw it out. iterate down for the number of coins to use and keep trying. Probably not feasible.\n",
    "\n",
    "Idea: start with the largest coin. Get every combination using that coin or any number of that coin. then throw it out and keep moving down to the bottom, where the last combination will be 200 1p coins. \n",
    "\n"
   ]
  },
  {
   "cell_type": "markdown",
   "id": "8849d652",
   "metadata": {},
   "source": [
    "We are solving the equation:\n",
    "$x + 2y + 5z + 10u + 20v + 50w + 100t + 200s = 200$, where $x =$ 1p, $y =$ 2p, $z =$ 5p, $u =$ 10p, $v =$ 20p, $w =$ 50p, $t =$ 100p, and $s =$ 200p, the number of each of the coin types. We need all of the combinations of variables that satisfy this equation. Naturally, $x+y+z+u+v+w+t + s \\leq 200$."
   ]
  },
  {
   "cell_type": "code",
   "execution_count": 11,
   "id": "2df4d891",
   "metadata": {},
   "outputs": [],
   "source": [
    "coeffs = np.array([1, 2, 5, 10, 20, 50, 100, 200])\n",
    "\n",
    "# brute force method (failed)\n",
    "combs = 0\n",
    "too_many = False\n",
    "for s in range(2):\n",
    "    too_many = False\n",
    "    for t in range(3):\n",
    "        too_many = False\n",
    "        for w in range(5):\n",
    "            too_many = False\n",
    "            for v in range(11):\n",
    "                too_many = False\n",
    "                for u in range(21):\n",
    "                    too_many = False\n",
    "                    for z in range(41):\n",
    "                        too_many = False\n",
    "                        for y in range(101):\n",
    "                            too_many = False\n",
    "                            for x in range(201):\n",
    "                                vector = np.array([x, y, z, u, v, w, t, s])\n",
    "                                if np.sum(vector) > 200:\n",
    "                                    too_many = True\n",
    "                                    break \n",
    "                                if vector @ coeffs == 200:\n",
    "                                    combs += 1 \n",
    "                            if too_many: break\n",
    "                        if too_many: break\n",
    "                    if too_many: break\n",
    "                if too_many: break\n",
    "            if too_many: break\n",
    "        if too_many: break         "
   ]
  },
  {
   "cell_type": "code",
   "execution_count": null,
   "id": "9cd9781a",
   "metadata": {},
   "outputs": [],
   "source": [
    "vals = np.array([1, 2, 5, 10, 20, 50, 100, 200])"
   ]
  }
 ],
 "metadata": {
  "kernelspec": {
   "display_name": "Python 3",
   "language": "python",
   "name": "python3"
  },
  "language_info": {
   "codemirror_mode": {
    "name": "ipython",
    "version": 3
   },
   "file_extension": ".py",
   "mimetype": "text/x-python",
   "name": "python",
   "nbconvert_exporter": "python",
   "pygments_lexer": "ipython3",
   "version": "3.10.12"
  }
 },
 "nbformat": 4,
 "nbformat_minor": 5
}
