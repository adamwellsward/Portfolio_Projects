{
 "cells": [
  {
   "cell_type": "markdown",
   "id": "4994d400",
   "metadata": {},
   "source": [
    "## Project Euler Solution #31"
   ]
  },
  {
   "cell_type": "code",
   "execution_count": 2,
   "id": "5afc68a2",
   "metadata": {},
   "outputs": [],
   "source": [
    "import numpy as np"
   ]
  },
  {
   "cell_type": "markdown",
   "id": "a7e2c48d",
   "metadata": {},
   "source": [
    "Brute Force: For up to 200 coins total, do the sum or every different combination of the coins. If it is more than 200p, throw it out. iterate down for the number of coins to use and keep trying. Probably not feasible.\n",
    "\n",
    "Idea: start with the largest coin. Get every combination using that coin or any number of that coin. then throw it out and keep moving down to the bottom, where the last combination will be 200 1p coins. \n",
    "\n"
   ]
  },
  {
   "cell_type": "markdown",
   "id": "8849d652",
   "metadata": {},
   "source": [
    "We are solving the equation:\n",
    "$x + 2y + 5z + 10u + 20v + 50w + 100t + 200s = 200$, where $x =$ 1p, $y =$ 2p, $z =$ 5p, $u =$ 10p, $v =$ 20p, $w =$ 50p, $t =$ 100p, and $s =$ 200p, the number of each of the coin types. We need all of the combinations of variables that satisfy this equation. Naturally, $x+y+z+u+v+w+t + s \\leq 200$."
   ]
  },
  {
   "cell_type": "code",
   "execution_count": 11,
   "id": "2df4d891",
   "metadata": {},
   "outputs": [],
   "source": [
    "coeffs = np.array([1, 2, 5, 10, 20, 50, 100, 200])\n",
    "\n",
    "# brute force method (failed)\n",
    "combs = 0\n",
    "too_many = False\n",
    "for s in range(2):\n",
    "    too_many = False\n",
    "    for t in range(3):\n",
    "        too_many = False\n",
    "        for w in range(5):\n",
    "            too_many = False\n",
    "            for v in range(11):\n",
    "                too_many = False\n",
    "                for u in range(21):\n",
    "                    too_many = False\n",
    "                    for z in range(41):\n",
    "                        too_many = False\n",
    "                        for y in range(101):\n",
    "                            too_many = False\n",
    "                            for x in range(201):\n",
    "                                vector = np.array([x, y, z, u, v, w, t, s])\n",
    "                                if np.sum(vector) > 200:\n",
    "                                    too_many = True\n",
    "                                    break \n",
    "                                if vector @ coeffs == 200:\n",
    "                                    combs += 1 \n",
    "                            if too_many: break\n",
    "                        if too_many: break\n",
    "                    if too_many: break\n",
    "                if too_many: break\n",
    "            if too_many: break\n",
    "        if too_many: break         "
   ]
  },
  {
   "cell_type": "code",
   "execution_count": null,
   "id": "9cd9781a",
   "metadata": {},
   "outputs": [],
   "source": [
    "# next try method, iterating through the coins and adding different values of them together. This failed too.\n",
    "\n",
    "vals = np.array([200, 100, 50, 20, 10, 5, 2, 1])\n",
    "nums = [val * np.arange(200 // val + 1) for val in vals]\n",
    "print(nums)\n",
    "# full = 200\n",
    "i = 0\n",
    "coins = {}\n",
    "while i < len(vals):\n",
    "    curr_costs = nums[i]\n",
    "    coin_counts = 0\n",
    "    full = 200\n",
    "    for j, cost in enumerate(curr_costs):\n",
    "        full -= cost\n",
    "        if full == 0:\n",
    "            coins[i] = j\n",
    "            break\n",
    "    i += 1\n",
    "\n",
    "coins\n",
    "\n",
    "\n"
   ]
  },
  {
   "cell_type": "code",
   "execution_count": 27,
   "id": "e62745cb",
   "metadata": {},
   "outputs": [
    {
     "name": "stdout",
     "output_type": "stream",
     "text": [
      "There are 73682 ways to make 2 pounds with these coins\n"
     ]
    }
   ],
   "source": [
    "# next try: with a hint from ChatGPT about dynammic programming, I came up with this\n",
    "vals = np.array([200, 100, 50, 20, 10, 5, 2, 1])    # coin values\n",
    "\n",
    "# initialize dynamic array with the number of way each amount can be created (length 200 for the 200 values)\n",
    "ways = np.zeros(200, dtype=int)\n",
    "\n",
    "# for the value '0', put 1: there is 1 way to make 0, which is no coins at all\n",
    "ways = np.hstack([np.array([1]), ways], dtype=int)\n",
    "\n",
    "# now iterate through the coin values\n",
    "for val in vals:\n",
    "    # iterate through the possible values between this value and 200\n",
    "    for amount in range(val, 201):\n",
    "        ways[amount] += ways[amount - val]  # add the number of ways the smalller amounts could be made using this val\n",
    "\n",
    "# the answer is in the 200th position of the array\n",
    "print(f\"There are {ways[200]} ways to make 2 pounds with these coins\")"
   ]
  }
 ],
 "metadata": {
  "kernelspec": {
   "display_name": "Python 3",
   "language": "python",
   "name": "python3"
  },
  "language_info": {
   "codemirror_mode": {
    "name": "ipython",
    "version": 3
   },
   "file_extension": ".py",
   "mimetype": "text/x-python",
   "name": "python",
   "nbconvert_exporter": "python",
   "pygments_lexer": "ipython3",
   "version": "3.10.12"
  }
 },
 "nbformat": 4,
 "nbformat_minor": 5
}
