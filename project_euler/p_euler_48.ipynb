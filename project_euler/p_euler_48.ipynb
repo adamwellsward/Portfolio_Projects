{
 "cells": [
  {
   "cell_type": "markdown",
   "id": "4994d400",
   "metadata": {},
   "source": [
    "## Project Euler Solution #48"
   ]
  },
  {
   "cell_type": "code",
   "execution_count": 1,
   "id": "5afc68a2",
   "metadata": {},
   "outputs": [],
   "source": [
    "import numpy as np"
   ]
  },
  {
   "cell_type": "code",
   "execution_count": null,
   "id": "4185cb0f",
   "metadata": {},
   "outputs": [
    {
     "name": "stdout",
     "output_type": "stream",
     "text": [
      "The last 10 digits are 9110846700\n"
     ]
    }
   ],
   "source": [
    "# solution code here\n",
    "val = 0\n",
    "for i in range(1, 1001):\n",
    "    val += i**i\n",
    "\n",
    "print(f\"The last 10 digits are {str(val)[-10:]}\")"
   ]
  }
 ],
 "metadata": {
  "kernelspec": {
   "display_name": "Python 3",
   "language": "python",
   "name": "python3"
  },
  "language_info": {
   "codemirror_mode": {
    "name": "ipython",
    "version": 3
   },
   "file_extension": ".py",
   "mimetype": "text/x-python",
   "name": "python",
   "nbconvert_exporter": "python",
   "pygments_lexer": "ipython3",
   "version": "3.10.12"
  }
 },
 "nbformat": 4,
 "nbformat_minor": 5
}
