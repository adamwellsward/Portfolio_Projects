{
 "cells": [
  {
   "cell_type": "markdown",
   "id": "4994d400",
   "metadata": {},
   "source": [
    "## Project Euler Solution #52"
   ]
  },
  {
   "cell_type": "code",
   "execution_count": 1,
   "id": "5afc68a2",
   "metadata": {},
   "outputs": [],
   "source": [
    "import numpy as np"
   ]
  },
  {
   "cell_type": "code",
   "execution_count": 20,
   "id": "4185cb0f",
   "metadata": {},
   "outputs": [],
   "source": [
    "# function to check for found\n",
    "def check_multiples(x):\n",
    "    \"\"\"Return true if n * x has the same digits for n in [1, 6].\"\"\"\n",
    "    mults = np.arange(2, 7) * x\n",
    "    x_sort = \"\".join(sorted(str(x)))\n",
    "    vals = [True if \"\".join(sorted(str(val))) == x_sort else False for val in mults]\n",
    "    return all(vals)"
   ]
  },
  {
   "cell_type": "code",
   "execution_count": 24,
   "id": "44f10b5e",
   "metadata": {},
   "outputs": [
    {
     "name": "stdout",
     "output_type": "stream",
     "text": [
      "The number is 142857.\n"
     ]
    }
   ],
   "source": [
    "# run through numbers until we find it!\n",
    "N = 1000000\n",
    "for i in range(10, N):\n",
    "    if check_multiples(i):\n",
    "        print(f\"The number is {i}.\")\n",
    "        break"
   ]
  }
 ],
 "metadata": {
  "kernelspec": {
   "display_name": "Python 3",
   "language": "python",
   "name": "python3"
  },
  "language_info": {
   "codemirror_mode": {
    "name": "ipython",
    "version": 3
   },
   "file_extension": ".py",
   "mimetype": "text/x-python",
   "name": "python",
   "nbconvert_exporter": "python",
   "pygments_lexer": "ipython3",
   "version": "3.10.12"
  }
 },
 "nbformat": 4,
 "nbformat_minor": 5
}
