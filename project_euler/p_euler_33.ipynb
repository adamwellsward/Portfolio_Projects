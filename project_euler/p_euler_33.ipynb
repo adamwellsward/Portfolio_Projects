{
 "cells": [
  {
   "cell_type": "markdown",
   "id": "4994d400",
   "metadata": {},
   "source": [
    "## Project Euler Solution #33"
   ]
  },
  {
   "cell_type": "code",
   "execution_count": 1,
   "id": "5afc68a2",
   "metadata": {},
   "outputs": [],
   "source": [
    "import numpy as np"
   ]
  },
  {
   "cell_type": "code",
   "execution_count": 31,
   "id": "4185cb0f",
   "metadata": {},
   "outputs": [],
   "source": [
    "# function to perform BAD canceling\n",
    "def bad_cancel(num, denom):\n",
    "    \"\"\"Takes a numerator and denominator and cancels numbers that are duplicated in the top and bottom. \n",
    "    \n",
    "    Returns the new numerator and denominator, and a boolean indicating whether cancelation occured, in that order. \"\"\"\n",
    "    if num == denom:\n",
    "        return 1, 1\n",
    "    str_num = str(num)\n",
    "    str_denom = str(denom)\n",
    "    new_num = str_num\n",
    "    new_denom = str_denom\n",
    "    changed = False\n",
    "    for digit in str_num:\n",
    "        if digit in str_denom and digit != '0':\n",
    "            new_num = \"\".join([str_num[:str_num.find(digit)], str_num[str_num.find(digit)+1:]])\n",
    "            new_denom = \"\".join([str_denom[:str_denom.find(digit)], str_denom[str_denom.find(digit)+1:]])\n",
    "            changed = True\n",
    "    \n",
    "    # return the new numbers, handling the case where the denominator is now 0 by returning -1\n",
    "    return int(new_num), int(new_denom) if int(new_denom) != 0 else -1, changed"
   ]
  },
  {
   "cell_type": "code",
   "execution_count": 32,
   "id": "2bea5534",
   "metadata": {},
   "outputs": [
    {
     "name": "stdout",
     "output_type": "stream",
     "text": [
      "30 / 50 becomes 30 / 50\n",
      "49 / 98 becomes 4 / 8\n",
      "22 / 22 becomes 1 / 1\n"
     ]
    }
   ],
   "source": [
    "# test with known examples\n",
    "print(f\"30 / 50 becomes {bad_cancel(30, 50)[0]} / {bad_cancel(30, 50)[1]}\")\n",
    "print(f\"49 / 98 becomes {bad_cancel(49, 98)[0]} / {bad_cancel(49, 98)[1]}\")\n",
    "print(f\"22 / 22 becomes {bad_cancel(22, 22)[0]} / {bad_cancel(22, 22)[1]}\")"
   ]
  },
  {
   "cell_type": "code",
   "execution_count": null,
   "id": "28495b71",
   "metadata": {},
   "outputs": [
    {
     "data": {
      "text/plain": [
       "0.010000000000000002"
      ]
     },
     "execution_count": 42,
     "metadata": {},
     "output_type": "execute_result"
    }
   ],
   "source": [
    "# iterate through all 2-digit numbers, where the denominator stays greater than the numerator, and find the 4 non-trivial pairs\n",
    "pairs = []\n",
    "for denom in range(10, 100):\n",
    "    for num in range(10, denom):\n",
    "        new_num, new_denom, changed = bad_cancel(num, denom)\n",
    "        if not changed:\n",
    "            continue\n",
    "        if num / denom == new_num / new_denom:\n",
    "            pairs.append(num / denom)\n",
    "\n",
    "# now obtain the product of the 4 fractions and get the denominator\n",
    "prod = np.prod(pairs)\n",
    "prod\n",
    "# floating point error occurs, but the answer is .01, or 1/100. The answer is 100!"
   ]
  },
  {
   "cell_type": "code",
   "execution_count": null,
   "id": "bbdc0bc4",
   "metadata": {},
   "outputs": [],
   "source": []
  }
 ],
 "metadata": {
  "kernelspec": {
   "display_name": "Python 3",
   "language": "python",
   "name": "python3"
  },
  "language_info": {
   "codemirror_mode": {
    "name": "ipython",
    "version": 3
   },
   "file_extension": ".py",
   "mimetype": "text/x-python",
   "name": "python",
   "nbconvert_exporter": "python",
   "pygments_lexer": "ipython3",
   "version": "3.10.12"
  }
 },
 "nbformat": 4,
 "nbformat_minor": 5
}
