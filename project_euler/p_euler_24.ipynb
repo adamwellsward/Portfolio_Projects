{
 "cells": [
  {
   "cell_type": "markdown",
   "id": "4994d400",
   "metadata": {},
   "source": [
    "## Project Euler Solution #24"
   ]
  },
  {
   "cell_type": "code",
   "execution_count": 3,
   "id": "5afc68a2",
   "metadata": {},
   "outputs": [],
   "source": [
    "import numpy as np\n",
    "from itertools import permutations"
   ]
  },
  {
   "cell_type": "code",
   "execution_count": 9,
   "id": "4185cb0f",
   "metadata": {},
   "outputs": [
    {
     "name": "stdout",
     "output_type": "stream",
     "text": [
      "(0, 1, 2)\n",
      "(0, 2, 1)\n",
      "(1, 0, 2)\n",
      "(1, 2, 0)\n",
      "(2, 0, 1)\n",
      "(2, 1, 0)\n"
     ]
    }
   ],
   "source": [
    "# test permutations\n",
    "n = 2\n",
    "nums = np.arange(n+1)\n",
    "for p in permutations(nums):\n",
    "    print(p)"
   ]
  },
  {
   "cell_type": "code",
   "execution_count": 12,
   "id": "f37c1dea",
   "metadata": {},
   "outputs": [
    {
     "name": "stdout",
     "output_type": "stream",
     "text": [
      "The millionth term is 2783915460\n"
     ]
    }
   ],
   "source": [
    "# run the permutations until 1 million, then print it\n",
    "n = 9\n",
    "nums = np.arange(n+1)\n",
    "term = None\n",
    "for i, p in enumerate(permutations(nums)):\n",
    "    if i == 1_000_000 - 1:\n",
    "        term = p\n",
    "        break\n",
    "\n",
    "print(\"The millionth term is\", int(\"\".join([str(num) for num in term])))"
   ]
  }
 ],
 "metadata": {
  "kernelspec": {
   "display_name": "Python 3",
   "language": "python",
   "name": "python3"
  },
  "language_info": {
   "codemirror_mode": {
    "name": "ipython",
    "version": 3
   },
   "file_extension": ".py",
   "mimetype": "text/x-python",
   "name": "python",
   "nbconvert_exporter": "python",
   "pygments_lexer": "ipython3",
   "version": "3.10.12"
  }
 },
 "nbformat": 4,
 "nbformat_minor": 5
}
