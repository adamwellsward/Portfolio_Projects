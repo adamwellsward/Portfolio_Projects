{
 "cells": [
  {
   "cell_type": "markdown",
   "id": "4994d400",
   "metadata": {},
   "source": [
    "## Project Euler Solution #53"
   ]
  },
  {
   "cell_type": "code",
   "execution_count": 1,
   "id": "5afc68a2",
   "metadata": {},
   "outputs": [],
   "source": [
    "import numpy as np"
   ]
  },
  {
   "cell_type": "code",
   "execution_count": null,
   "id": "4185cb0f",
   "metadata": {},
   "outputs": [],
   "source": [
    "def pascals_tri(n):\n",
    "    \"\"\"Generate n rows of pascals triangle (not including the 0th row).\"\"\"\n",
    "    tri = [[1]*num for num in range(1, n + 2)]\n",
    "    if n < 2:\n",
    "        return tri\n",
    "    for i in range(2, len(tri)):\n",
    "        for j in range(1, len(tri[i])-1):\n",
    "            tri[i][j] += tri[i-1][j-1] + tri[i-1][j] - 1\n",
    "    return tri"
   ]
  },
  {
   "cell_type": "code",
   "execution_count": 32,
   "id": "ec40c11f",
   "metadata": {},
   "outputs": [
    {
     "name": "stdout",
     "output_type": "stream",
     "text": [
      "The answer is 4075.\n"
     ]
    }
   ],
   "source": [
    "# generate 100 rows of pascals triangle for easy lookup\n",
    "p_tri = pascals_tri(100)\n",
    "\n",
    "# now run through to find all of the values that are greater than 1 million\n",
    "count = 0\n",
    "for i in range(23, 101):\n",
    "    vals = np.array(p_tri[i])\n",
    "    count += np.sum(vals > 1_000_000)\n",
    "\n",
    "print(f\"The answer is {count}.\")"
   ]
  }
 ],
 "metadata": {
  "kernelspec": {
   "display_name": "Python 3",
   "language": "python",
   "name": "python3"
  },
  "language_info": {
   "codemirror_mode": {
    "name": "ipython",
    "version": 3
   },
   "file_extension": ".py",
   "mimetype": "text/x-python",
   "name": "python",
   "nbconvert_exporter": "python",
   "pygments_lexer": "ipython3",
   "version": "3.10.12"
  }
 },
 "nbformat": 4,
 "nbformat_minor": 5
}
