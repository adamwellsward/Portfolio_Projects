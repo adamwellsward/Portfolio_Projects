{
 "cells": [
  {
   "cell_type": "markdown",
   "id": "4994d400",
   "metadata": {},
   "source": [
    "## Project Euler Solution #42"
   ]
  },
  {
   "cell_type": "code",
   "execution_count": 2,
   "id": "5afc68a2",
   "metadata": {},
   "outputs": [],
   "source": [
    "import numpy as np\n",
    "from important_functions import import_data"
   ]
  },
  {
   "cell_type": "code",
   "execution_count": 6,
   "id": "4185cb0f",
   "metadata": {},
   "outputs": [],
   "source": [
    "# import the data and initialize a scoring dictionary for the letters\n",
    "words = import_data(\"./data/42_words.txt\")\n",
    "alpha = \"ABCDEFGHIJKLMNOPQRSTUVWXYZ\"\n",
    "letter_scoring = {let:i+1 for i, let in enumerate(alpha)}"
   ]
  },
  {
   "cell_type": "markdown",
   "id": "06766f7f",
   "metadata": {},
   "source": [
    "Using some math, it can be shown that a number $x$ is a triangle number if and only if $1+8x$ is a perfect square. So that is all we need to check for each word score."
   ]
  },
  {
   "cell_type": "code",
   "execution_count": 13,
   "id": "bee4acb3",
   "metadata": {},
   "outputs": [
    {
     "name": "stdout",
     "output_type": "stream",
     "text": [
      "The number of triangle words in the file is 162.\n"
     ]
    }
   ],
   "source": [
    "tri_words = 0\n",
    "for word in words:\n",
    "    word_score = 0\n",
    "    for l in word:\n",
    "        word_score += letter_scoring[l]\n",
    "    if int(np.sqrt(1 + 8*word_score))**2 == 1 + 8*word_score:\n",
    "        tri_words += 1\n",
    "\n",
    "print(f\"The number of triangle words in the file is {tri_words}.\")"
   ]
  }
 ],
 "metadata": {
  "kernelspec": {
   "display_name": "Python 3",
   "language": "python",
   "name": "python3"
  },
  "language_info": {
   "codemirror_mode": {
    "name": "ipython",
    "version": 3
   },
   "file_extension": ".py",
   "mimetype": "text/x-python",
   "name": "python",
   "nbconvert_exporter": "python",
   "pygments_lexer": "ipython3",
   "version": "3.10.12"
  }
 },
 "nbformat": 4,
 "nbformat_minor": 5
}
