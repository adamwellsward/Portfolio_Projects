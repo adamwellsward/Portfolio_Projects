{
 "cells": [
  {
   "cell_type": "markdown",
   "id": "4994d400",
   "metadata": {},
   "source": [
    "## Project Euler Solution #44"
   ]
  },
  {
   "cell_type": "code",
   "execution_count": 1,
   "id": "5afc68a2",
   "metadata": {},
   "outputs": [],
   "source": [
    "import numpy as np"
   ]
  },
  {
   "cell_type": "code",
   "execution_count": 25,
   "id": "4185cb0f",
   "metadata": {},
   "outputs": [],
   "source": [
    "# helper function\n",
    "def is_pentagonal(x):\n",
    "    \"\"\"If x is pentagonal, return True. Else return False.\"\"\"\n",
    "    if (1 + (1 + 24*x)**.5) % 6 == 0:\n",
    "        return True\n",
    "    else:\n",
    "        return False\n",
    "\n",
    "def add_and_subtract(a, b):\n",
    "    \"\"\"Check if two pentagonal numbers have both a sum and difference that are pentagonal.\"\"\"\n",
    "    if a < b:\n",
    "        return is_pentagonal(a+b) and is_pentagonal(b - a)\n",
    "    elif a > b:\n",
    "        return is_pentagonal(a+b) and is_pentagonal(a - b)\n",
    "    else:\n",
    "        return \"Same number, nope\"\n",
    "    \n",
    "# tests\n",
    "# for i in range(13):\n",
    "#     if is_pentagonal(i):\n",
    "#         print(i)\n",
    "\n",
    "# generator for pentagonal numbers (up to N)\n",
    "def pentagonal(N):\n",
    "    curr = 1\n",
    "    n = 1\n",
    "    yield curr\n",
    "    while True:\n",
    "        n += 1\n",
    "        curr = n * (3*n - 1) // 2\n",
    "        if curr > N: \n",
    "            break\n",
    "        yield curr"
   ]
  },
  {
   "cell_type": "code",
   "execution_count": 27,
   "id": "0c100e3c",
   "metadata": {},
   "outputs": [
    {
     "name": "stdout",
     "output_type": "stream",
     "text": [
      "The minimized distance is 5482660.\n"
     ]
    }
   ],
   "source": [
    "N = 10_000_000  # guess and check until we get an answer. The first answer we obtain will be the smallest possible.\n",
    "list_o_pents = [x for x in pentagonal(N)]\n",
    "\n",
    "length = len(list_o_pents)\n",
    "diff = np.inf\n",
    "for i in range(length):\n",
    "    for j in range(i+1, length):\n",
    "        a = list_o_pents[i]\n",
    "        b = list_o_pents[j]\n",
    "        if add_and_subtract(a, b):\n",
    "            diff = b - a\n",
    "print(f\"The minimized distance is {diff}.\")"
   ]
  }
 ],
 "metadata": {
  "kernelspec": {
   "display_name": "Python 3",
   "language": "python",
   "name": "python3"
  },
  "language_info": {
   "codemirror_mode": {
    "name": "ipython",
    "version": 3
   },
   "file_extension": ".py",
   "mimetype": "text/x-python",
   "name": "python",
   "nbconvert_exporter": "python",
   "pygments_lexer": "ipython3",
   "version": "3.10.12"
  }
 },
 "nbformat": 4,
 "nbformat_minor": 5
}
