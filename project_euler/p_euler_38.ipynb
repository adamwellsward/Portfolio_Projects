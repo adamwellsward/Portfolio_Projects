{
 "cells": [
  {
   "cell_type": "markdown",
   "id": "4994d400",
   "metadata": {},
   "source": [
    "## Project Euler Solution #38"
   ]
  },
  {
   "cell_type": "code",
   "execution_count": 1,
   "id": "5afc68a2",
   "metadata": {},
   "outputs": [],
   "source": [
    "import numpy as np"
   ]
  },
  {
   "cell_type": "code",
   "execution_count": null,
   "id": "ec255e71",
   "metadata": {},
   "outputs": [
    {
     "data": {
      "text/plain": [
       "18000"
      ]
     },
     "execution_count": 2,
     "metadata": {},
     "output_type": "execute_result"
    }
   ],
   "source": [
    "# tests (this means we only need to check up to 4 digit numbers, because their product with 2 will be 5 digits, making 9 total)\n",
    "9000*2"
   ]
  },
  {
   "cell_type": "code",
   "execution_count": 13,
   "id": "4185cb0f",
   "metadata": {},
   "outputs": [
    {
     "name": "stdout",
     "output_type": "stream",
     "text": [
      "The largest pandigital number that can be made this way is 932718654.\n"
     ]
    }
   ],
   "source": [
    "# we know that 918273645 is one such number, so we are looking for a number greater than it.\n",
    "# such a number must start with 9! so that decreases the search immensely\n",
    "\n",
    "search_nums = np.concatenate([np.array([9]), np.arange(90, 100), np.arange(900, 1000), np.arange(9000, 10000)])\n",
    "largest_pan_num = 0\n",
    "for num in search_nums:\n",
    "    multiplier = 1\n",
    "    concat_prod = str(num * multiplier)\n",
    "    while len(concat_prod) < 9:\n",
    "        multiplier += 1\n",
    "        concat_prod += str(num * multiplier)\n",
    "    if not len(concat_prod) == 9:\n",
    "        continue\n",
    "    # check if the 9-digit result is pandigital\n",
    "    digits = ''.join(sorted(concat_prod))\n",
    "    if digits == \"123456789\" and int(concat_prod) > largest_pan_num:\n",
    "        largest_pan_num = int(concat_prod)\n",
    "\n",
    "print(f\"The largest pandigital number that can be made this way is {largest_pan_num}.\")"
   ]
  }
 ],
 "metadata": {
  "kernelspec": {
   "display_name": "Python 3",
   "language": "python",
   "name": "python3"
  },
  "language_info": {
   "codemirror_mode": {
    "name": "ipython",
    "version": 3
   },
   "file_extension": ".py",
   "mimetype": "text/x-python",
   "name": "python",
   "nbconvert_exporter": "python",
   "pygments_lexer": "ipython3",
   "version": "3.10.12"
  }
 },
 "nbformat": 4,
 "nbformat_minor": 5
}
