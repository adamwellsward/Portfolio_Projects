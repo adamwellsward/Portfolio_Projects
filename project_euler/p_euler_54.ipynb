{
 "cells": [
  {
   "cell_type": "markdown",
   "id": "4994d400",
   "metadata": {},
   "source": [
    "## Project Euler Solution #54"
   ]
  },
  {
   "cell_type": "code",
   "execution_count": 15,
   "id": "5afc68a2",
   "metadata": {},
   "outputs": [],
   "source": [
    "from itertools import combinations"
   ]
  },
  {
   "cell_type": "markdown",
   "id": "010328a0",
   "metadata": {},
   "source": [
    "*** Think about mapping each hand to a unique score... how could that be done? ***"
   ]
  },
  {
   "cell_type": "markdown",
   "id": "5c5d2776",
   "metadata": {},
   "source": [
    "High Card: Highest value card.\n",
    "\n",
    "One Pair: Two cards of the same value.\n",
    "\n",
    "Two Pairs: Two different pairs.\n",
    "\n",
    "Three of a Kind: Three cards of the same value.\n",
    "\n",
    "Straight: All cards are consecutive values.\n",
    "\n",
    "Flush: All cards of the same suit.\n",
    "\n",
    "Full House: Three of a kind and a pair.\n",
    "\n",
    "Four of a Kind: Four cards of the same value.\n",
    "\n",
    "Straight Flush: All cards are consecutive values of same suit.\n",
    "\n",
    "Royal Flush: Ten, Jack, Queen, King, Ace, in same suit.\n",
    "\n"
   ]
  },
  {
   "cell_type": "code",
   "execution_count": 76,
   "id": "4185cb0f",
   "metadata": {},
   "outputs": [],
   "source": [
    "# functions\n",
    "card_ordering = [str(i) for i in range(2, 10)] + ['T', 'J', 'Q', 'K', 'A']\n",
    "card_priority = {char: i for i, char in enumerate(card_ordering[::-1])}\n",
    "card_vals = {'2': 2, '3': 3, '4': 4,  '5': 5, '6': 6, '7': 7,  '8': 8,  '9': 9, 'T': 10, 'J': 11, 'Q': 12, 'K': 13, 'A': 14}\n",
    "\n",
    "def sort_key(item):\n",
    "    if len(item) != 2:\n",
    "        raise ValueError(\"Must be a 2-character card string.\")\n",
    "    return card_priority[item[0]]\n",
    "\n",
    "def sort_hand(hand):\n",
    "    \"\"\"Takes in a hand and returns the sorted hand of cards and the sorted list of suits.\"\"\"\n",
    "    sorted_hand = sorted(hand, key=sort_key)\n",
    "\n",
    "    cards = [card_vals[card[0]] for card in sorted_hand]\n",
    "    suits = [card[1] for card in sorted_hand]\n",
    "    return cards, suits\n",
    "\n",
    "def hand_score(cards, suits):\n",
    "    \"\"\"Returns a unique score for the hand.\"\"\"\n",
    "    straight = False\n",
    "    flush = False\n",
    "    three_o_kind = False\n",
    "    four_o_kind = False\n",
    "    full_house = False\n",
    "    two_pair = False\n",
    "    one_pair = False\n",
    "    nothing = False\n",
    "    highest = cards[0]\n",
    "\n",
    "    if all([s == suits[0] for s in suits[1:]]):\n",
    "        flush = True\n",
    "\n",
    "    if highest - cards[-1] == 4 and len(set(cards)) == 5:   # this was the error caught by ChatGPT after any failed attempts. I was not checking for distinct cards.\n",
    "        straight = True\n",
    "\n",
    "    quart_sum = 0\n",
    "    for quart in combinations(cards, 4):\n",
    "        if all([val == quart[0] for val in quart[1:]]):\n",
    "            four_o_kind = True\n",
    "            quart_sum += quart[0] * 3\n",
    "\n",
    "    trip_sum = 0\n",
    "    for trip in combinations(cards, 3):\n",
    "        if all([val == trip[0] for val in trip[1:]]):\n",
    "            three_o_kind = True\n",
    "            trip_sum += trip[0] * 3\n",
    "\n",
    "    if not four_o_kind:        \n",
    "        num_pairs = 0\n",
    "        pair_nums = [0]\n",
    "        trip_num = trip_sum // 3\n",
    "        for pair in combinations(cards, 2):\n",
    "            if pair[0] == pair[1] and pair[0] != trip_num:\n",
    "                num_pairs += 1\n",
    "                pair_nums.append(pair[0])\n",
    "                highest = [val for val in cards if val != pair[0]][0]     \n",
    "        if num_pairs == 1:\n",
    "            one_pair = True\n",
    "        if num_pairs == 2:\n",
    "            two_pair = True\n",
    "    \n",
    "    if not straight and not flush and not three_o_kind and not four_o_kind and not (two_pair or one_pair):\n",
    "        nothing = True\n",
    "\n",
    "    full_house = three_o_kind and one_pair\n",
    "    straight_flush = flush and straight\n",
    "\n",
    "    score = straight_flush * (highest + 264 + (238*4)) + four_o_kind * (quart_sum + 208 + (238*4)) + full_house * (trip_sum + 166 + (238*4)) + flush * (highest + 152 + (238*4)) + straight * (highest + 138 + (238*4)) + three_o_kind * (trip_sum + 96 + (238*4)) + two_pair * (highest + sum(pair_nums) * 16 + 42 + 238) + one_pair * (highest + max(pair_nums) * 16 + 14) + nothing * highest\n",
    "    return score\n",
    "\n",
    "def winner(p1, p2):\n",
    "    \"\"\"Takes two power hands, p1 and p2, and returns the winner (1 or 2).\"\"\"\n",
    "    # sort the hands using our cool functions\n",
    "    p1_cards, p1_suits = sort_hand(p1)\n",
    "    p2_cards, p2_suits = sort_hand(p2)\n",
    "\n",
    "    # score the hand\n",
    "    p1_score = hand_score(p1_cards, p1_suits)\n",
    "    p2_score = hand_score(p2_cards, p2_suits)\n",
    "    \n",
    "    # return the winner (after a final check)\n",
    "    if p1_score == p2_score:\n",
    "        raise ValueError(f\"Your scoring is broken with hands {p1} and {p2}.\")\n",
    "    return 1 if p1_score > p2_score else 2"
   ]
  },
  {
   "cell_type": "code",
   "execution_count": null,
   "id": "b0994337",
   "metadata": {},
   "outputs": [
    {
     "name": "stdout",
     "output_type": "stream",
     "text": [
      "['8C', 'TS', 'KC', '9H', '4S'] ['7D', '2S', '5D', '3S', 'AC']\n",
      "([13, 10, 9, 8, 4], ['C', 'S', 'H', 'C', 'S']) ([14, 7, 5, 3, 2], ['C', 'D', 'D', 'S', 'S'])\n",
      "The winner is Player 2!\n",
      "\n",
      "['5C', 'AD', '5D', 'AC', '9C'] ['7C', '5H', '8D', 'TD', 'KS']\n",
      "([14, 14, 9, 5, 5], ['D', 'C', 'C', 'C', 'D']) ([13, 10, 8, 7, 5], ['S', 'D', 'D', 'C', 'H'])\n",
      "The winner is Player 1!\n",
      "\n",
      "['3H', '7H', '6S', 'KC', 'JS'] ['QH', 'TD', 'JC', '2D', '8S']\n",
      "([13, 11, 7, 6, 3], ['C', 'S', 'H', 'S', 'H']) ([12, 11, 10, 8, 2], ['H', 'C', 'D', 'S', 'D'])\n",
      "The winner is Player 1!\n",
      "\n",
      "['TH', '8H', '5C', 'QS', 'TC'] ['9H', '4D', 'JC', 'KS', 'JS']\n",
      "([12, 10, 10, 8, 5], ['S', 'H', 'C', 'H', 'C']) ([13, 11, 11, 9, 4], ['S', 'C', 'S', 'H', 'D'])\n",
      "The winner is Player 2!\n",
      "\n",
      "['7C', '5H', 'KC', 'QH', 'JD'] ['AS', 'KH', '4C', 'AD', '4S']\n",
      "([13, 12, 11, 7, 5], ['C', 'H', 'D', 'C', 'H']) ([14, 14, 13, 4, 4], ['S', 'D', 'H', 'C', 'S'])\n",
      "The winner is Player 2!\n",
      "\n"
     ]
    }
   ],
   "source": [
    "# tests\n",
    "with open(\"./data/poker.txt\") as f:\n",
    "    all_hands = [line.strip().split(' ') for line in f.readlines()]\n",
    "\n",
    "for hand in all_hands[:5]:\n",
    "    p1 = hand[:5]\n",
    "    p2 = hand[5:]\n",
    "    print(p1, p2)\n",
    "    print(sort_hand(p1), sort_hand(p2))\n",
    "    print(f\"The winner is Player {winner(p1, p2)}!\\n\")"
   ]
  },
  {
   "cell_type": "code",
   "execution_count": 78,
   "id": "3740bc19",
   "metadata": {},
   "outputs": [
    {
     "name": "stdout",
     "output_type": "stream",
     "text": [
      "Player 1 won 376 hands.\n"
     ]
    }
   ],
   "source": [
    "# read in the data\n",
    "with open(\"./data/poker.txt\") as f:\n",
    "    all_hands = [line.strip().split(' ') for line in f.readlines()]\n",
    "\n",
    "count = 0\n",
    "for hand in all_hands:\n",
    "    p1 = hand[:5]\n",
    "    p2 = hand[5:]\n",
    "    if winner(p1, p2) == 1:\n",
    "        count += 1\n",
    "\n",
    "print(f\"Player 1 won {count} hands.\")"
   ]
  },
  {
   "cell_type": "code",
   "execution_count": null,
   "id": "03778ad7",
   "metadata": {},
   "outputs": [],
   "source": []
  }
 ],
 "metadata": {
  "kernelspec": {
   "display_name": "Python 3",
   "language": "python",
   "name": "python3"
  },
  "language_info": {
   "codemirror_mode": {
    "name": "ipython",
    "version": 3
   },
   "file_extension": ".py",
   "mimetype": "text/x-python",
   "name": "python",
   "nbconvert_exporter": "python",
   "pygments_lexer": "ipython3",
   "version": "3.10.12"
  }
 },
 "nbformat": 4,
 "nbformat_minor": 5
}
