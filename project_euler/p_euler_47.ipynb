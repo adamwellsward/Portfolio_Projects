{
 "cells": [
  {
   "cell_type": "markdown",
   "id": "4994d400",
   "metadata": {},
   "source": [
    "## Project Euler Solution #47"
   ]
  },
  {
   "cell_type": "code",
   "execution_count": 5,
   "id": "5afc68a2",
   "metadata": {},
   "outputs": [],
   "source": [
    "import numpy as np\n",
    "from important_functions import distinct_prime_factors, is_prime"
   ]
  },
  {
   "cell_type": "code",
   "execution_count": 14,
   "id": "123e06a8",
   "metadata": {},
   "outputs": [
    {
     "name": "stdout",
     "output_type": "stream",
     "text": [
      "The first of the four numbers is 134043.\n"
     ]
    }
   ],
   "source": [
    "# run through numbers until we find the four consecutive (must be greater than 644, so start there)\n",
    "curr = 644\n",
    "found = False\n",
    "num_in_row = 0\n",
    "while not found:\n",
    "    curr += 1\n",
    "    if is_prime(curr): \n",
    "        num_in_row = 0\n",
    "        continue\n",
    "    if len(distinct_prime_factors(curr)) == 4:\n",
    "        num_in_row += 1\n",
    "    else:\n",
    "        num_in_row = 0\n",
    "    if num_in_row == 4:\n",
    "        found = True\n",
    "\n",
    "print(f\"The first of the four numbers is {curr - 3}.\")"
   ]
  },
  {
   "cell_type": "code",
   "execution_count": 18,
   "id": "aec2e8c9",
   "metadata": {},
   "outputs": [
    {
     "data": {
      "text/plain": [
       "[2, 3, 11, 677]"
      ]
     },
     "execution_count": 18,
     "metadata": {},
     "output_type": "execute_result"
    }
   ],
   "source": [
    "distinct_prime_factors(curr)"
   ]
  }
 ],
 "metadata": {
  "kernelspec": {
   "display_name": "Python 3",
   "language": "python",
   "name": "python3"
  },
  "language_info": {
   "codemirror_mode": {
    "name": "ipython",
    "version": 3
   },
   "file_extension": ".py",
   "mimetype": "text/x-python",
   "name": "python",
   "nbconvert_exporter": "python",
   "pygments_lexer": "ipython3",
   "version": "3.10.12"
  }
 },
 "nbformat": 4,
 "nbformat_minor": 5
}
