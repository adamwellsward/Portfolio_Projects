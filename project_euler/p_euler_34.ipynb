{
 "cells": [
  {
   "cell_type": "markdown",
   "id": "4994d400",
   "metadata": {},
   "source": [
    "## Project Euler Solution #34"
   ]
  },
  {
   "cell_type": "code",
   "execution_count": 1,
   "id": "5afc68a2",
   "metadata": {},
   "outputs": [],
   "source": [
    "import numpy as np"
   ]
  },
  {
   "cell_type": "code",
   "execution_count": 4,
   "id": "4185cb0f",
   "metadata": {},
   "outputs": [],
   "source": [
    "# write my own factorial function\n",
    "def factorial(n):\n",
    "    \"\"\"returns the factorial of a non-negative integer n.\"\"\"\n",
    "    # check \n",
    "    if n < 0:\n",
    "        raise ValueError(\"Factorial only defined for positive integers\")\n",
    "    if n == 0:\n",
    "        return 1\n",
    "    # base case\n",
    "    if n == 1:\n",
    "        return 1\n",
    "    # recursive case\n",
    "    else:\n",
    "        return n * factorial(n-1)"
   ]
  },
  {
   "cell_type": "code",
   "execution_count": 14,
   "id": "28b6171a",
   "metadata": {},
   "outputs": [
    {
     "name": "stdout",
     "output_type": "stream",
     "text": [
      "0 1\n",
      "1 1\n",
      "2 2\n",
      "3 6\n",
      "4 24\n",
      "5 120\n",
      "6 720\n",
      "7 5040\n",
      "8 40320\n",
      "9 362880\n",
      "As an array:  [     1      1      2      6     24    120    720   5040  40320 362880]\n"
     ]
    }
   ],
   "source": [
    "# tests\n",
    "for i in range(10):\n",
    "    print(i, factorial(i))\n",
    "\n",
    "array_factorial = np.vectorize(factorial)\n",
    "\n",
    "test_arr = np.arange(10)\n",
    "print(\"As an array: \", array_factorial(test_arr))"
   ]
  },
  {
   "cell_type": "code",
   "execution_count": 28,
   "id": "ec487a44",
   "metadata": {},
   "outputs": [],
   "source": [
    "# search for these numbers\n",
    "N = 1000000     # chose this upper bound because the highest digit, 9, has a 6-digit number as its factorial.\n",
    "nums = []\n",
    "for i in range(N):\n",
    "    digits = np.sort(np.array([int(num) for num in str(i)]))\n",
    "    if np.sum(array_factorial(digits)) == i and len(digits) > 1:\n",
    "        nums.append(i)"
   ]
  },
  {
   "cell_type": "code",
   "execution_count": 29,
   "id": "c05ac689",
   "metadata": {},
   "outputs": [
    {
     "name": "stdout",
     "output_type": "stream",
     "text": [
      "The sum is 40730\n"
     ]
    }
   ],
   "source": [
    "print(\"The sum is\", np.sum(nums))"
   ]
  }
 ],
 "metadata": {
  "kernelspec": {
   "display_name": "Python 3",
   "language": "python",
   "name": "python3"
  },
  "language_info": {
   "codemirror_mode": {
    "name": "ipython",
    "version": 3
   },
   "file_extension": ".py",
   "mimetype": "text/x-python",
   "name": "python",
   "nbconvert_exporter": "python",
   "pygments_lexer": "ipython3",
   "version": "3.10.12"
  }
 },
 "nbformat": 4,
 "nbformat_minor": 5
}
