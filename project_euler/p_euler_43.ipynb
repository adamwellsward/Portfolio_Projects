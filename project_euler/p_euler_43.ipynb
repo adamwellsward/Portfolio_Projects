{
 "cells": [
  {
   "cell_type": "markdown",
   "id": "4994d400",
   "metadata": {},
   "source": [
    "## Project Euler Solution #43"
   ]
  },
  {
   "cell_type": "code",
   "execution_count": 1,
   "id": "5afc68a2",
   "metadata": {},
   "outputs": [],
   "source": [
    "import numpy as np\n",
    "from important_functions import n_pandigit_w_zero"
   ]
  },
  {
   "cell_type": "code",
   "execution_count": 8,
   "id": "4185cb0f",
   "metadata": {},
   "outputs": [],
   "source": [
    "# obtain all of the 0 to 9 pandigital numbers\n",
    "nums = n_pandigit_w_zero(9)\n",
    "divisors = [2, 3, 5, 7, 11, 13, 17]"
   ]
  },
  {
   "cell_type": "code",
   "execution_count": 9,
   "id": "a39a6c81",
   "metadata": {},
   "outputs": [
    {
     "name": "stdout",
     "output_type": "stream",
     "text": [
      "The sum of the 0 to 9 pandigitals with this property is 16695334890.\n"
     ]
    }
   ],
   "source": [
    "success_nums = []\n",
    "for num in nums:\n",
    "    num_str = str(num)\n",
    "    success = True\n",
    "    for i, d in enumerate(divisors):\n",
    "        curr = int(num_str[i+1:i+4])\n",
    "        if not curr % d == 0:\n",
    "            success = False\n",
    "            break\n",
    "    if success:\n",
    "        success_nums.append(num)\n",
    "\n",
    "print(f\"The sum of the 0 to 9 pandigitals with this property is {sum(success_nums)}.\")\n",
    "    "
   ]
  }
 ],
 "metadata": {
  "kernelspec": {
   "display_name": "Python 3",
   "language": "python",
   "name": "python3"
  },
  "language_info": {
   "codemirror_mode": {
    "name": "ipython",
    "version": 3
   },
   "file_extension": ".py",
   "mimetype": "text/x-python",
   "name": "python",
   "nbconvert_exporter": "python",
   "pygments_lexer": "ipython3",
   "version": "3.10.12"
  }
 },
 "nbformat": 4,
 "nbformat_minor": 5
}
