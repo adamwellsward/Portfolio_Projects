{
 "cells": [
  {
   "cell_type": "markdown",
   "id": "4994d400",
   "metadata": {},
   "source": [
    "## Project Euler Solution #50"
   ]
  },
  {
   "cell_type": "code",
   "execution_count": 28,
   "id": "5afc68a2",
   "metadata": {},
   "outputs": [],
   "source": [
    "import numpy as np\n",
    "from important_functions import primes_up_to\n",
    "from time import time"
   ]
  },
  {
   "cell_type": "code",
   "execution_count": 4,
   "id": "4185cb0f",
   "metadata": {},
   "outputs": [
    {
     "data": {
      "text/plain": [
       "78498"
      ]
     },
     "execution_count": 4,
     "metadata": {},
     "output_type": "execute_result"
    }
   ],
   "source": [
    "# we can start our search at 1000 and take groupings larger than 21 primes\n",
    "all_primes = np.array(primes_up_to(1_000_000))\n",
    "len(all_primes)"
   ]
  },
  {
   "cell_type": "code",
   "execution_count": 3,
   "id": "be1139b0",
   "metadata": {},
   "outputs": [
    {
     "name": "stdout",
     "output_type": "stream",
     "text": [
      "The max group size is 547.\n"
     ]
    }
   ],
   "source": [
    "# find the maximum grouping that it could be (when the sequence starting from 2 summs to be greater than 1 million)\n",
    "group_size = 21\n",
    "sum = 0\n",
    "while sum < 1_000_000:\n",
    "    sum = 0\n",
    "    group_size += 1\n",
    "    sum = np.sum(all_primes[:group_size])\n",
    "\n",
    "print(f\"The max group size is {group_size}.\")"
   ]
  },
  {
   "cell_type": "code",
   "execution_count": 10,
   "id": "3fa0a322",
   "metadata": {},
   "outputs": [
    {
     "name": "stdout",
     "output_type": "stream",
     "text": [
      "The answer is 997651 and the sequence is 7 + ... + 3931, with 543 terms in the sequence.\n"
     ]
    }
   ],
   "source": [
    "# perform the search\n",
    "found = False\n",
    "for i in reversed(range(group_size+1)):\n",
    "    for j in range(len(all_primes) - i):\n",
    "        group = all_primes[j:j+i]\n",
    "        if np.sum(group) in all_primes:\n",
    "            print(\"The answer is\", np.sum(all_primes[j:j+i]), f\"and the sequence is {group[0]} + ... + {group[-1]}, with {len(group)} terms in the sequence.\")\n",
    "            found = True\n",
    "            break\n",
    "    if found:\n",
    "        break"
   ]
  },
  {
   "cell_type": "markdown",
   "id": "05a17c1d",
   "metadata": {},
   "source": [
    "### Faster attempt, with ChatGPT hint"
   ]
  },
  {
   "cell_type": "code",
   "execution_count": 23,
   "id": "a72a5cec",
   "metadata": {},
   "outputs": [],
   "source": [
    "# we can start our search at 1000 and take groupings larger than 21 primes\n",
    "all_primes = np.array(primes_up_to(1_000_000))\n",
    "primes_set = set(all_primes)"
   ]
  },
  {
   "cell_type": "code",
   "execution_count": 26,
   "id": "cc571058",
   "metadata": {},
   "outputs": [],
   "source": [
    "# build prefix sum array\n",
    "prefix_sum = [0]\n",
    "next = 0\n",
    "for p in all_primes:\n",
    "    next += p\n",
    "    if next > 1_000_000:\n",
    "        break\n",
    "    prefix_sum.append(next)"
   ]
  },
  {
   "cell_type": "code",
   "execution_count": 30,
   "id": "32949ab9",
   "metadata": {},
   "outputs": [
    {
     "name": "stdout",
     "output_type": "stream",
     "text": [
      "The answer is 997651 and was found in 0.002630 seconds.\n"
     ]
    }
   ],
   "source": [
    "# perform the search\n",
    "start = time()\n",
    "max_size = 547  # found above\n",
    "found = False\n",
    "for i in range(max_size+1, 0, -1):\n",
    "    for j in range(len(prefix_sum) - i):\n",
    "        curr_sum = prefix_sum[i+j] - prefix_sum[j]\n",
    "        if curr_sum in all_primes:\n",
    "            print(f\"The answer is {curr_sum} and was found in {time() - start:.6f} seconds.\")\n",
    "            found = True\n",
    "            break\n",
    "    if found:\n",
    "        break\n"
   ]
  }
 ],
 "metadata": {
  "kernelspec": {
   "display_name": "Python 3",
   "language": "python",
   "name": "python3"
  },
  "language_info": {
   "codemirror_mode": {
    "name": "ipython",
    "version": 3
   },
   "file_extension": ".py",
   "mimetype": "text/x-python",
   "name": "python",
   "nbconvert_exporter": "python",
   "pygments_lexer": "ipython3",
   "version": "3.10.12"
  }
 },
 "nbformat": 4,
 "nbformat_minor": 5
}
