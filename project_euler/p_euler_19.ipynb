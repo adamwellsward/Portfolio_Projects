{
 "cells": [
  {
   "cell_type": "markdown",
   "id": "a95634fa",
   "metadata": {},
   "source": [
    "## Project Euler Solution #19"
   ]
  },
  {
   "cell_type": "code",
   "execution_count": 2,
   "id": "f78792d0",
   "metadata": {},
   "outputs": [],
   "source": [
    "import numpy as np"
   ]
  },
  {
   "cell_type": "code",
   "execution_count": 24,
   "id": "d3bfe079",
   "metadata": {},
   "outputs": [
    {
     "name": "stdout",
     "output_type": "stream",
     "text": [
      "{'January': 3, 'February': 0, 'March': 3, 'April': 2, 'May': 3, 'June': 2, 'July': 3, 'August': 3, 'September': 2, 'October': 3, 'November': 2, 'December': 3}\n"
     ]
    }
   ],
   "source": [
    "# dictionaries mapping months to the number of days in them\n",
    "months_to_days = {\"January\":    31,\n",
    "                  \"February\":   28,\n",
    "                  \"March\":      31,\n",
    "                  \"April\":      30, \n",
    "                  \"May\":        31, \n",
    "                  \"June\":       30,\n",
    "                  \"July\":       31,\n",
    "                  \"August\":     31,\n",
    "                  \"September\":  30,\n",
    "                  \"October\":    31,\n",
    "                  \"November\":   30,\n",
    "                  \"December\":   31}\n",
    "\n",
    "other_months_to_days = {k:v-28 for k, v in months_to_days.items()}\n",
    "print(other_months_to_days)\n",
    "\n",
    "day_nums = {\"Sunday\":   1,\n",
    "            \"Monday\":   2, \n",
    "            \"Tuesday\":  3, \n",
    "            \"Wednesday\":4, \n",
    "            \"Thursday\": 5,\n",
    "            \"Friday\":   6,\n",
    "            \"Saturday\": 7}"
   ]
  },
  {
   "cell_type": "code",
   "execution_count": 25,
   "id": "52d41c82",
   "metadata": {},
   "outputs": [
    {
     "data": {
      "text/plain": [
       "5"
      ]
     },
     "execution_count": 25,
     "metadata": {},
     "output_type": "execute_result"
    }
   ],
   "source": [
    "test = np.arange(2, 365+2)\n",
    "test = test % 7\n",
    "test[months_to_days[\"January\"]+months_to_days[\"February\"]]"
   ]
  },
  {
   "cell_type": "code",
   "execution_count": 30,
   "id": "c5cfcfd6",
   "metadata": {},
   "outputs": [
    {
     "name": "stdout",
     "output_type": "stream",
     "text": [
      "Number of Sundays on the first of the month:  171\n"
     ]
    }
   ],
   "source": [
    "# create an array of the days from 1 Jan 1901 to 31 Dec 2000, numbered 1-7, with 1 representing Sunday\n",
    "years = np.arange(1901, 2001)\n",
    "\n",
    "# total_days = 0\n",
    "# for year in years:\n",
    "#     if (year % 4 == 0):\n",
    "#         total_days += 366\n",
    "#     else:\n",
    "#         total_days += 365\n",
    "\n",
    "# day_o_week = np.arange(1, total_days + 1)\n",
    "\n",
    "# day_o_week = day_o_week % 7\n",
    "# for day in day_o_week:\n",
    "#     print(day)\n",
    "\n",
    "day_o_week = 3      # represents Tuesday, the first day of 1901\n",
    "sundays = 0\n",
    "months = list(months_to_days.keys())\n",
    "for year in years:\n",
    "    if year == 2000:\n",
    "        months = months[:-1]                        # to exclude Jan 1, 2001 (which is a Sunday)\n",
    "    for month in months:\n",
    "        day_o_week += months_to_days[month]         # move the day to the first day of the next month\n",
    "        if month == \"February\" and year % 4 == 0:   # if it is a leap year and February is the month, add an extra day\n",
    "            day_o_week += 1\n",
    "        if day_o_week % 7 == 1:                     # Sunday is represented by a 1, mod 7\n",
    "            sundays += 1  \n",
    "print(\"Number of Sundays on the first of the month: \", sundays)\n"
   ]
  },
  {
   "cell_type": "code",
   "execution_count": null,
   "id": "070b4159",
   "metadata": {},
   "outputs": [],
   "source": []
  }
 ],
 "metadata": {
  "kernelspec": {
   "display_name": "Python 3",
   "language": "python",
   "name": "python3"
  },
  "language_info": {
   "codemirror_mode": {
    "name": "ipython",
    "version": 3
   },
   "file_extension": ".py",
   "mimetype": "text/x-python",
   "name": "python",
   "nbconvert_exporter": "python",
   "pygments_lexer": "ipython3",
   "version": "3.10.12"
  }
 },
 "nbformat": 4,
 "nbformat_minor": 5
}
