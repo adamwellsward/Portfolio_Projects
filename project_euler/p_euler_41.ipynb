{
 "cells": [
  {
   "cell_type": "markdown",
   "id": "4994d400",
   "metadata": {},
   "source": [
    "## Project Euler Solution #41"
   ]
  },
  {
   "cell_type": "code",
   "execution_count": 23,
   "id": "5afc68a2",
   "metadata": {},
   "outputs": [],
   "source": [
    "import numpy as np\n",
    "from itertools import permutations\n",
    "from important_functions import is_prime"
   ]
  },
  {
   "cell_type": "code",
   "execution_count": 31,
   "id": "64a84e8f",
   "metadata": {},
   "outputs": [
    {
     "name": "stdout",
     "output_type": "stream",
     "text": [
      "[1234, 1243, 1324, 1342, 1423, 1432, 2134, 2143, 2314, 2341, 2413, 2431, 3124, 3142, 3214, 3241, 3412, 3421, 4123, 4132, 4213, 4231, 4312, 4321]\n"
     ]
    }
   ],
   "source": [
    "# test\n",
    "test = \"1234\"\n",
    "print([int(\"\".join(num)) for num in permutations(test)])"
   ]
  },
  {
   "cell_type": "code",
   "execution_count": null,
   "id": "4185cb0f",
   "metadata": {},
   "outputs": [],
   "source": [
    "# function to create a list of the n-digit pandigitals\n",
    "def n_pandigitals(n):\n",
    "    \"\"\"Return an array of the n-digit pandigital numbers.\"\"\"\n",
    "    numbers = \"\".join(str(d) for d in range(1, n+1))\n",
    "    return np.array([int(\"\".join(num)) for num in permutations(numbers)])\n",
    "\n",
    "# now define a function to create a list of the n-digit pandigitals that are odd numbers (candidates to be prime)\n",
    "def n_prime_pandigitals(n):\n",
    "    \"\"\"Return an array of the n-digit potentially prime pandigital numbers.\"\"\"\n",
    "    numbers = \"\".join(str(d) for d in range(1, n+1))\n",
    "    full_nums = np.array([int(\"\".join(num)) for num in permutations(numbers)])\n",
    "    return full_nums[full_nums % 2 != 0]"
   ]
  },
  {
   "cell_type": "code",
   "execution_count": 30,
   "id": "06aa31b3",
   "metadata": {},
   "outputs": [
    {
     "name": "stdout",
     "output_type": "stream",
     "text": [
      "The largest pandigital prime is 7652413\n"
     ]
    }
   ],
   "source": [
    "# now search from top to bottom. Stop when we find a prime\n",
    "n = 9\n",
    "found = False\n",
    "while n > 0 and not found:\n",
    "    candidates = np.sort(n_prime_pandigitals(n))[::-1]\n",
    "    for num in candidates:\n",
    "        if is_prime(num):\n",
    "            found = True\n",
    "            break\n",
    "    n -= 1\n",
    "\n",
    "print(\"The largest pandigital prime is\", num)"
   ]
  }
 ],
 "metadata": {
  "kernelspec": {
   "display_name": "Python 3",
   "language": "python",
   "name": "python3"
  },
  "language_info": {
   "codemirror_mode": {
    "name": "ipython",
    "version": 3
   },
   "file_extension": ".py",
   "mimetype": "text/x-python",
   "name": "python",
   "nbconvert_exporter": "python",
   "pygments_lexer": "ipython3",
   "version": "3.10.12"
  }
 },
 "nbformat": 4,
 "nbformat_minor": 5
}
