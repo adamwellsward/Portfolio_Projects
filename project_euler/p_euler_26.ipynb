{
 "cells": [
  {
   "cell_type": "markdown",
   "id": "4994d400",
   "metadata": {},
   "source": [
    "## Project Euler Solution #26"
   ]
  },
  {
   "cell_type": "code",
   "execution_count": 1,
   "id": "5afc68a2",
   "metadata": {},
   "outputs": [],
   "source": [
    "import numpy as np"
   ]
  },
  {
   "cell_type": "code",
   "execution_count": 70,
   "id": "1b08bb4c",
   "metadata": {},
   "outputs": [],
   "source": [
    "def find_repeat_length(n):\n",
    "    \"\"\" Finds the length of the recurring cycle in 1 / n, if there is any cycle. \"\"\"\n",
    "\n",
    "    # number validation\n",
    "    if 1 / n > 1:\n",
    "        raise ValueError(\"n must be a positive integer.\")\n",
    "    \n",
    "    # get a string of the numbers past the decimal\n",
    "    string_num = f\"{1/n}\"[2:]\n",
    "\n",
    "    i_vals = []\n",
    "    for i in range(1, 1000):\n",
    "        for j in range(len(string_num)-i):\n",
    "            seq = string_num[j:j+i]\n",
    "            next = string_num[j+i:j+2*i]\n",
    "            if seq == next:\n",
    "                i_vals.append(i)\n",
    "                break\n",
    "                \n",
    "    return min(i_vals) if len(i_vals) != 0 else 0\n",
    "    \n"
   ]
  },
  {
   "cell_type": "code",
   "execution_count": 71,
   "id": "2c35772a",
   "metadata": {},
   "outputs": [
    {
     "name": "stdout",
     "output_type": "stream",
     "text": [
      "Largest cycle length:  8\n",
      "d =  73\n"
     ]
    }
   ],
   "source": [
    "x = 1000\n",
    "highest_cycle = 0\n",
    "d = 0\n",
    "for k in range(1, x):\n",
    "    length = find_repeat_length(k)\n",
    "    if length > highest_cycle:\n",
    "        highest_cycle = length\n",
    "        d = k\n",
    "\n",
    "print(\"Largest cycle length: \", highest_cycle)\n",
    "print(\"d = \", d)\n"
   ]
  },
  {
   "cell_type": "markdown",
   "id": "21566f41",
   "metadata": {},
   "source": [
    "Solution is incorrect... float precision does not make this approach viable. Need to try something with long division and remainders."
   ]
  },
  {
   "cell_type": "markdown",
   "id": "e95f58d3",
   "metadata": {},
   "source": []
  }
 ],
 "metadata": {
  "kernelspec": {
   "display_name": "Python 3",
   "language": "python",
   "name": "python3"
  },
  "language_info": {
   "codemirror_mode": {
    "name": "ipython",
    "version": 3
   },
   "file_extension": ".py",
   "mimetype": "text/x-python",
   "name": "python",
   "nbconvert_exporter": "python",
   "pygments_lexer": "ipython3",
   "version": "3.10.12"
  }
 },
 "nbformat": 4,
 "nbformat_minor": 5
}
