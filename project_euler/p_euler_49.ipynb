{
 "cells": [
  {
   "cell_type": "markdown",
   "id": "4994d400",
   "metadata": {},
   "source": [
    "## Project Euler Solution #49"
   ]
  },
  {
   "cell_type": "code",
   "execution_count": null,
   "id": "5afc68a2",
   "metadata": {},
   "outputs": [],
   "source": [
    "import numpy as np\n",
    "from important_functions import primes_up_to"
   ]
  },
  {
   "cell_type": "code",
   "execution_count": 20,
   "id": "4185cb0f",
   "metadata": {},
   "outputs": [
    {
     "name": "stdout",
     "output_type": "stream",
     "text": [
      "The 12-digits sequence is 296962999629.\n"
     ]
    }
   ],
   "source": [
    "# obtain all of the 4-digit prime numbers\n",
    "primes = np.array(primes_up_to(10000))\n",
    "four_dig_primes = primes[np.array([True if len(str(p)) == 4 else False for p in primes])]\n",
    "\n",
    "# find condidates that are an arithmetic sequence\n",
    "sequence = None\n",
    "for num in four_dig_primes:\n",
    "    for i in range(2, four_dig_primes[-1] - four_dig_primes[0], 2):\n",
    "        next = num + i\n",
    "        next_2 = num + 2*i\n",
    "        if next in four_dig_primes and next_2 in four_dig_primes:\n",
    "            digits = \"\".join(sorted(str(num)))\n",
    "            if digits == \"\".join(sorted(str(next))) and digits == \"\".join(sorted(str(next_2))):\n",
    "                sequence = \"\".join([str(num), str(next), str(next_2)])\n",
    "\n",
    "print(f\"The 12-digits sequence is {sequence}.\")\n"
   ]
  }
 ],
 "metadata": {
  "kernelspec": {
   "display_name": "Python 3",
   "language": "python",
   "name": "python3"
  },
  "language_info": {
   "codemirror_mode": {
    "name": "ipython",
    "version": 3
   },
   "file_extension": ".py",
   "mimetype": "text/x-python",
   "name": "python",
   "nbconvert_exporter": "python",
   "pygments_lexer": "ipython3",
   "version": "3.10.12"
  }
 },
 "nbformat": 4,
 "nbformat_minor": 5
}
