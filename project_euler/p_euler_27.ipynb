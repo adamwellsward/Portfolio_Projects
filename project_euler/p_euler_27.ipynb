{
 "cells": [
  {
   "cell_type": "markdown",
   "id": "4994d400",
   "metadata": {},
   "source": [
    "## Project Euler Solution #27"
   ]
  },
  {
   "cell_type": "code",
   "execution_count": 1,
   "id": "5afc68a2",
   "metadata": {},
   "outputs": [],
   "source": [
    "import numpy as np"
   ]
  },
  {
   "cell_type": "code",
   "execution_count": 2,
   "id": "4bcb2ae9",
   "metadata": {},
   "outputs": [],
   "source": [
    "def primes_up_to(N):\n",
    "    \"\"\"Compute the primes up to N.\"\"\"\n",
    "    primes_list = [2]               # start the list with 2\n",
    "    current = 3                     # start the search at three\n",
    "    while primes_list[-1] < N:     \n",
    "        isprime = True\n",
    "        sqrt_n = int(np.sqrt(current)) + 1   # compute this outside to save time, make it an int to speed comparison\n",
    "        for p in primes_list:       # Check the list of primes instead of all numbers up to current\n",
    "            if p > sqrt_n:          # break if the number gets bigger than the square root of the current\n",
    "                break\n",
    "            if current % p == 0:    # check if it's a divisor\n",
    "                isprime = False\n",
    "                break\n",
    "        if isprime:\n",
    "            primes_list.append(current)\n",
    "        current += 2                # only check odd numbers\n",
    "\n",
    "    return primes_list[:-1]"
   ]
  },
  {
   "cell_type": "code",
   "execution_count": 13,
   "id": "a5897f65",
   "metadata": {},
   "outputs": [],
   "source": [
    "def is_prime(x):\n",
    "    \"\"\"Checks if any number is prime.\"\"\"\n",
    "    if x % 2 == 0 or x <= 1:\n",
    "        return False        # even numbers, 1, 0, and negative numbers are not prime\n",
    "    else:\n",
    "        sqrt_x = int(np.sqrt(x)) + 1\n",
    "        for i in range(3, sqrt_x, 2):\n",
    "            if x % i == 0:\n",
    "                return False\n",
    "        return True"
   ]
  },
  {
   "cell_type": "code",
   "execution_count": 14,
   "id": "4185cb0f",
   "metadata": {},
   "outputs": [],
   "source": [
    "def quad_primes():\n",
    "    # since n = 0 must produce a prime number, we only need to check the prime numbers between 2 and 1000 for b\n",
    "    b_vals = primes_up_to(1000)\n",
    "\n",
    "    # iterate through all values of a and b and find the largest n\n",
    "    largest_n = 0\n",
    "    for a in range(-999, 1000):\n",
    "        for b in b_vals:\n",
    "            n = 0\n",
    "            val = n**2 + a * n + b\n",
    "            while is_prime(val):        # check how many consecutive values of n are prime \n",
    "                n += 1\n",
    "                val = n**2 + a * n + b\n",
    "            \n",
    "            if n > largest_n:\n",
    "                largest_n = n\n",
    "                product = a * b\n",
    "    \n",
    "    return product"
   ]
  },
  {
   "cell_type": "code",
   "execution_count": 15,
   "id": "09a55162",
   "metadata": {},
   "outputs": [
    {
     "name": "stdout",
     "output_type": "stream",
     "text": [
      "The product of a and b that produces the maximum number of primes for consecutive values of n is...\n",
      "-59231\n"
     ]
    }
   ],
   "source": [
    "print(\"The product of a and b that produces the maximum number of primes for consecutive values of n is...\")\n",
    "print(quad_primes())"
   ]
  }
 ],
 "metadata": {
  "kernelspec": {
   "display_name": "Python 3",
   "language": "python",
   "name": "python3"
  },
  "language_info": {
   "codemirror_mode": {
    "name": "ipython",
    "version": 3
   },
   "file_extension": ".py",
   "mimetype": "text/x-python",
   "name": "python",
   "nbconvert_exporter": "python",
   "pygments_lexer": "ipython3",
   "version": "3.10.12"
  }
 },
 "nbformat": 4,
 "nbformat_minor": 5
}
