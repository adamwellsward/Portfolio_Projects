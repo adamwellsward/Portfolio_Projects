{
 "cells": [
  {
   "cell_type": "markdown",
   "id": "4994d400",
   "metadata": {},
   "source": [
    "## Project Euler Solution #37"
   ]
  },
  {
   "cell_type": "code",
   "execution_count": 2,
   "id": "5afc68a2",
   "metadata": {},
   "outputs": [],
   "source": [
    "import numpy as np\n",
    "from important_functions import is_prime"
   ]
  },
  {
   "cell_type": "code",
   "execution_count": 14,
   "id": "4185cb0f",
   "metadata": {},
   "outputs": [],
   "source": [
    "# functions\n",
    "def trunc_left(n):\n",
    "    \"\"\"If the nummber is truncatable from left to right and still prime, return True. Otherwise, return False.\"\"\"\n",
    "    if not is_prime(n) or n in [2, 3, 5, 7]:\n",
    "        return False\n",
    "    num_str = str(n)\n",
    "    for i in range(1, len(num_str)):\n",
    "        if not is_prime(int(num_str[i:])):\n",
    "            return False\n",
    "    return True                 # if the function made it through, then it is truncatable from left to right\n",
    "\n",
    "def trunc_right(n):\n",
    "    \"\"\"If the nummber is truncatable from right to left and still prime, return True. Otherwise, return False.\"\"\"\n",
    "    if not is_prime(n) or n in [2, 3, 5, 7]:\n",
    "        return False\n",
    "    num_str = str(n)\n",
    "    for i in range(1, len(num_str)):\n",
    "        if not is_prime(int(num_str[:-i])):\n",
    "            return False\n",
    "    return True"
   ]
  },
  {
   "cell_type": "code",
   "execution_count": 15,
   "id": "f4dd41c0",
   "metadata": {},
   "outputs": [
    {
     "data": {
      "text/plain": [
       "True"
      ]
     },
     "execution_count": 15,
     "metadata": {},
     "output_type": "execute_result"
    }
   ],
   "source": [
    "# tests\n",
    "trunc_left(3797) and trunc_right(3797)"
   ]
  },
  {
   "cell_type": "code",
   "execution_count": 16,
   "id": "8d803186",
   "metadata": {},
   "outputs": [
    {
     "name": "stdout",
     "output_type": "stream",
     "text": [
      "Truncatable prime found! 1 / 11\n",
      "Truncatable prime found! 2 / 11\n",
      "Truncatable prime found! 3 / 11\n",
      "Truncatable prime found! 4 / 11\n",
      "Truncatable prime found! 5 / 11\n",
      "Truncatable prime found! 6 / 11\n",
      "Truncatable prime found! 7 / 11\n",
      "Truncatable prime found! 8 / 11\n",
      "Truncatable prime found! 9 / 11\n",
      "Truncatable prime found! 10 / 11\n",
      "Truncatable prime found! 11 / 11\n",
      "The sum of the 11 truncatable primes is 748317\n"
     ]
    }
   ],
   "source": [
    "# now run through numbers until we find all 11\n",
    "num_trunc = 0\n",
    "primes = []\n",
    "curr = 11\n",
    "while num_trunc < 11:\n",
    "    if trunc_right(curr) and trunc_left(curr):\n",
    "        num_trunc += 1\n",
    "        primes.append(curr)\n",
    "        print(f\"Truncatable prime found! {num_trunc} / 11\")\n",
    "    curr += 2\n",
    "\n",
    "print(\"The sum of the 11 truncatable primes is\", sum(primes))"
   ]
  }
 ],
 "metadata": {
  "kernelspec": {
   "display_name": "Python 3",
   "language": "python",
   "name": "python3"
  },
  "language_info": {
   "codemirror_mode": {
    "name": "ipython",
    "version": 3
   },
   "file_extension": ".py",
   "mimetype": "text/x-python",
   "name": "python",
   "nbconvert_exporter": "python",
   "pygments_lexer": "ipython3",
   "version": "3.10.12"
  }
 },
 "nbformat": 4,
 "nbformat_minor": 5
}
