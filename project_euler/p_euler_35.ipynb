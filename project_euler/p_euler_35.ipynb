{
 "cells": [
  {
   "cell_type": "markdown",
   "id": "4994d400",
   "metadata": {},
   "source": [
    "## Project Euler Solution #35"
   ]
  },
  {
   "cell_type": "code",
   "execution_count": 1,
   "id": "5afc68a2",
   "metadata": {},
   "outputs": [],
   "source": [
    "import numpy as np\n",
    "from important_functions import is_prime"
   ]
  },
  {
   "cell_type": "code",
   "execution_count": 2,
   "id": "4185cb0f",
   "metadata": {},
   "outputs": [],
   "source": [
    "# function to obtain rotations of any integer\n",
    "def rotations(n):\n",
    "    \"\"\"Return a list of the rotations of the integer n.\"\"\"\n",
    "    str_n = str(n)\n",
    "    rots = []\n",
    "    for i in range(len(str_n)):\n",
    "        rots.append(int(\"\".join([str_n[i:], str_n[:i]])))\n",
    "    return rots"
   ]
  },
  {
   "cell_type": "code",
   "execution_count": 3,
   "id": "40ba79d8",
   "metadata": {},
   "outputs": [
    {
     "name": "stdout",
     "output_type": "stream",
     "text": [
      "Rotations of 197:  [197, 971, 719]\n"
     ]
    }
   ],
   "source": [
    "# test with 197\n",
    "print(f\"Rotations of 197: \", rotations(197))"
   ]
  },
  {
   "cell_type": "code",
   "execution_count": 10,
   "id": "5bbf251b",
   "metadata": {},
   "outputs": [
    {
     "name": "stdout",
     "output_type": "stream",
     "text": [
      "The number of circular primes under 1000000 is 55.\n"
     ]
    }
   ],
   "source": [
    "# now check all numbers below N\n",
    "N = 1_000_000\n",
    "circ_primes = []\n",
    "for i in range(N):\n",
    "    if not is_prime(i):\n",
    "        continue\n",
    "    if all([is_prime(x) for x in rotations(i)]):\n",
    "        circ_primes.append(i)\n",
    "\n",
    "print(f\"The number of circular primes under {N} is {len(circ_primes)}.\")"
   ]
  }
 ],
 "metadata": {
  "kernelspec": {
   "display_name": "Python 3",
   "language": "python",
   "name": "python3"
  },
  "language_info": {
   "codemirror_mode": {
    "name": "ipython",
    "version": 3
   },
   "file_extension": ".py",
   "mimetype": "text/x-python",
   "name": "python",
   "nbconvert_exporter": "python",
   "pygments_lexer": "ipython3",
   "version": "3.10.12"
  }
 },
 "nbformat": 4,
 "nbformat_minor": 5
}
