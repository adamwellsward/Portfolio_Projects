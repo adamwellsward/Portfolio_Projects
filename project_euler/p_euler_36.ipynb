{
 "cells": [
  {
   "cell_type": "markdown",
   "id": "4994d400",
   "metadata": {},
   "source": [
    "## Project Euler Solution #36"
   ]
  },
  {
   "cell_type": "code",
   "execution_count": 1,
   "id": "5afc68a2",
   "metadata": {},
   "outputs": [],
   "source": [
    "import numpy as np"
   ]
  },
  {
   "cell_type": "code",
   "execution_count": 15,
   "id": "4185cb0f",
   "metadata": {},
   "outputs": [
    {
     "name": "stdout",
     "output_type": "stream",
     "text": [
      "The sum of double-base palindromes under 1000000 is 872187.\n"
     ]
    }
   ],
   "source": [
    "# Run through the numbers up to N\n",
    "N = 1_000_000\n",
    "double_palindromes = []\n",
    "for i in range(N):\n",
    "    num_str = str(i)\n",
    "    if num_str == num_str[::-1]:    # if the number is a palindrome in base 10\n",
    "        bin_num = bin(i)[2:]        # then get the binary representation and check if it is a palindrome as well\n",
    "        if bin_num[0] == '1' and bin_num == bin_num[::-1]:\n",
    "            double_palindromes.append(i)\n",
    "\n",
    "print(f\"The sum of double-base palindromes under {N} is {sum(double_palindromes)}.\")"
   ]
  }
 ],
 "metadata": {
  "kernelspec": {
   "display_name": "Python 3",
   "language": "python",
   "name": "python3"
  },
  "language_info": {
   "codemirror_mode": {
    "name": "ipython",
    "version": 3
   },
   "file_extension": ".py",
   "mimetype": "text/x-python",
   "name": "python",
   "nbconvert_exporter": "python",
   "pygments_lexer": "ipython3",
   "version": "3.10.12"
  }
 },
 "nbformat": 4,
 "nbformat_minor": 5
}
