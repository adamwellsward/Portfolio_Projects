{
 "cells": [
  {
   "cell_type": "markdown",
   "id": "4994d400",
   "metadata": {},
   "source": [
    "## Project Euler Solution #51"
   ]
  },
  {
   "cell_type": "code",
   "execution_count": 20,
   "id": "5afc68a2",
   "metadata": {},
   "outputs": [],
   "source": [
    "import numpy as np\n",
    "from important_functions import is_prime, primes_up_to\n",
    "from itertools import combinations\n",
    "import math"
   ]
  },
  {
   "cell_type": "code",
   "execution_count": null,
   "id": "4185cb0f",
   "metadata": {},
   "outputs": [],
   "source": [
    "# function to take any number and perform substitutions\n",
    "def index_insert(num: int, char: int, ind: int):\n",
    "    \"\"\"Insert char into num at index ind, and return the new number (as an int).\"\"\"\n",
    "    num = str(num)\n",
    "    char = str(char)\n",
    "    if ind == 0:\n",
    "        return int(char + num[1:])\n",
    "    elif ind == len(num) - 1:\n",
    "        return int(num[:-1] + char)\n",
    "    else:\n",
    "        return int(num[:ind] + char + num[ind+1:])\n",
    "\n",
    "def subs(x, num_subs):\n",
    "    \"\"\"Takes a number (x) and creates all families of primes where num_subs of the digits of x are replaced.\"\"\"\n",
    "    x_str = str(x)\n",
    "    length = len(x_str)\n",
    "    if num_subs > length:\n",
    "        raise ValueError(\"Cannot subsitute more than the number of digits in x.\")\n",
    "    \n",
    "    families = None\n",
    "\n",
    "    if num_subs == 1:\n",
    "        families = [[] for _ in range(length)]\n",
    "        for i in range(length):\n",
    "            for j in range(1, 10):\n",
    "                new_num = index_insert(x, j, i)\n",
    "                if is_prime(new_num):\n",
    "                    families[i].append(new_num)\n",
    "    else:\n",
    "        families = [[] for _ in range(math.comb(length, num_subs))]\n",
    "        for k, indices in enumerate(combinations(np.arange(length), num_subs)):\n",
    "            for j in range(10):      \n",
    "                new_num = x\n",
    "                for ind in indices:\n",
    "                    new_num = index_insert(new_num, j, ind)\n",
    "                if is_prime(new_num):\n",
    "                    families[k].append(new_num)\n",
    "        \n",
    "    return families\n",
    "    \n",
    "def length_in_fams(families, n):\n",
    "    \"\"\"Given a list of families, return a boolean for if a family of length n is in the families.\n",
    "\n",
    "    If so, return that family\n",
    "    \n",
    "    If there is a tie for length, return the family containing the smallest value.\"\"\"\n",
    "    found_fam = None\n",
    "    for f in families:\n",
    "        if len(f) == n and found_fam is not None:\n",
    "            if min(f) < min(found_fam):\n",
    "                found_fam = f\n",
    "        elif len(f) == n:\n",
    "            found_fam = f\n",
    "\n",
    "    return (False, []) if found_fam is None else (True, found_fam)\n",
    "\n",
    "def find_n_family(n, N):\n",
    "    \"Find the n-member family of primes with the smallest value in it. Search all of the primes up to N.\"\n",
    "    # obtain the primes up to N\n",
    "    primes = primes_up_to(N)\n",
    "\n",
    "    # iterate through the primes. If a family of length n is not found for that prime number, \n",
    "    # remove all of the primes in the family from the list of primes. Obtain all of the families for\n",
    "    # every combinatior of digits to substitute\n",
    "    removed = set()\n",
    "    for p in primes:\n",
    "        for i in range(len(str(p))):\n",
    "            families = subs(p, i+1)\n",
    "            found, fam = length_in_fams(families, n)\n",
    "            if found:\n",
    "                return fam\n",
    "            else:\n",
    "                for f in families:\n",
    "                    for num in f:\n",
    "                        if num not in removed:\n",
    "                            primes.remove(num)\n",
    "                            removed.add(num)\n",
    "\n",
    "\n",
    "    return f\"No family of size {n} found for primes up to {N}.\""
   ]
  },
  {
   "cell_type": "code",
   "execution_count": 68,
   "id": "d0bc3d25",
   "metadata": {},
   "outputs": [
    {
     "name": "stdout",
     "output_type": "stream",
     "text": [
      "The number is 121313, and the family is [121313, 222323, 323333, 424343, 525353, 626363, 828383, 929393].\n"
     ]
    }
   ],
   "source": [
    "fam = find_n_family(8, 1000000)\n",
    "print(f\"The number is {fam[0]}, and the family is {fam}.\")"
   ]
  },
  {
   "cell_type": "markdown",
   "id": "037ad1b8",
   "metadata": {},
   "source": [
    "#### Tests used for the functions"
   ]
  },
  {
   "cell_type": "code",
   "execution_count": 34,
   "id": "eba593cf",
   "metadata": {},
   "outputs": [
    {
     "data": {
      "text/plain": [
       "[[2, 3, 5, 7]]"
      ]
     },
     "execution_count": 34,
     "metadata": {},
     "output_type": "execute_result"
    }
   ],
   "source": [
    "subs(6, 1)"
   ]
  },
  {
   "cell_type": "code",
   "execution_count": 38,
   "id": "1ab98811",
   "metadata": {},
   "outputs": [
    {
     "name": "stdout",
     "output_type": "stream",
     "text": [
      "[[55001], [51001, 54001, 55001], [55201, 55501, 55901], [55021, 55051, 55061], [55001, 55009]]\n"
     ]
    },
    {
     "data": {
      "text/plain": [
       "(True, [51001, 54001, 55001])"
      ]
     },
     "execution_count": 38,
     "metadata": {},
     "output_type": "execute_result"
    }
   ],
   "source": [
    "fams = subs(\"55001\", 1)\n",
    "print(fams)\n",
    "length_in_fams(fams, 3)"
   ]
  },
  {
   "cell_type": "code",
   "execution_count": null,
   "id": "544b535f",
   "metadata": {},
   "outputs": [
    {
     "name": "stdout",
     "output_type": "stream",
     "text": [
      "95034\n",
      "29034\n",
      "25934\n",
      "25094\n",
      "25039\n"
     ]
    }
   ],
   "source": [
    "test = \"25034\"\n",
    "for i in range(len(test)):\n",
    "    print(index_insert(test, \"9\", i))"
   ]
  }
 ],
 "metadata": {
  "kernelspec": {
   "display_name": "Python 3",
   "language": "python",
   "name": "python3"
  },
  "language_info": {
   "codemirror_mode": {
    "name": "ipython",
    "version": 3
   },
   "file_extension": ".py",
   "mimetype": "text/x-python",
   "name": "python",
   "nbconvert_exporter": "python",
   "pygments_lexer": "ipython3",
   "version": "3.10.12"
  }
 },
 "nbformat": 4,
 "nbformat_minor": 5
}
