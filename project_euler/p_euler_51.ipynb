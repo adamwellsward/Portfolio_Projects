{
 "cells": [
  {
   "cell_type": "markdown",
   "id": "4994d400",
   "metadata": {},
   "source": [
    "## Project Euler Solution #51"
   ]
  },
  {
   "cell_type": "code",
   "execution_count": 20,
   "id": "5afc68a2",
   "metadata": {},
   "outputs": [],
   "source": [
    "import numpy as np\n",
    "from important_functions import is_prime, primes_up_to\n",
    "from itertools import combinations\n",
    "import math"
   ]
  },
  {
   "cell_type": "markdown",
   "id": "24995d74",
   "metadata": {},
   "source": [
    "Idea: Gett all of the primes up to 1 mill. Make it a list. Start iterating through the primes. for each, find the members of its family. If the size of the family is not 8, remove all of the members of the family from the primes list and keep going (because doing them again would get that same family)\n",
    "\n",
    "This works depending on how the families are structured. Each number could have multiple families based on which digits are replaced. The families function could return a set of the different families based on all of the replacements \n",
    "\n",
    "Functions:\n",
    "\n",
    "sub(num) -- takes a number and performs subsitutions to obtain the families with that number of terms subsituted\n",
    "\n",
    "all_families -- runs all of the different combos of subsitutions to get all of the families for a number, returns the set of families\n",
    "\n",
    "Then do the primes stuff"
   ]
  },
  {
   "cell_type": "code",
   "execution_count": null,
   "id": "4185cb0f",
   "metadata": {},
   "outputs": [],
   "source": [
    "# function to take any number and perform substitutions\n",
    "def index_insert(num: int, char: int, ind: int):\n",
    "    \"\"\"Insert char into num at index ind, and return the new number (as an int).\"\"\"\n",
    "    num = str(num)\n",
    "    char = str(char)\n",
    "    if ind == 0:\n",
    "        return int(char + num[1:])\n",
    "    elif ind == len(num) - 1:\n",
    "        return int(num[:-1] + char)\n",
    "    else:\n",
    "        return int(num[:ind] + char + num[ind+1:])\n",
    "\n",
    "def subs(x, num_subs):\n",
    "    \"\"\"Takes a number (x) and creates all families of primes where num_subs of the digits of x are replaced.\"\"\"\n",
    "    x_str = str(x)\n",
    "    length = len(x_str)\n",
    "    if num_subs > length:\n",
    "        raise ValueError(\"Cannot subsitute more than the number of digits in x.\")\n",
    "    \n",
    "    families = None\n",
    "\n",
    "    if num_subs == 1:\n",
    "        families = [[] for _ in range(length)]\n",
    "        for i in range(length):\n",
    "            for j in range(1, 10):\n",
    "                new_num = index_insert(x, j, i)\n",
    "                if is_prime(new_num):\n",
    "                    families[i].append(new_num)\n",
    "    else:\n",
    "        families = [[] for _ in range(math.comb(length, num_subs))]\n",
    "        for k, indices in enumerate(combinations(np.arange(length), num_subs)):\n",
    "            for j in range(10):      # need to figure out how to handle the 0 out front...\n",
    "                new_num = x\n",
    "                for ind in indices:\n",
    "                    new_num = index_insert(new_num, j, ind)\n",
    "                if is_prime(new_num):\n",
    "                    families[k].append(new_num)\n",
    "        \n",
    "    return families\n",
    "    \n",
    "def max_in_fams(families):\n",
    "    \"\"\"Given a list of families, return the longest family and its length.\n",
    "    \n",
    "    If there is a tie for the longest family, return the one containing the smallest value.\"\"\"\n",
    "    longest = None\n",
    "    l_max = 0\n",
    "    for f in families:\n",
    "        if len(f) == l_max and l_max != 0:\n",
    "            if min(f) < min(longest):\n",
    "                longest = f\n",
    "        elif len(f) > l_max:\n",
    "            longest = f\n",
    "            l_max = len(f)\n",
    "\n",
    "    return l_max, longest\n",
    "\n",
    "def find_n_family(n, N):\n",
    "    \"Find the n-member family of primes with the smallest value in it. Search all of the primes up to N.\"\n",
    "    # obtain the primes up to N\n",
    "    primes = primes_up_to(N)\n",
    "\n",
    "    # iterate through the primes. If a family of length n is not found for that prime number, \n",
    "    # remove all of the primes in the family from the list of primes. Obtain all of the families for\n",
    "    # every combinatior of digits to substitute\n",
    "    curr_len = 0\n",
    "    for p in primes:\n",
    "        for i in range(len(str(p))):\n",
    "            families = subs(p, i)\n",
    "            \n",
    "\n",
    "        pass"
   ]
  },
  {
   "cell_type": "code",
   "execution_count": 23,
   "id": "eba593cf",
   "metadata": {},
   "outputs": [
    {
     "data": {
      "text/plain": [
       "[[2, 3, 5, 7]]"
      ]
     },
     "execution_count": 23,
     "metadata": {},
     "output_type": "execute_result"
    }
   ],
   "source": [
    "subs(6, 1)"
   ]
  },
  {
   "cell_type": "code",
   "execution_count": 19,
   "id": "1ab98811",
   "metadata": {},
   "outputs": [
    {
     "name": "stdout",
     "output_type": "stream",
     "text": [
      "[[461, 661, 761], [521, 541, 571], [563, 569]]\n"
     ]
    },
    {
     "data": {
      "text/plain": [
       "(3, [461, 661, 761])"
      ]
     },
     "execution_count": 19,
     "metadata": {},
     "output_type": "execute_result"
    }
   ],
   "source": [
    "fams = subs(\"561\", 1)\n",
    "print(fams)\n",
    "max_in_fams(fams)"
   ]
  },
  {
   "cell_type": "code",
   "execution_count": 39,
   "id": "544b535f",
   "metadata": {},
   "outputs": [
    {
     "name": "stdout",
     "output_type": "stream",
     "text": [
      "95034\n",
      "29034\n",
      "25934\n",
      "25094\n",
      "25039\n"
     ]
    }
   ],
   "source": [
    "# tests\n",
    "test = \"25034\"\n",
    "for i in range(len(test)):\n",
    "    print(index_insert(test, \"9\", i))"
   ]
  },
  {
   "cell_type": "code",
   "execution_count": null,
   "id": "f43925b5",
   "metadata": {},
   "outputs": [],
   "source": []
  }
 ],
 "metadata": {
  "kernelspec": {
   "display_name": "Python 3",
   "language": "python",
   "name": "python3"
  },
  "language_info": {
   "codemirror_mode": {
    "name": "ipython",
    "version": 3
   },
   "file_extension": ".py",
   "mimetype": "text/x-python",
   "name": "python",
   "nbconvert_exporter": "python",
   "pygments_lexer": "ipython3",
   "version": "3.10.12"
  }
 },
 "nbformat": 4,
 "nbformat_minor": 5
}
