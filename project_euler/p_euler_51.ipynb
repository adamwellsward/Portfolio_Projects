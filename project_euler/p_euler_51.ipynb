{
 "cells": [
  {
   "cell_type": "markdown",
   "id": "4994d400",
   "metadata": {},
   "source": [
    "## Project Euler Solution #51"
   ]
  },
  {
   "cell_type": "code",
   "execution_count": 1,
   "id": "5afc68a2",
   "metadata": {},
   "outputs": [],
   "source": [
    "import numpy as np\n",
    "from important_functions import is_prime"
   ]
  },
  {
   "cell_type": "markdown",
   "id": "24995d74",
   "metadata": {},
   "source": [
    "Idea: Gett all of the primes up to 1 mill. Make it a list. Start iterating through the primes. for each, find the members of its family. If the size of the family is not 8, remove all of the members of the family from the primes list and keep going (because doing them again would get that same family)\n",
    "\n",
    "This works depending on how the families are structured. Each number could have multiple families based on which digits are replaced. The families function could return a set of the different families based on all of the replacements \n",
    "\n",
    "Functions:\n",
    "\n",
    "sub(num) -- takes a number and performs subsitutions to obtain the families with that number of terms subsituted\n",
    "\n",
    "all_families -- runs all of the different combos of subsitutions to get all of the families for a number, returns the set of families\n",
    "\n",
    "Then do the primes stuff"
   ]
  },
  {
   "cell_type": "code",
   "execution_count": null,
   "id": "4185cb0f",
   "metadata": {},
   "outputs": [
    {
     "name": "stdout",
     "output_type": "stream",
     "text": [
      "1\n",
      "3\n",
      "5\n"
     ]
    }
   ],
   "source": [
    "# function to take any number and perform substitutions\n",
    "def index_insert(num: int, char: int, ind: int):\n",
    "    \"\"\"Insert char into num at index ind, and return the new number.\"\"\"\n",
    "    pass\n",
    "\n",
    "def subs(x, num_subs):\n",
    "    \"\"\"Takes a number (x) and creates all families of primes where num_subs of the digits of x are replaced.\"\"\"\n",
    "    x_str = str(x)\n",
    "    l = len(x_str)\n",
    "    if num_subs > l:\n",
    "        raise ValueError(\"Cannot subsitute more than the number of digits in x.\")\n",
    "    \n",
    "    if num_subs == 1:\n",
    "        families = {}\n",
    "        for i in range(l):\n",
    "            for j in range(10):\n",
    "                new_num = x_str[]\n",
    "\n",
    "    \n",
    "\n",
    "stuff = [1, 2, 3, 4, 5, 6]\n",
    "for thing in stuff:\n",
    "    print(thing)\n",
    "    stuff.remove(thing + 1)\n"
   ]
  }
 ],
 "metadata": {
  "kernelspec": {
   "display_name": "Python 3",
   "language": "python",
   "name": "python3"
  },
  "language_info": {
   "codemirror_mode": {
    "name": "ipython",
    "version": 3
   },
   "file_extension": ".py",
   "mimetype": "text/x-python",
   "name": "python",
   "nbconvert_exporter": "python",
   "pygments_lexer": "ipython3",
   "version": "3.10.12"
  }
 },
 "nbformat": 4,
 "nbformat_minor": 5
}
