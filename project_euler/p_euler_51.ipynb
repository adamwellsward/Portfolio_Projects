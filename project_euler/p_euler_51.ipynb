{
 "cells": [
  {
   "cell_type": "markdown",
   "id": "4994d400",
   "metadata": {},
   "source": [
    "## Project Euler Solution #51"
   ]
  },
  {
   "cell_type": "code",
   "execution_count": 48,
   "id": "5afc68a2",
   "metadata": {},
   "outputs": [],
   "source": [
    "import numpy as np\n",
    "from important_functions import is_prime\n",
    "from itertools import combinations\n",
    "import math"
   ]
  },
  {
   "cell_type": "markdown",
   "id": "24995d74",
   "metadata": {},
   "source": [
    "Idea: Gett all of the primes up to 1 mill. Make it a list. Start iterating through the primes. for each, find the members of its family. If the size of the family is not 8, remove all of the members of the family from the primes list and keep going (because doing them again would get that same family)\n",
    "\n",
    "This works depending on how the families are structured. Each number could have multiple families based on which digits are replaced. The families function could return a set of the different families based on all of the replacements \n",
    "\n",
    "Functions:\n",
    "\n",
    "sub(num) -- takes a number and performs subsitutions to obtain the families with that number of terms subsituted\n",
    "\n",
    "all_families -- runs all of the different combos of subsitutions to get all of the families for a number, returns the set of families\n",
    "\n",
    "Then do the primes stuff"
   ]
  },
  {
   "cell_type": "code",
   "execution_count": 62,
   "id": "4185cb0f",
   "metadata": {},
   "outputs": [],
   "source": [
    "# function to take any number and perform substitutions\n",
    "def index_insert(num: int, char: int, ind: int):\n",
    "    \"\"\"Insert char into num at index ind, and return the new number (as an int).\"\"\"\n",
    "    num = str(num)\n",
    "    char = str(char)\n",
    "    if ind == 0:\n",
    "        return int(char + num[1:])\n",
    "    elif ind == len(num) - 1:\n",
    "        return int(num[:-1] + char)\n",
    "    else:\n",
    "        return int(num[:ind] + char + num[ind+1:])\n",
    "\n",
    "def subs(x, num_subs):\n",
    "    \"\"\"Takes a number (x) and creates all families of primes where num_subs of the digits of x are replaced.\"\"\"\n",
    "    x_str = str(x)\n",
    "    length = len(x_str)\n",
    "    if num_subs > length:\n",
    "        raise ValueError(\"Cannot subsitute more than the number of digits in x.\")\n",
    "    \n",
    "    families = None\n",
    "\n",
    "    if num_subs == 1:\n",
    "        families = {i:[] for i in range(length)}\n",
    "        for i in range(length):\n",
    "            for j in range(1, 10):\n",
    "                new_num = index_insert(x, j, i)\n",
    "                if is_prime(new_num):\n",
    "                    families[i].append(new_num)\n",
    "    else:\n",
    "        families = [[] for _ in range(math.comb(length, num_subs))]\n",
    "        print(families)\n",
    "        for k, indices in enumerate(combinations(np.arange(length), num_subs)):\n",
    "            print(k, indices)\n",
    "            for j in range(10):      # need to figure out how to handle the 0 out front...\n",
    "                new_num = x\n",
    "                for ind in indices:\n",
    "                    new_num = index_insert(new_num, j, ind)\n",
    "                if is_prime(new_num):\n",
    "                    families[k].append(new_num)\n",
    "        \n",
    "    return families\n",
    "    \n"
   ]
  },
  {
   "cell_type": "code",
   "execution_count": 63,
   "id": "1ab98811",
   "metadata": {},
   "outputs": [
    {
     "name": "stdout",
     "output_type": "stream",
     "text": [
      "[[], [], [], [], [], [], [], [], [], []]\n",
      "0 (0, 1)\n",
      "1 (0, 2)\n",
      "2 (0, 3)\n",
      "3 (0, 4)\n",
      "4 (1, 2)\n",
      "5 (1, 3)\n",
      "6 (1, 4)\n",
      "7 (2, 3)\n",
      "8 (2, 4)\n",
      "9 (3, 4)\n"
     ]
    },
    {
     "data": {
      "text/plain": [
       "[[11003, 22003, 77003, 88003],\n",
       " [16103, 26203, 56503],\n",
       " [56053, 86083],\n",
       " [16001],\n",
       " [54403],\n",
       " [57073, 59093],\n",
       " [51001, 53003, 59009],\n",
       " [56003, 56113, 56333, 56443, 56663, 56773, 56993],\n",
       " [56101, 56909],\n",
       " [56099]]"
      ]
     },
     "execution_count": 63,
     "metadata": {},
     "output_type": "execute_result"
    }
   ],
   "source": [
    "subs(\"56003\", 2)"
   ]
  },
  {
   "cell_type": "code",
   "execution_count": 39,
   "id": "544b535f",
   "metadata": {},
   "outputs": [
    {
     "name": "stdout",
     "output_type": "stream",
     "text": [
      "95034\n",
      "29034\n",
      "25934\n",
      "25094\n",
      "25039\n"
     ]
    }
   ],
   "source": [
    "# tests\n",
    "test = \"25034\"\n",
    "for i in range(len(test)):\n",
    "    print(index_insert(test, \"9\", i))"
   ]
  }
 ],
 "metadata": {
  "kernelspec": {
   "display_name": "Python 3",
   "language": "python",
   "name": "python3"
  },
  "language_info": {
   "codemirror_mode": {
    "name": "ipython",
    "version": 3
   },
   "file_extension": ".py",
   "mimetype": "text/x-python",
   "name": "python",
   "nbconvert_exporter": "python",
   "pygments_lexer": "ipython3",
   "version": "3.10.12"
  }
 },
 "nbformat": 4,
 "nbformat_minor": 5
}
