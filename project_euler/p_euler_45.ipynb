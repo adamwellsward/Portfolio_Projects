{
 "cells": [
  {
   "cell_type": "markdown",
   "id": "4994d400",
   "metadata": {},
   "source": [
    "## Project Euler Solution #45"
   ]
  },
  {
   "cell_type": "code",
   "execution_count": 2,
   "id": "5afc68a2",
   "metadata": {},
   "outputs": [],
   "source": [
    "import numpy as np\n",
    "from important_functions import is_pentagonal, is_hexagonal"
   ]
  },
  {
   "cell_type": "code",
   "execution_count": null,
   "id": "4185cb0f",
   "metadata": {},
   "outputs": [
    {
     "name": "stdout",
     "output_type": "stream",
     "text": [
      "The next number is 1533776805.\n"
     ]
    }
   ],
   "source": [
    "# generator for triangle numbers\n",
    "found = False\n",
    "curr = 1\n",
    "step = 2\n",
    "while not found:\n",
    "    curr += step\n",
    "    if curr > 40755:\n",
    "        if is_pentagonal(curr) and is_hexagonal(curr):\n",
    "            found = True\n",
    "            print(f\"The next number is {curr}.\")\n",
    "    step += 1"
   ]
  }
 ],
 "metadata": {
  "kernelspec": {
   "display_name": "Python 3",
   "language": "python",
   "name": "python3"
  },
  "language_info": {
   "codemirror_mode": {
    "name": "ipython",
    "version": 3
   },
   "file_extension": ".py",
   "mimetype": "text/x-python",
   "name": "python",
   "nbconvert_exporter": "python",
   "pygments_lexer": "ipython3",
   "version": "3.10.12"
  }
 },
 "nbformat": 4,
 "nbformat_minor": 5
}
