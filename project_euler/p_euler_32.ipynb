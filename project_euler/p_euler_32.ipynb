{
 "cells": [
  {
   "cell_type": "markdown",
   "id": "4994d400",
   "metadata": {},
   "source": [
    "## Project Euler Solution #32"
   ]
  },
  {
   "cell_type": "code",
   "execution_count": 1,
   "id": "5afc68a2",
   "metadata": {},
   "outputs": [],
   "source": [
    "import numpy as np"
   ]
  },
  {
   "cell_type": "code",
   "execution_count": null,
   "id": "4185cb0f",
   "metadata": {},
   "outputs": [],
   "source": [
    "# tests to find bounds for the number search\n",
    "998*10\n",
    "\n",
    "# there could possibly be numbers with a single digit and 2 4-digit numbers\n",
    "2*3159\n",
    "\n",
    "# what about two 2-digit numbers\n",
    "99*99       # this can never work, so we don't need to check these combinations"
   ]
  },
  {
   "cell_type": "code",
   "execution_count": null,
   "id": "11907cef",
   "metadata": {},
   "outputs": [
    {
     "name": "stdout",
     "output_type": "stream",
     "text": [
      "The sum of all pandigitial numbers is 45228.\n"
     ]
    }
   ],
   "source": [
    "N = 10000\n",
    "pan_nums = []\n",
    "for a in range(1, N):\n",
    "    for b in range(N // a + 1):     # we only need to check numbers that will multiply up to N, because we don't want to go over the 9 digits\n",
    "        prod = a * b\n",
    "        if prod in pan_nums: continue\n",
    "        digits = ''.join(sorted(str(a) + str(b) + str(prod)))\n",
    "        if digits == \"123456789\":\n",
    "            pan_nums.append(prod)\n",
    "\n",
    "print(f\"The sum of all pandigitial numbers is {sum(pan_nums)}.\")"
   ]
  }
 ],
 "metadata": {
  "kernelspec": {
   "display_name": "Python 3",
   "language": "python",
   "name": "python3"
  },
  "language_info": {
   "codemirror_mode": {
    "name": "ipython",
    "version": 3
   },
   "file_extension": ".py",
   "mimetype": "text/x-python",
   "name": "python",
   "nbconvert_exporter": "python",
   "pygments_lexer": "ipython3",
   "version": "3.10.12"
  }
 },
 "nbformat": 4,
 "nbformat_minor": 5
}
