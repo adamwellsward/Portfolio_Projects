{
 "cells": [
  {
   "cell_type": "markdown",
   "id": "4994d400",
   "metadata": {},
   "source": [
    "## Project Euler Solution #39"
   ]
  },
  {
   "cell_type": "code",
   "execution_count": 2,
   "id": "5afc68a2",
   "metadata": {},
   "outputs": [],
   "source": [
    "import numpy as np"
   ]
  },
  {
   "cell_type": "code",
   "execution_count": null,
   "id": "4185cb0f",
   "metadata": {},
   "outputs": [],
   "source": [
    "# brute force first try (does not work)\n",
    "N = 1001\n",
    "# run through the values of p (start at 12 since 3.4.5 is smallest right triangle)\n",
    "for p in range(12, N): \n",
    "    # choose a side length\n",
    "    new = p\n",
    "    total = 0\n",
    "    for a in range(int(np.sqrt(p)) + 1):\n",
    "        for b in range(a, p - a):\n",
    "            for c in range(b, p - a - b):\n",
    "                if p - a - b - c != 0:\n",
    "                    continue\n",
    "                if a**2 + b**2 == c**2:\n",
    "                    total += 1\n",
    "                    print(f\"Solution found for p = {p}. {total} total solutions.\")"
   ]
  },
  {
   "cell_type": "code",
   "execution_count": 3,
   "id": "4492677e",
   "metadata": {},
   "outputs": [],
   "source": [
    "# IDEAS: even vs odd number check somehow, get all the combinations and check them (nah), solve a problem to get c faster for given a and b..."
   ]
  },
  {
   "cell_type": "code",
   "execution_count": 19,
   "id": "5f1173b1",
   "metadata": {},
   "outputs": [
    {
     "name": "stdout",
     "output_type": "stream",
     "text": [
      "The answer is 840\n"
     ]
    }
   ],
   "source": [
    "N = 1001\n",
    "results = {}\n",
    "for p in range(12, N): \n",
    "    # choose a side length\n",
    "    total = 0\n",
    "    for a in range(3, p//2 + 1):\n",
    "        for b in range(a, p - a):\n",
    "            c = int(np.sqrt(a**2 + b**2))\n",
    "            if a**2 + b**2 != c**2:\n",
    "                continue\n",
    "            if a + b + c == p:\n",
    "                total += 1\n",
    "    if total > 2:\n",
    "        results[p] = total\n",
    "\n",
    "print(\"The answer is\", list(results.keys())[np.argmax(list(results.values()))])"
   ]
  }
 ],
 "metadata": {
  "kernelspec": {
   "display_name": "Python 3",
   "language": "python",
   "name": "python3"
  },
  "language_info": {
   "codemirror_mode": {
    "name": "ipython",
    "version": 3
   },
   "file_extension": ".py",
   "mimetype": "text/x-python",
   "name": "python",
   "nbconvert_exporter": "python",
   "pygments_lexer": "ipython3",
   "version": "3.10.12"
  }
 },
 "nbformat": 4,
 "nbformat_minor": 5
}
