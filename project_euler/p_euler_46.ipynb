{
 "cells": [
  {
   "cell_type": "markdown",
   "id": "4994d400",
   "metadata": {},
   "source": [
    "## Project Euler Solution #46"
   ]
  },
  {
   "cell_type": "code",
   "execution_count": 2,
   "id": "5afc68a2",
   "metadata": {},
   "outputs": [],
   "source": [
    "import numpy as np\n",
    "from important_functions import is_prime, primes_up_to"
   ]
  },
  {
   "cell_type": "code",
   "execution_count": 20,
   "id": "4185cb0f",
   "metadata": {},
   "outputs": [
    {
     "name": "stdout",
     "output_type": "stream",
     "text": [
      "The smallest such number is 5777.\n"
     ]
    }
   ],
   "source": [
    "# brute force idea: run through odds, check composite, if so, get the primes up to there, one at a time subtract them off, divide by two, and see if it is a square.\n",
    "found = False\n",
    "curr = 1\n",
    "final = np.inf\n",
    "while not found:\n",
    "    curr += 2\n",
    "    cont = True\n",
    "    if not is_prime(curr):\n",
    "        primes = primes_up_to(curr)\n",
    "        # print(primes)\n",
    "        for p in primes:\n",
    "            num = (curr - p) / 2\n",
    "            # print(num)\n",
    "            if num % num**.5 == 0:\n",
    "                cont = False\n",
    "                break\n",
    "        if cont:\n",
    "            found = True\n",
    "            final = curr\n",
    "\n",
    "print(f\"The smallest such number is {final}.\")"
   ]
  }
 ],
 "metadata": {
  "kernelspec": {
   "display_name": "Python 3",
   "language": "python",
   "name": "python3"
  },
  "language_info": {
   "codemirror_mode": {
    "name": "ipython",
    "version": 3
   },
   "file_extension": ".py",
   "mimetype": "text/x-python",
   "name": "python",
   "nbconvert_exporter": "python",
   "pygments_lexer": "ipython3",
   "version": "3.10.12"
  }
 },
 "nbformat": 4,
 "nbformat_minor": 5
}
