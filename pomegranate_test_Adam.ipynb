{
 "cells": [
  {
   "cell_type": "code",
   "execution_count": 68,
   "metadata": {},
   "outputs": [],
   "source": [
    "from abc_utils import *\n",
    "import pandas as pd\n",
    "from hmmlearn import hmm\n",
    "import numpy as np\n",
    "from sklearn.metrics import accuracy_score"
   ]
  },
  {
   "cell_type": "code",
   "execution_count": 98,
   "metadata": {},
   "outputs": [],
   "source": [
    "train_set, train_lengths, val_set, _ = load_datasets()"
   ]
  },
  {
   "cell_type": "code",
   "execution_count": 113,
   "metadata": {},
   "outputs": [],
   "source": [
    "def load_song(index):\n",
    "    start_pos = train_lengths.iloc[:index].sum().item()\n",
    "    return train_set.iloc[start_pos : start_pos + train_lengths.iloc[index].item()]"
   ]
  },
  {
   "cell_type": "code",
   "execution_count": 121,
   "metadata": {},
   "outputs": [],
   "source": [
    "def load_songs(indices):\n",
    "    end_positions = np.cumsum(train_lengths)\n",
    "    positions = np.insert(end_positions, 0, np.array([0]))\n",
    "    songs = []\n",
    "    for i in indices:\n",
    "        song = train_set.iloc[positions[i] : positions[i+1]]\n",
    "        songs.append(song)\n",
    "    # return songs and lengths\n",
    "    return pd.concat(songs), train_lengths.iloc[indices, :].values.flatten()\n",
    "\n",
    "song_indices = list(range(100))\n",
    "songs, song_lengths = load_songs(song_indices)"
   ]
  },
  {
   "cell_type": "code",
   "execution_count": 122,
   "metadata": {},
   "outputs": [
    {
     "name": "stderr",
     "output_type": "stream",
     "text": [
      "Processing states: 100%|██████████| 9052/9052 [00:00<00:00, 41269.29it/s]\n"
     ]
    }
   ],
   "source": [
    "# define global variables for number of chords and number of songs\n",
    "NUM_CHORDS = 2\n",
    "NUM_NOTES = 2\n",
    "true_states, true_observations = dataframe_to_states(\n",
    "    songs, \n",
    "    NUM_CHORDS, \n",
    "    NUM_NOTES\n",
    ")"
   ]
  },
  {
   "cell_type": "code",
   "execution_count": 123,
   "metadata": {},
   "outputs": [],
   "source": [
    "transition_matrix, emission_probs, unique_states, unique_obs, states_to_index, observation_to_index = states_to_transition(true_states, true_observations)"
   ]
  },
  {
   "cell_type": "code",
   "execution_count": 124,
   "metadata": {},
   "outputs": [],
   "source": [
    "observation_indices = np.array([int(observation_to_index[(o,)]) for o in true_observations]) "
   ]
  },
  {
   "cell_type": "code",
   "execution_count": 125,
   "metadata": {},
   "outputs": [],
   "source": [
    "model = hmm.CategoricalHMM(\n",
    "    n_components=transition_matrix.shape[0],\n",
    "    init_params=''\n",
    ")"
   ]
  },
  {
   "cell_type": "code",
   "execution_count": 126,
   "metadata": {},
   "outputs": [
    {
     "name": "stdout",
     "output_type": "stream",
     "text": [
      "(3047, 3047) (3047, 39) (3047,)\n"
     ]
    }
   ],
   "source": [
    "model.transmat_ = transition_matrix.T\n",
    "model.emissionprob_ = emission_probs.T\n",
    "start_probs = np.ones(transition_matrix.shape[0]) / transition_matrix.shape[0]\n",
    "model.startprob_ = start_probs\n",
    "\n",
    "print(model.transmat_.shape, model.emissionprob_.shape, model.startprob_.shape)"
   ]
  },
  {
   "cell_type": "markdown",
   "metadata": {},
   "source": [
    "Other tools:\n",
    "- dynamax\n",
    "  - runs on JAX\n",
    "  - might have a more flexible structure\n",
    "  - "
   ]
  },
  {
   "cell_type": "code",
   "execution_count": null,
   "metadata": {},
   "outputs": [],
   "source": [
    "likelihood, pred_states = model.decode(observation_indices.reshape(-1, 1))\n",
    "pred_states\n",
    "\n",
    "# get the actual chords from unique_states\n",
    "states = unique_states[pred_states, :]\n",
    "states\n",
    "\n",
    "def chord_accuracy(full_pred: np.array, true_states: np.array, num_chords: int=NUM_CHORDS, num_notes: int=NUM_NOTES):\n",
    "    '''\n",
    "    Given the predicted matrix of states, compute the misclassification rate compared with the true_observations.\n",
    "    Could be edited in the future to also compute the accuracy of our predicted note sequence.\n",
    "    '''\n",
    "    # obtain the actual predicted chords \n",
    "    pred_chords = full_pred[:, num_chords-1]\n",
    "    true_chords = true_states[:len(pred_chords), num_chords-1]\n",
    "    # obtain the accuracy\n",
    "    acc = accuracy_score(true_chords, pred_chords)\n",
    "\n",
    "    return acc\n",
    "\n",
    "print(chord_accuracy(states, true_states))"
   ]
  },
  {
   "cell_type": "code",
   "execution_count": null,
   "metadata": {},
   "outputs": [
    {
     "name": "stderr",
     "output_type": "stream",
     "text": [
      "Processing states: 100%|██████████| 115/115 [00:00<00:00, 31284.53it/s]\n"
     ]
    },
    {
     "data": {
      "text/plain": [
       "0.008695652173913044"
      ]
     },
     "execution_count": 112,
     "metadata": {},
     "output_type": "execute_result"
    }
   ],
   "source": [
    "songs, song_lengths = load_songs([18])\n",
    "true_states, true_observations = dataframe_to_states(\n",
    "    songs, \n",
    "    NUM_CHORDS, \n",
    "    NUM_NOTES\n",
    ")\n",
    "observation_indices = np.array([int(observation_to_index[(o,)]) for o in true_observations]) \n",
    "likelihood, pred_states = model.decode(observation_indices.reshape(-1, 1))\n",
    "states = unique_states[pred_states, :]\n",
    "chord_accuracy(states, true_states)"
   ]
  },
  {
   "cell_type": "code",
   "execution_count": null,
   "metadata": {},
   "outputs": [],
   "source": []
  }
 ],
 "metadata": {
  "kernelspec": {
   "display_name": "Python 3",
   "language": "python",
   "name": "python3"
  },
  "language_info": {
   "codemirror_mode": {
    "name": "ipython",
    "version": 3
   },
   "file_extension": ".py",
   "mimetype": "text/x-python",
   "name": "python",
   "nbconvert_exporter": "python",
   "pygments_lexer": "ipython3",
   "version": "3.10.12"
  }
 },
 "nbformat": 4,
 "nbformat_minor": 2
}
