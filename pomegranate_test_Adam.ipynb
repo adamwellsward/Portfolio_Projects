{
 "cells": [
  {
   "cell_type": "code",
   "execution_count": 3,
   "metadata": {},
   "outputs": [],
   "source": [
    "from abc_utils import *\n",
    "import pandas as pd\n",
    "from hmmlearn import hmm\n",
    "import numpy as np\n",
    "from sklearn.metrics import accuracy_score"
   ]
  },
  {
   "cell_type": "code",
   "execution_count": 40,
   "metadata": {},
   "outputs": [],
   "source": [
    "train_set, train_lengths, val_set, _ = load_datasets()"
   ]
  },
  {
   "cell_type": "code",
   "execution_count": null,
   "metadata": {},
   "outputs": [],
   "source": [
    "def load_song_subset(train_set, train_lengths, indices):\n",
    "    \"\"\"\n",
    "    Create a subset of the train\"\"\"\n",
    "    end_positions = np.cumsum(train_lengths)\n",
    "    positions = np.insert(end_positions, 0, np.array([0]))\n",
    "    songs = []\n",
    "    for i in indices:\n",
    "        song = train_set.iloc[positions[i] : positions[i+1]]\n",
    "        songs.append(song)\n",
    "    # return songs and lengths\n",
    "    return pd.concat(songs)\n",
    "\n",
    "total_songs = 10\n",
    "song_indices = list(range(total_songs))\n",
    "songs = load_song_subset(train_set, train_lengths, song_indices)"
   ]
  },
  {
   "cell_type": "code",
   "execution_count": 42,
   "metadata": {},
   "outputs": [],
   "source": [
    "def ffill_obs(melody_obs: np.ndarray, unique_obs: dict) -> np.ndarray:\n",
    "    # make a smaller array out of the unique observations\n",
    "    possible_obs = list(set(unique_obs.flatten()))\n",
    "\n",
    "    df_melody_obs = pd.Series(melody_obs)\n",
    "    df_melody_obs[~df_melody_obs.isin(possible_obs)] = np.nan\n",
    "\n",
    "    # fill forward first to fill all the holes\n",
    "    df_melody_obs.ffill(inplace=True)\n",
    "\n",
    "    # then fill backward to catch the case where\n",
    "    # the beginning is empty\n",
    "    df_melody_obs.bfill(inplace=True)\n",
    "\n",
    "    return df_melody_obs.values.flatten()"
   ]
  },
  {
   "cell_type": "code",
   "execution_count": 45,
   "metadata": {},
   "outputs": [],
   "source": [
    "def chord_accuracy(full_pred: np.array, true_states: np.array, num_chords: int=None, num_notes: int=None):\n",
    "    '''\n",
    "    Given the predicted matrix of states, compute the misclassification rate compared with the true_observations.\n",
    "    Could be edited in the future to also compute the accuracy of our predicted note sequence.\n",
    "    '''\n",
    "    # check to make sure these are specified correctly\n",
    "    if num_chords is None:\n",
    "        raise ValueError(\"num_chords must be specified\")\n",
    "    if num_notes is None:\n",
    "        raise ValueError(\"num_notes must be specified\")\n",
    "    \n",
    "    # obtain the actual predicted chords \n",
    "    pred_chords = full_pred[:, num_chords-1]\n",
    "    true_chords = true_states[:len(pred_chords), num_chords-1]\n",
    "\n",
    "    # obtain the accuracy\n",
    "    chord_acc = accuracy_score(true_chords, pred_chords)\n",
    "\n",
    "    # # obtain the actual predicted notes from the state\n",
    "    # if num_notes != 0: \n",
    "    #     pred_notes = full_pred[:, -1]\n",
    "    #     true_notes = true_states[:len(pred_notes), -1]\n",
    "\n",
    "    #     # obtain the accuracy\n",
    "    #     note_acc = accuracy_score(true_notes, pred_notes)\n",
    "    # else:\n",
    "    #     note_acc = None\n",
    "    return chord_acc"
   ]
  },
  {
   "cell_type": "code",
   "execution_count": null,
   "metadata": {},
   "outputs": [],
   "source": [
    "def fit_model(train_set: pd.DataFrame, train_lengths: pd.Series, num_chords: int=1, num_notes: int=0, subset: bool=False, indices=None):\n",
    "    \"\"\" \n",
    "    Takes in the train set and parameters for the state space and returns the trained model, along with all of the dictionaries needed to decode the model as a tuple.\n",
    "\n",
    "    To train on a smaller subset of the full train set, use the subset argument and pass in the indices needed. Uses the load_song_subset function.\n",
    "    \"\"\"\n",
    "    # check if we want to do a subset of the full train set; if so, perform it\n",
    "    if subset:\n",
    "        # check that indices are specified; raise and error if not\n",
    "        if indices is None:\n",
    "            raise ValueError(\"Indices must be specified if subset=True\")\n",
    "        train_set = load_song_subset(train_set, train_lengths, indices)\n",
    "\n",
    "    # obtain the states and observations from the songs\n",
    "    true_states, true_observations = dataframe_to_states(train_set, num_chords, num_notes)\n",
    "\n",
    "    # create the transition matrices for the model\n",
    "    transition_matrix, emission_probs, unique_states, unique_obs, states_to_index, observation_to_index = states_to_transition(true_states, true_observations)\n",
    "\n",
    "    # now initialize the model and set the matrices for it\n",
    "    model = hmm.CategoricalHMM(n_components=transition_matrix.shape[0], init_params='')\n",
    "    model.transmat_ = transition_matrix.T\n",
    "    model.emissionprob_ = emission_probs.T\n",
    "    start_probs = np.ones(transition_matrix.shape[0]) / transition_matrix.shape[0]      # use a uniform distribution on the states for the initial probabilities\n",
    "    model.startprob_ = start_probs\n",
    "\n",
    "    # return the model,  the dictionaries\n",
    "    return model, (unique_states, unique_obs, states_to_index, observation_to_index)"
   ]
  },
  {
   "cell_type": "code",
   "execution_count": 95,
   "metadata": {},
   "outputs": [],
   "source": [
    "def predict_states(model: hmm.CategoricalHMM, all_dicts: tuple, observation: np.ndarray):\n",
    "    \"\"\"\n",
    "    Uses the model to decode an observation. The all_dicts tuple should contain the model dictionaries returned from fit_model\n",
    "    Returns the predicted states.\n",
    "    \"\"\"\n",
    "    # unpack the tuple to get what we need\n",
    "    unique_states, unique_obs, _, observation_to_index = all_dicts\n",
    "\n",
    "    # perform a forward fill on the observation in case there are any values in it that we have never seen before\n",
    "    print(accuracy_score(observation, ffill_obs(observation, unique_obs)))\n",
    "    \n",
    "    observation = ffill_obs(observation, unique_obs)\n",
    "    # get the indices of the observation\n",
    "    observation_indices = np.array([int(observation_to_index[(o,)]) for o in observation])\n",
    "\n",
    "    # get the predicted state indices\n",
    "    _, pred_indices = model.decode(observation_indices.reshape(-1, 1))\n",
    "\n",
    "    # use the unique_states dictionary to take the indices to the actual states\n",
    "    pred_states = unique_states[pred_indices, :]\n",
    "\n",
    "    # return the predicted states\n",
    "    return pred_states"
   ]
  },
  {
   "cell_type": "code",
   "execution_count": null,
   "metadata": {},
   "outputs": [
    {
     "name": "stderr",
     "output_type": "stream",
     "text": [
      "Processing states: 100%|██████████| 11229/11229 [00:00<00:00, 45433.78it/s]"
     ]
    },
    {
     "name": "stdout",
     "output_type": "stream",
     "text": [
      "[ 0  1  2  3  4  5  6  7  8  9 10 11 12 13 14 15 16 16 18 19 20]\n",
      "[ 0  1  2  3  4  5  6  7  8  9 10 11 12 13 14 15 16  6 18 19  5]\n"
     ]
    },
    {
     "name": "stderr",
     "output_type": "stream",
     "text": [
      "\n"
     ]
    }
   ],
   "source": [
    "# fit the model\n",
    "num_chords = 1\n",
    "num_notes = 0\n",
    "total_songs = 100\n",
    "song_indices = list(np.arange(total_songs, dtype=int) + 10000)\n",
    "model, all_dicts = fit_model(train_set, train_lengths, num_chords, num_notes, subset=True, indices=song_indices)\n",
    "\n",
    "trans_mat = model.transmat_\n",
    "\n",
    "print(np.argmax(trans_mat, axis=0))\n",
    "print(np.argmax(trans_mat, axis=1))\n",
    "\n",
    "# # get a different song observation and the true states\n",
    "# new_song = load_song_subset(train_set, train_lengths, [len(train_lengths)-1])\n",
    "# true_states, new_song_obs = dataframe_to_states(new_song, num_chords, num_notes)\n",
    "\n",
    "# # get the predicted states\n",
    "# pred_states = predict_states(model, all_dicts, new_song_obs)\n",
    "# print(pred_states, true_states)\n",
    "\n",
    "# # get the accuracy\n",
    "# accuracy = chord_accuracy(pred_states, true_states, num_chords, num_notes)\n",
    "# accuracy"
   ]
  },
  {
   "cell_type": "markdown",
   "metadata": {},
   "source": [
    "Other tools:\n",
    "- dynamax\n",
    "  - runs on JAX\n",
    "  - might have a more flexible structure\n",
    "  - "
   ]
  },
  {
   "cell_type": "code",
   "execution_count": 18,
   "metadata": {},
   "outputs": [
    {
     "name": "stdout",
     "output_type": "stream",
     "text": [
      "(0.9931506849315068, 0.9726027397260274)\n"
     ]
    }
   ],
   "source": [
    "num_songs = 5\n",
    "likelihood, pred_states = model.decode(observation_indices.reshape(-1, 1)[:np.sum(song_lengths[:num_songs])])\n",
    "\n",
    "# get the actual chords from unique_states\n",
    "states = unique_states[pred_states, :]\n",
    "\n",
    "def chord_accuracy(full_pred: np.array, true_states: np.array, num_chords: int=NUM_CHORDS, num_notes: int=NUM_NOTES):\n",
    "    '''\n",
    "    Given the predicted matrix of states, compute the misclassification rate compared with the true_observations.\n",
    "    Could be edited in the future to also compute the accuracy of our predicted note sequence.\n",
    "    '''\n",
    "    # obtain the actual predicted chords \n",
    "    pred_chords = full_pred[:, num_chords-1]\n",
    "    true_chords = true_states[:len(pred_chords), num_chords-1]\n",
    "\n",
    "    # obtain the accuracy\n",
    "    chord_acc = accuracy_score(true_chords, pred_chords)\n",
    "\n",
    "    # obtain the actual predicted notes from the state\n",
    "    if num_notes != 0: \n",
    "        pred_notes = full_pred[:, -1]\n",
    "        true_notes = true_states[:len(pred_notes), -1]\n",
    "\n",
    "        # obtain the accuracy\n",
    "        note_acc = accuracy_score(true_notes, pred_notes)\n",
    "    else:\n",
    "        note_acc = None\n",
    "    return chord_acc, note_acc\n",
    "\n",
    "print(chord_accuracy(states, true_states))"
   ]
  }
 ],
 "metadata": {
  "kernelspec": {
   "display_name": "Python 3",
   "language": "python",
   "name": "python3"
  },
  "language_info": {
   "codemirror_mode": {
    "name": "ipython",
    "version": 3
   },
   "file_extension": ".py",
   "mimetype": "text/x-python",
   "name": "python",
   "nbconvert_exporter": "python",
   "pygments_lexer": "ipython3",
   "version": "3.10.12"
  }
 },
 "nbformat": 4,
 "nbformat_minor": 2
}
