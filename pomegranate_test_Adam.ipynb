{
 "cells": [
  {
   "cell_type": "code",
   "execution_count": 1,
   "metadata": {},
   "outputs": [],
   "source": [
    "from abc_utils import *\n",
    "import pandas as pd\n",
    "from hmmlearn import hmm\n",
    "import numpy as np\n",
    "from sklearn.metrics import accuracy_score"
   ]
  },
  {
   "cell_type": "code",
   "execution_count": 2,
   "metadata": {},
   "outputs": [],
   "source": [
    "train_set, train_lengths, val_set, _ = load_datasets()"
   ]
  },
  {
   "cell_type": "code",
   "execution_count": 3,
   "metadata": {},
   "outputs": [],
   "source": [
    "def load_song(index):\n",
    "    start_pos = train_lengths.iloc[:index].sum().item()\n",
    "    return train_set.iloc[start_pos : start_pos + train_lengths.iloc[index].item()]"
   ]
  },
  {
   "cell_type": "code",
   "execution_count": 12,
   "metadata": {},
   "outputs": [],
   "source": [
    "def load_songs(indices):\n",
    "    end_positions = np.cumsum(train_lengths)\n",
    "    positions = np.insert(end_positions, 0, np.array([0]))\n",
    "    songs = []\n",
    "    for i in indices:\n",
    "        song = train_set.iloc[positions[i] : positions[i+1]]\n",
    "        songs.append(song)\n",
    "    # return songs and lengths\n",
    "    return pd.concat(songs), train_lengths.iloc[indices, :].values.flatten()\n",
    "\n",
    "total_songs = 100\n",
    "song_indices = list(range(total_songs))\n",
    "songs, song_lengths = load_songs(song_indices)"
   ]
  },
  {
   "cell_type": "code",
   "execution_count": 13,
   "metadata": {},
   "outputs": [
    {
     "name": "stderr",
     "output_type": "stream",
     "text": [
      "Processing states: 100%|██████████| 9052/9052 [00:00<00:00, 16562.60it/s]\n"
     ]
    }
   ],
   "source": [
    "# define global variables for number of chords and number of songs\n",
    "NUM_CHORDS = 2\n",
    "NUM_NOTES = 2\n",
    "true_states, true_observations = dataframe_to_states(\n",
    "    songs, \n",
    "    NUM_CHORDS, \n",
    "    NUM_NOTES\n",
    ")"
   ]
  },
  {
   "cell_type": "code",
   "execution_count": 14,
   "metadata": {},
   "outputs": [],
   "source": [
    "transition_matrix, emission_probs, unique_states, unique_obs, states_to_index, observation_to_index = states_to_transition(true_states, true_observations)"
   ]
  },
  {
   "cell_type": "code",
   "execution_count": 15,
   "metadata": {},
   "outputs": [],
   "source": [
    "observation_indices = np.array([int(observation_to_index[(o,)]) for o in true_observations]) "
   ]
  },
  {
   "cell_type": "code",
   "execution_count": 16,
   "metadata": {},
   "outputs": [],
   "source": [
    "model = hmm.CategoricalHMM(\n",
    "    n_components=transition_matrix.shape[0],\n",
    "    init_params=''\n",
    ")"
   ]
  },
  {
   "cell_type": "code",
   "execution_count": 17,
   "metadata": {},
   "outputs": [
    {
     "name": "stdout",
     "output_type": "stream",
     "text": [
      "(3047, 3047) (3047, 39) (3047,)\n"
     ]
    }
   ],
   "source": [
    "model.transmat_ = transition_matrix.T\n",
    "model.emissionprob_ = emission_probs.T\n",
    "start_probs = np.ones(transition_matrix.shape[0]) / transition_matrix.shape[0]\n",
    "model.startprob_ = start_probs\n",
    "\n",
    "print(model.transmat_.shape, model.emissionprob_.shape, model.startprob_.shape)"
   ]
  },
  {
   "cell_type": "markdown",
   "metadata": {},
   "source": [
    "Other tools:\n",
    "- dynamax\n",
    "  - runs on JAX\n",
    "  - might have a more flexible structure\n",
    "  - "
   ]
  },
  {
   "cell_type": "code",
   "execution_count": 18,
   "metadata": {},
   "outputs": [
    {
     "name": "stdout",
     "output_type": "stream",
     "text": [
      "0.7676348547717843\n"
     ]
    }
   ],
   "source": [
    "num_songs = 3\n",
    "likelihood, pred_states = model.decode(observation_indices.reshape(-1, 1)[:np.sum(song_lengths[:num_songs])])\n",
    "pred_states\n",
    "\n",
    "# get the actual chords from unique_states\n",
    "states = unique_states[pred_states, :]\n",
    "states\n",
    "\n",
    "def chord_accuracy(full_pred: np.array, true_states: np.array, num_chords: int=NUM_CHORDS, num_notes: int=NUM_NOTES):\n",
    "    '''\n",
    "    Given the predicted matrix of states, compute the misclassification rate compared with the true_observations.\n",
    "    Could be edited in the future to also compute the accuracy of our predicted note sequence.\n",
    "    '''\n",
    "    # obtain the actual predicted chords \n",
    "    pred_chords = full_pred[:, num_chords-1]\n",
    "    true_chords = true_states[:len(pred_chords), num_chords-1]\n",
    "    # obtain the accuracy\n",
    "    acc = accuracy_score(true_chords, pred_chords)\n",
    "\n",
    "    return acc\n",
    "\n",
    "print(chord_accuracy(states, true_states))"
   ]
  },
  {
   "cell_type": "code",
   "execution_count": 21,
   "metadata": {},
   "outputs": [
    {
     "name": "stderr",
     "output_type": "stream",
     "text": [
      "Processing states: 100%|██████████| 57/57 [00:00<00:00, 9367.42it/s]"
     ]
    },
    {
     "name": "stderr",
     "output_type": "stream",
     "text": [
      "\n"
     ]
    },
    {
     "name": "stdout",
     "output_type": "stream",
     "text": [
      "[[ 0  0  0  0  3  3 70 72]\n",
      " [ 0  1  0 70  3  3 72 73]\n",
      " [ 1  1 70 75  3  1 73 75]\n",
      " [ 1  1 75 77  1  3 75 77]\n",
      " [ 1  1 77 75  3  8 77 75]\n",
      " [ 1  1 75 72  8  8 75 74]\n",
      " [ 1  1 72 70  8  8 74 76]\n",
      " [ 1  1 70 79  8  8 76 77]\n",
      " [ 1  1 79 79  8  8 77 79]\n",
      " [ 1  1 79 77  8  8 79 80]\n",
      " [ 1  6 77 79  8  8 80 82]\n",
      " [ 6  6 79 80  8  8 82 82]\n",
      " [ 6  6 80 80  8  1 82 80]\n",
      " [ 6  6 80 79  1  1 80 79]\n",
      " [ 6  1 79 80  1  1 79 82]\n",
      " [ 1  1 80 82  1  1 82 80]\n",
      " [ 1  1 82 79  1  1 80 79]\n",
      " [ 1  8 79 82  1  8 79 75]\n",
      " [ 8  8 82 80  8  8 75 80]\n",
      " [ 8  8 80 77  8  8 80 77]\n",
      " [ 8  8 77 74  8  8 77 74]\n",
      " [ 8  8 74 70  8  1 74 77]\n",
      " [ 8  8 70 79  1  1 77 75]\n",
      " [ 8  1 79 77  1  1 75 75]\n",
      " [ 1  1 77 75  1  1 75 74]\n",
      " [ 1  1 75 75  1  1 74 75]\n",
      " [ 1  1 75 75  1  1 75 77]\n",
      " [ 1  1 75 75  1  8 77 75]\n",
      " [ 1  1 75 74  8  8 75 74]\n",
      " [ 1  8 74 75  8  8 74 70]\n",
      " [ 8  8 75 77  8  8 70 74]\n",
      " [ 8  8 77 77  8  8 74 77]\n",
      " [ 8  8 77 77  8  8 77 70]\n",
      " [ 8  8 77 74  8  8 70 74]\n",
      " [ 8  8 74 70  8  8 74 77]\n",
      " [ 8  1 70 70  8  8 77 74]\n",
      " [ 1  1 70 70  8  8 74 76]\n",
      " [ 1  1 70 79  8  1 76 78]\n",
      " [ 1  1 79 79  1  1 78 79]\n",
      " [ 1  1 79 79  1  1 79 79]\n",
      " [ 1  1 79 77  1  1 79 77]\n",
      " [ 1  6 77 79  1  6 77 79]\n",
      " [ 6  6 79 80  6  6 79 80]\n",
      " [ 6  6 80 80  6  6 80 80]\n",
      " [ 6  6 80 79  6  6 80 79]\n",
      " [ 6  1 79 80  6  1 79 80]\n",
      " [ 1  1 80 82  1  1 80 82]\n",
      " [ 1  1 82 82  1  1 82 79]\n",
      " [ 1  1 82 79  1  6 79 75]\n",
      " [ 1  6 79 75  6  6 75 75]\n",
      " [ 6  6 75 74  6  6 75 74]\n",
      " [ 6  6 74 72  6  1 74 70]\n",
      " [ 6  6 72 72  1  1 70 72]\n",
      " [ 6  1 72 72  1  1 72 70]\n",
      " [ 1  1 72 70  1  1 70 75]\n",
      " [ 1  8 70 79  1  1 75 79]\n",
      " [ 8  8 79 79  1  8 79 75]]\n"
     ]
    },
    {
     "data": {
      "text/plain": [
       "0.5964912280701754"
      ]
     },
     "execution_count": 21,
     "metadata": {},
     "output_type": "execute_result"
    }
   ],
   "source": [
    "songs, song_lengths = load_songs([total_songs + 1])\n",
    "true_states, true_observations = dataframe_to_states(\n",
    "    songs, \n",
    "    NUM_CHORDS, \n",
    "    NUM_NOTES\n",
    ")\n",
    "observation_indices = np.array([int(observation_to_index[(o,)]) for o in true_observations]) \n",
    "likelihood, pred_states = model.decode(observation_indices.reshape(-1, 1))\n",
    "states = unique_states[pred_states, :]\n",
    "print(np.hstack((true_states, states)))\n",
    "chord_accuracy(states, true_states)"
   ]
  },
  {
   "cell_type": "code",
   "execution_count": null,
   "metadata": {},
   "outputs": [],
   "source": []
  }
 ],
 "metadata": {
  "kernelspec": {
   "display_name": "Python 3",
   "language": "python",
   "name": "python3"
  },
  "language_info": {
   "codemirror_mode": {
    "name": "ipython",
    "version": 3
   },
   "file_extension": ".py",
   "mimetype": "text/x-python",
   "name": "python",
   "nbconvert_exporter": "python",
   "pygments_lexer": "ipython3",
   "version": "3.10.12"
  }
 },
 "nbformat": 4,
 "nbformat_minor": 2
}
