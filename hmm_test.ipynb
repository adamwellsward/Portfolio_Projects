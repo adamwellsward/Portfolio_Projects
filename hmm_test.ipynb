{
 "cells": [
  {
   "cell_type": "code",
   "execution_count": 32,
   "metadata": {},
   "outputs": [],
   "source": [
    "from hmmlearn import hmm\n",
    "from abc_utils import *\n",
    "import numpy as np\n",
    "from tqdm import tqdm\n",
    "RANDOM_STATE = 0"
   ]
  },
  {
   "cell_type": "code",
   "execution_count": 33,
   "metadata": {},
   "outputs": [],
   "source": [
    "train_set, _ = load_harmonization_train_test()"
   ]
  },
  {
   "cell_type": "code",
   "execution_count": 34,
   "metadata": {},
   "outputs": [],
   "source": [
    "abc_texts = [train_set.sample(1, random_state=RANDOM_STATE)['output'].item() for _ in range(1000)]"
   ]
  },
  {
   "cell_type": "code",
   "execution_count": 24,
   "metadata": {},
   "outputs": [],
   "source": [
    "# list_o_dfs = [abc_to_dataframe(abc_text) for abc_text in tqdm(abc_texts)]"
   ]
  },
  {
   "cell_type": "code",
   "execution_count": 35,
   "metadata": {},
   "outputs": [],
   "source": [
    "l_o_df = []\n",
    "l_o_df_lengths = []\n",
    "for abc_text in abc_texts:\n",
    "    df = abc_to_dataframe(abc_text)\n",
    "    lengths = len(df)\n",
    "    l_o_df.append(df)\n",
    "    l_o_df_lengths.append(lengths)"
   ]
  },
  {
   "cell_type": "code",
   "execution_count": 26,
   "metadata": {},
   "outputs": [
    {
     "name": "stdout",
     "output_type": "stream",
     "text": [
      "T:Train tune 521761\n",
      "X:521761\n",
      "E:8\n",
      "L:1/4\n",
      "Q:1/4=160\n",
      "M:4/4\n",
      "K:G\n",
      "D |\"G\" G G/B/ d B | g d B G |\"Am\" c A/B/ c (3B/c/B/ |\"D7\" A G F D |\"G\" G B/B/ d B | g d B G | \n",
      "\"Am\" A A/B/ c e/c/ |\"D7\" A F\"G\" G :: D |\"G\" G g/g/ g g/f/ |\"C\" e e/e/ e e/d/ |\"Am\" c a a a/g/ | \n",
      "\"D\" f d d e/f/ |\"Em\" g e\"A7\" e a/g/ |\"D\" f d\"G\" d g |\"A7\" e ^c\"D7\" A d/=c/ |\"G\" B G G :|\n"
     ]
    }
   ],
   "source": [
    "print(abc_text)"
   ]
  },
  {
   "cell_type": "code",
   "execution_count": 27,
   "metadata": {},
   "outputs": [
    {
     "data": {
      "text/html": [
       "<div>\n",
       "<style scoped>\n",
       "    .dataframe tbody tr th:only-of-type {\n",
       "        vertical-align: middle;\n",
       "    }\n",
       "\n",
       "    .dataframe tbody tr th {\n",
       "        vertical-align: top;\n",
       "    }\n",
       "\n",
       "    .dataframe thead th {\n",
       "        text-align: right;\n",
       "    }\n",
       "</style>\n",
       "<table border=\"1\" class=\"dataframe\">\n",
       "  <thead>\n",
       "    <tr style=\"text-align: right;\">\n",
       "      <th></th>\n",
       "      <th>measure</th>\n",
       "      <th>beat</th>\n",
       "      <th>chord</th>\n",
       "      <th>melody</th>\n",
       "    </tr>\n",
       "  </thead>\n",
       "  <tbody>\n",
       "    <tr>\n",
       "      <th>0</th>\n",
       "      <td>0</td>\n",
       "      <td>4.0</td>\n",
       "      <td>0</td>\n",
       "      <td>70</td>\n",
       "    </tr>\n",
       "    <tr>\n",
       "      <th>1</th>\n",
       "      <td>1</td>\n",
       "      <td>1.0</td>\n",
       "      <td>1</td>\n",
       "      <td>75</td>\n",
       "    </tr>\n",
       "    <tr>\n",
       "      <th>2</th>\n",
       "      <td>1</td>\n",
       "      <td>2.0</td>\n",
       "      <td>1</td>\n",
       "      <td>75</td>\n",
       "    </tr>\n",
       "    <tr>\n",
       "      <th>3</th>\n",
       "      <td>1</td>\n",
       "      <td>2.5</td>\n",
       "      <td>1</td>\n",
       "      <td>79</td>\n",
       "    </tr>\n",
       "    <tr>\n",
       "      <th>4</th>\n",
       "      <td>1</td>\n",
       "      <td>3.0</td>\n",
       "      <td>1</td>\n",
       "      <td>82</td>\n",
       "    </tr>\n",
       "    <tr>\n",
       "      <th>...</th>\n",
       "      <td>...</td>\n",
       "      <td>...</td>\n",
       "      <td>...</td>\n",
       "      <td>...</td>\n",
       "    </tr>\n",
       "    <tr>\n",
       "      <th>73</th>\n",
       "      <td>16</td>\n",
       "      <td>3.0</td>\n",
       "      <td>8</td>\n",
       "      <td>77</td>\n",
       "    </tr>\n",
       "    <tr>\n",
       "      <th>74</th>\n",
       "      <td>16</td>\n",
       "      <td>4.0</td>\n",
       "      <td>8</td>\n",
       "      <td>82</td>\n",
       "    </tr>\n",
       "    <tr>\n",
       "      <th>75</th>\n",
       "      <td>16</td>\n",
       "      <td>4.5</td>\n",
       "      <td>8</td>\n",
       "      <td>80</td>\n",
       "    </tr>\n",
       "    <tr>\n",
       "      <th>76</th>\n",
       "      <td>17</td>\n",
       "      <td>1.0</td>\n",
       "      <td>1</td>\n",
       "      <td>79</td>\n",
       "    </tr>\n",
       "    <tr>\n",
       "      <th>77</th>\n",
       "      <td>17</td>\n",
       "      <td>2.0</td>\n",
       "      <td>1</td>\n",
       "      <td>75</td>\n",
       "    </tr>\n",
       "  </tbody>\n",
       "</table>\n",
       "<p>78 rows × 4 columns</p>\n",
       "</div>"
      ],
      "text/plain": [
       "    measure beat  chord  melody\n",
       "0         0  4.0      0      70\n",
       "1         1  1.0      1      75\n",
       "2         1  2.0      1      75\n",
       "3         1  2.5      1      79\n",
       "4         1  3.0      1      82\n",
       "..      ...  ...    ...     ...\n",
       "73       16  3.0      8      77\n",
       "74       16  4.0      8      82\n",
       "75       16  4.5      8      80\n",
       "76       17  1.0      1      79\n",
       "77       17  2.0      1      75\n",
       "\n",
       "[78 rows x 4 columns]"
      ]
     },
     "execution_count": 27,
     "metadata": {},
     "output_type": "execute_result"
    }
   ],
   "source": [
    "l_o_df[1]"
   ]
  },
  {
   "cell_type": "code",
   "execution_count": 28,
   "metadata": {},
   "outputs": [
    {
     "name": "stdout",
     "output_type": "stream",
     "text": [
      "melody\n",
      "79    12000\n",
      "82    10000\n",
      "87    10000\n",
      "84    10000\n",
      "75     9000\n",
      "80     7000\n",
      "77     6000\n",
      "86     4000\n",
      "89     4000\n",
      "70     3000\n",
      "74     2000\n",
      "81     1000\n",
      "Name: count, dtype: int64\n",
      "   measure beat  chord  melody\n",
      "0        0  4.0      0      70\n",
      "1        1  1.0      1      75\n",
      "2        1  2.0      1      75\n",
      "3        1  2.5      1      79\n",
      "4        1  3.0      1      82\n",
      "12 [70, 74, 75, 77, 79, 80, 81, 82, 84, 86, 87, 89]\n"
     ]
    }
   ],
   "source": [
    "music_df = pd.concat(l_o_df)\n",
    "music_df.replace('-', 0, inplace=True)\n",
    "print(music_df['melody'].value_counts())\n",
    "print(music_df.head())\n",
    "state_chords = music_df.chord.values\n",
    "obs_melody = music_df.melody.values\n",
    "symbols = sorted(list(set(obs_melody)))\n",
    "print(len(symbols), symbols)\n"
   ]
  },
  {
   "cell_type": "code",
   "execution_count": 29,
   "metadata": {},
   "outputs": [],
   "source": [
    "h = hmm.CategoricalHMM(n_components=5, n_iter=1000, tol=1e-6)\n",
    "h.fit(obs_melody.reshape(-1, 1), lengths=l_o_df_lengths)\n",
    "pi = h.startprob_\n",
    "A = h.transmat_.T\n",
    "B = h.emissionprob_.T"
   ]
  },
  {
   "cell_type": "code",
   "execution_count": 30,
   "metadata": {},
   "outputs": [
    {
     "data": {
      "text/plain": [
       "(90, 5)"
      ]
     },
     "execution_count": 30,
     "metadata": {},
     "output_type": "execute_result"
    }
   ],
   "source": [
    "B.shape"
   ]
  },
  {
   "cell_type": "code",
   "execution_count": 31,
   "metadata": {},
   "outputs": [
    {
     "name": "stdout",
     "output_type": "stream",
     "text": [
      "70, 0.0000, 0.0000, 0.0000, 0.0000, 0.0000\n",
      "74, 0.0000, 0.0000, 0.0000, 0.0000, 0.0000\n",
      "75, 0.0000, 0.0000, 0.0000, 0.0000, 0.0000\n",
      "77, 0.0000, 0.0000, 0.0000, 0.0000, 0.0000\n",
      "79, 0.0000, 0.0000, 0.0000, 0.0000, 0.0000\n",
      "80, 0.0000, 0.0000, 0.0000, 0.0000, 0.0000\n",
      "81, 0.0000, 0.0000, 0.0000, 0.0000, 0.0000\n",
      "82, 0.0000, 0.0000, 0.0000, 0.0000, 0.0000\n",
      "84, 0.0000, 0.0000, 0.0000, 0.0000, 0.0000\n",
      "86, 0.0000, 0.0000, 0.0000, 0.0000, 0.0000\n",
      "87, 0.0000, 0.0000, 0.0000, 0.0000, 0.0000\n",
      "89, 0.0000, 0.0000, 0.0000, 0.0000, 0.0000\n"
     ]
    },
    {
     "ename": "IndexError",
     "evalue": "list index out of range",
     "output_type": "error",
     "traceback": [
      "\u001b[0;31m---------------------------------------------------------------------------\u001b[0m",
      "\u001b[0;31mIndexError\u001b[0m                                Traceback (most recent call last)",
      "Cell \u001b[0;32mIn[31], line 2\u001b[0m\n\u001b[1;32m      1\u001b[0m \u001b[38;5;28;01mfor\u001b[39;00m i \u001b[38;5;129;01min\u001b[39;00m \u001b[38;5;28mrange\u001b[39m(\u001b[38;5;28mlen\u001b[39m(B)):\n\u001b[0;32m----> 2\u001b[0m     \u001b[38;5;28mprint\u001b[39m(\u001b[38;5;124mu\u001b[39m\u001b[38;5;124m\"\u001b[39m\u001b[38;5;132;01m{}\u001b[39;00m\u001b[38;5;124m, \u001b[39m\u001b[38;5;132;01m{:0.4f}\u001b[39;00m\u001b[38;5;124m, \u001b[39m\u001b[38;5;132;01m{:0.4f}\u001b[39;00m\u001b[38;5;124m, \u001b[39m\u001b[38;5;132;01m{:0.4f}\u001b[39;00m\u001b[38;5;124m, \u001b[39m\u001b[38;5;132;01m{:0.4f}\u001b[39;00m\u001b[38;5;124m, \u001b[39m\u001b[38;5;132;01m{:0.4f}\u001b[39;00m\u001b[38;5;124m\"\u001b[39m\u001b[38;5;241m.\u001b[39mformat(\u001b[43msymbols\u001b[49m\u001b[43m[\u001b[49m\u001b[43mi\u001b[49m\u001b[43m]\u001b[49m, \u001b[38;5;241m*\u001b[39mB[i,:]))\n",
      "\u001b[0;31mIndexError\u001b[0m: list index out of range"
     ]
    }
   ],
   "source": [
    "for i in range(len(B)):\n",
    "    print(u\"{}, {:0.4f}, {:0.4f}, {:0.4f}, {:0.4f}, {:0.4f}\".format(symbols[i], *B[i,:]))"
   ]
  },
  {
   "cell_type": "code",
   "execution_count": 55,
   "metadata": {},
   "outputs": [
    {
     "data": {
      "text/plain": [
       "array([1., 1., 1., 1., 1.])"
      ]
     },
     "execution_count": 55,
     "metadata": {},
     "output_type": "execute_result"
    }
   ],
   "source": [
    "np.sum(h.emissionprob_.T, axis=0)"
   ]
  },
  {
   "cell_type": "code",
   "execution_count": null,
   "metadata": {},
   "outputs": [],
   "source": []
  }
 ],
 "metadata": {
  "kernelspec": {
   "display_name": "acme",
   "language": "python",
   "name": "acme"
  },
  "language_info": {
   "codemirror_mode": {
    "name": "ipython",
    "version": 3
   },
   "file_extension": ".py",
   "mimetype": "text/x-python",
   "name": "python",
   "nbconvert_exporter": "python",
   "pygments_lexer": "ipython3",
   "version": "3.10.16"
  }
 },
 "nbformat": 4,
 "nbformat_minor": 2
}
