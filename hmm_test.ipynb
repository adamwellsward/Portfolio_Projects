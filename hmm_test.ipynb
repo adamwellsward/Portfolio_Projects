{
 "cells": [
  {
   "cell_type": "code",
   "execution_count": 2,
   "metadata": {},
   "outputs": [],
   "source": [
    "from hmmlearn import hmm\n",
    "from abc_utils import *\n",
    "import numpy as np\n",
    "from tqdm import tqdm\n",
    "RANDOM_STATE = 42"
   ]
  },
  {
   "cell_type": "code",
   "execution_count": 3,
   "metadata": {},
   "outputs": [],
   "source": [
    "train_set, _ = load_harmonization_train_test()"
   ]
  },
  {
   "cell_type": "code",
   "execution_count": 20,
   "metadata": {},
   "outputs": [],
   "source": [
    "abc_texts = train_set.sample(2, random_state=RANDOM_STATE)['output']"
   ]
  },
  {
   "cell_type": "code",
   "execution_count": 21,
   "metadata": {},
   "outputs": [],
   "source": [
    "# list_o_dfs = [abc_to_dataframe(abc_text) for abc_text in tqdm(abc_texts)]"
   ]
  },
  {
   "cell_type": "code",
   "execution_count": 22,
   "metadata": {},
   "outputs": [
    {
     "name": "stderr",
     "output_type": "stream",
     "text": [
      "  0%|          | 0/2 [00:00<?, ?it/s]"
     ]
    },
    {
     "name": "stderr",
     "output_type": "stream",
     "text": [
      "100%|██████████| 2/2 [00:00<00:00,  4.10it/s]\n"
     ]
    }
   ],
   "source": [
    "l_o_df = []\n",
    "l_o_df_lengths = []\n",
    "for abc_text in tqdm(abc_texts):\n",
    "    try:\n",
    "        df = abc_to_dataframe(abc_text)\n",
    "    except Exception as e:\n",
    "        print(\"bugged out\", e)\n",
    "    lengths = len(df)\n",
    "    l_o_df.append(df)\n",
    "    l_o_df_lengths.append(lengths)"
   ]
  },
  {
   "cell_type": "code",
   "execution_count": 23,
   "metadata": {},
   "outputs": [
    {
     "name": "stdout",
     "output_type": "stream",
     "text": [
      "(236,)\n",
      "[ 0  1  5  6  8 10 15 22]\n"
     ]
    }
   ],
   "source": [
    "music_df = pd.concat(l_o_df)\n",
    "state_chords = music_df.chord.values\n",
    "obs_melody = music_df.melody.values\n",
    "symbols = sorted(list(set(obs_melody)))\n",
    "print(obs_melody.shape)\n",
    "print(np.unique(state_chords))"
   ]
  },
  {
   "cell_type": "code",
   "execution_count": 24,
   "metadata": {},
   "outputs": [
    {
     "name": "stderr",
     "output_type": "stream",
     "text": [
      "Fitting a model with 775 free scalar parameters with only 236 data points will result in a degenerate solution.\n"
     ]
    }
   ],
   "source": [
    "h = hmm.CategoricalHMM(n_components=len(np.unique(state_chords)), n_iter=1000, tol=1e-6)\n",
    "h.fit(obs_melody.reshape(-1, 1), lengths=l_o_df_lengths)\n",
    "pi = h.startprob_\n",
    "A = h.transmat_.T\n",
    "B = h.emissionprob_.T"
   ]
  },
  {
   "cell_type": "code",
   "execution_count": 27,
   "metadata": {},
   "outputs": [
    {
     "name": "stdout",
     "output_type": "stream",
     "text": [
      "Pred [ 5  5  5  1  6 15 10  0 22  8 22  8  0 22  8  6 15  6 15  6 15  6 15 10\n",
      "  0 22  8 22 22 10  0 22  8  6 15  6  1  6 15  6 15  6 15  6 15 10  0 22\n",
      "  0 22  8 22  8  6 15  6 15  6 15  6 15 10  0 22  8 22 22 10  5  5  5  5\n",
      "  1  6  1  5  5  5  5  1  6  1  5  5  5  1  6 15  6  1  5  5  1  6 15  6\n",
      "  1  5  5  5  1  6  1  5  5  5  5  1  6  1  5  5  5  1  6 15  6  1  5  1\n",
      "  6 15  6 15  6 15 10  0 22 22  8  6 15  6  1  5  1  6 15  6 15  6 15  6\n",
      " 15  6 15 10  0 22  8 22  8]\n",
      "Actu [0 1 1 1 1 1 1 1 6 6 6 6 6 6 6 1 1 8 8 8 8 1 1 1 1 8 8 8 8 1 1 1 1 1 1 1 1\n",
      " 1 1 1 1 1 1 1 1 6 6 6 6 6 6 6 6 1 1 8 8 8 8 1 1 1 1 8 8 8 8 1 1 1 1 1 1 1\n",
      " 1 1 1 1 1 1 1 1 1 8 8 8 8 8 8 8 8 8 8 8 8 8 8 1 1 1 1 1 1 1 1 1 1 1 1 1 1\n",
      " 8 8 8 8 8 8 8 1 1 8 8 8 8 1 1 1 1 8 8 8 8 8 8 8 1 1 1 1 1 1 8 8 8 8 1 1 1\n",
      " 1 8 8 8 8]\n"
     ]
    }
   ],
   "source": [
    "# try to predict the states from an observation\n",
    "test_melody = obs_melody[:l_o_df_lengths[0]]\n",
    "test_chords = state_chords[:l_o_df_lengths[0]]\n",
    "\n",
    "# do the prediction\n",
    "log_prob, pred = h.decode(test_melody.reshape(-1, 1))\n",
    "print(\"Pred\", np.unique(state_chords)[pred])\n",
    "print(\"Actu\", test_chords)"
   ]
  },
  {
   "cell_type": "code",
   "execution_count": 19,
   "metadata": {},
   "outputs": [
    {
     "name": "stdout",
     "output_type": "stream",
     "text": [
      "0, 0.0068, 0.0000, 0.0000, 0.0020, 0.0158\n",
      "59, 0.0000, 0.0000, 0.0000, 0.0000, 0.0000\n",
      "60, 0.0000, 0.0000, 0.0000, 0.0000, 0.0000\n",
      "61, 0.0000, 0.0000, 0.0000, 0.0000, 0.0000\n",
      "62, 0.0000, 0.0000, 0.0000, 0.0000, 0.0000\n",
      "63, 0.0000, 0.0000, 0.0000, 0.0000, 0.0000\n",
      "64, 0.0000, 0.0000, 0.0000, 0.0000, 0.0000\n",
      "65, 0.0000, 0.0000, 0.0000, 0.0000, 0.0000\n",
      "66, 0.0000, 0.0013, 0.0000, 0.0000, 0.0000\n",
      "67, 0.0000, 0.0000, 0.0000, 0.0128, 0.0000\n",
      "68, 0.0000, 0.0000, 0.0000, 0.0060, 0.0000\n",
      "69, 0.0000, 0.0000, 0.0000, 0.0022, 0.0000\n",
      "70, 0.0000, 0.0000, 0.0000, 0.1695, 0.0100\n",
      "71, 0.0000, 0.0000, 0.0000, 0.0000, 0.0000\n",
      "72, 0.0000, 0.0000, 0.0000, 0.0881, 0.0135\n",
      "73, 0.0000, 0.0000, 0.0000, 0.0144, 0.0000\n",
      "74, 0.0000, 0.0059, 0.0000, 0.3986, 0.0000\n",
      "75, 0.0000, 0.0000, 0.0000, 0.2918, 0.3693\n",
      "76, 0.0044, 0.0132, 0.0000, 0.0015, 0.0243\n",
      "77, 0.0000, 0.0000, 0.0000, 0.0000, 0.5186\n",
      "78, 0.0020, 0.0000, 0.0000, 0.0000, 0.0050\n",
      "79, 0.0313, 0.0940, 0.0000, 0.0131, 0.0000\n",
      "80, 0.0011, 0.0220, 0.0000, 0.0001, 0.0407\n",
      "81, 0.0265, 0.0000, 0.0000, 0.0000, 0.0000\n",
      "82, 0.0000, 0.2656, 0.1729, 0.0000, 0.0000\n",
      "83, 0.0353, 0.3261, 0.0131, 0.0000, 0.0000\n",
      "84, 0.0303, 0.1694, 0.0505, 0.0000, 0.0000\n",
      "85, 0.0307, 0.0000, 0.0619, 0.0000, 0.0000\n",
      "86, 0.2191, 0.1004, 0.4025, 0.0000, 0.0008\n",
      "87, 0.0234, 0.0000, 0.0747, 0.0000, 0.0019\n",
      "88, 0.1758, 0.0000, 0.0000, 0.0000, 0.0000\n",
      "89, 0.0592, 0.0021, 0.2031, 0.0000, 0.0000\n",
      "90, 0.1279, 0.0000, 0.0016, 0.0000, 0.0000\n",
      "91, 0.1533, 0.0000, 0.0121, 0.0000, 0.0000\n",
      "92, 0.0260, 0.0000, 0.0077, 0.0000, 0.0000\n",
      "93, 0.0389, 0.0000, 0.0000, 0.0000, 0.0000\n",
      "94, 0.0034, 0.0000, 0.0000, 0.0000, 0.0000\n",
      "95, 0.0046, 0.0000, 0.0000, 0.0000, 0.0000\n"
     ]
    }
   ],
   "source": [
    "for i in range(len(B)):\n",
    "    if i in symbols:\n",
    "        print(u\"{}, {:0.4f}, {:0.4f}, {:0.4f}, {:0.4f}, {:0.4f}\".format(i, *B[i,:]))"
   ]
  },
  {
   "cell_type": "code",
   "execution_count": null,
   "metadata": {},
   "outputs": [],
   "source": []
  }
 ],
 "metadata": {
  "kernelspec": {
   "display_name": "Python 3",
   "language": "python",
   "name": "python3"
  },
  "language_info": {
   "codemirror_mode": {
    "name": "ipython",
    "version": 3
   },
   "file_extension": ".py",
   "mimetype": "text/x-python",
   "name": "python",
   "nbconvert_exporter": "python",
   "pygments_lexer": "ipython3",
   "version": "3.10.12"
  }
 },
 "nbformat": 4,
 "nbformat_minor": 2
}
