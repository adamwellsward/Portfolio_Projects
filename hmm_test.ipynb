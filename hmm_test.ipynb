{
 "cells": [
  {
   "cell_type": "code",
   "execution_count": 1,
   "metadata": {},
   "outputs": [],
   "source": [
    "from hmmlearn import hmm\n",
    "from abc_utils import *\n",
    "import numpy as np\n",
    "from tqdm import tqdm\n",
    "RANDOM_STATE = 42"
   ]
  },
  {
   "cell_type": "code",
   "execution_count": 2,
   "metadata": {},
   "outputs": [],
   "source": [
    "train_set, _ = load_harmonization_train_test()"
   ]
  },
  {
   "cell_type": "code",
   "execution_count": 3,
   "metadata": {},
   "outputs": [],
   "source": [
    "abc_texts = train_set.sample(200, random_state=RANDOM_STATE)['output']"
   ]
  },
  {
   "cell_type": "code",
   "execution_count": 4,
   "metadata": {},
   "outputs": [],
   "source": [
    "# list_o_dfs = [abc_to_dataframe(abc_text) for abc_text in tqdm(abc_texts)]"
   ]
  },
  {
   "cell_type": "code",
   "execution_count": 5,
   "metadata": {},
   "outputs": [
    {
     "name": "stderr",
     "output_type": "stream",
     "text": [
      "  0%|          | 0/200 [00:00<?, ?it/s]"
     ]
    },
    {
     "name": "stderr",
     "output_type": "stream",
     "text": [
      " 68%|██████▊   | 136/200 [00:31<00:13,  4.67it/s]"
     ]
    },
    {
     "name": "stdout",
     "output_type": "stream",
     "text": [
      "bugged out Cannot make a step out of '^'\n"
     ]
    },
    {
     "name": "stderr",
     "output_type": "stream",
     "text": [
      " 76%|███████▌  | 152/200 [00:35<00:13,  3.69it/s]"
     ]
    },
    {
     "name": "stdout",
     "output_type": "stream",
     "text": [
      "bugged out Cannot make a step out of '^'\n"
     ]
    },
    {
     "name": "stderr",
     "output_type": "stream",
     "text": [
      " 78%|███████▊  | 156/200 [00:36<00:08,  5.37it/s]"
     ]
    },
    {
     "name": "stdout",
     "output_type": "stream",
     "text": [
      "bugged out 'Fr'\n"
     ]
    },
    {
     "name": "stderr",
     "output_type": "stream",
     "text": [
      " 98%|█████████▊| 197/200 [00:43<00:00,  6.79it/s]"
     ]
    },
    {
     "name": "stdout",
     "output_type": "stream",
     "text": [
      "bugged out '#vii'\n"
     ]
    },
    {
     "name": "stderr",
     "output_type": "stream",
     "text": [
      "100%|██████████| 200/200 [00:43<00:00,  4.55it/s]\n"
     ]
    }
   ],
   "source": [
    "l_o_df = []\n",
    "l_o_df_lengths = []\n",
    "for abc_text in tqdm(abc_texts):\n",
    "    try:\n",
    "        df = abc_to_dataframe(abc_text)\n",
    "    except Exception as e:\n",
    "        print(\"bugged out\", e)\n",
    "    lengths = len(df)\n",
    "    l_o_df.append(df)\n",
    "    l_o_df_lengths.append(lengths)"
   ]
  },
  {
   "cell_type": "code",
   "execution_count": null,
   "metadata": {},
   "outputs": [
    {
     "name": "stdout",
     "output_type": "stream",
     "text": [
      "melody\n",
      "79    1879\n",
      "77    1859\n",
      "72    1643\n",
      "82    1381\n",
      "75    1300\n",
      "81    1130\n",
      "74    1042\n",
      "84    1007\n",
      "80     991\n",
      "0      912\n",
      "76     817\n",
      "78     759\n",
      "70     744\n",
      "73     718\n",
      "86     619\n",
      "83     554\n",
      "87     451\n",
      "69     420\n",
      "68     403\n",
      "67     362\n",
      "65     345\n",
      "85     302\n",
      "71     284\n",
      "89     215\n",
      "91     176\n",
      "88     163\n",
      "90     124\n",
      "66     107\n",
      "64      89\n",
      "63      39\n",
      "93      35\n",
      "60      31\n",
      "92      31\n",
      "62      17\n",
      "61       8\n",
      "95       4\n",
      "94       3\n",
      "59       1\n",
      "Name: count, dtype: int64\n",
      "20965\n",
      "38 [0, 59, 60, 61, 62, 63, 64, 65, 66, 67, 68, 69, 70, 71, 72, 73, 74, 75, 76, 77, 78, 79, 80, 81, 82, 83, 84, 85, 86, 87, 88, 89, 90, 91, 92, 93, 94, 95]\n"
     ]
    }
   ],
   "source": [
    "music_df = pd.concat(l_o_df)\n",
    "# music_df.replace('-', 0, inplace=True)\n",
    "print(music_df['melody'].value_counts())\n",
    "print(music_df.__len__())\n",
    "state_chords = music_df.chord.values\n",
    "obs_melody = music_df.melody.values\n",
    "symbols = sorted(list(set(obs_melody)))\n",
    "print(len(symbols), symbols)\n"
   ]
  },
  {
   "cell_type": "code",
   "execution_count": 10,
   "metadata": {},
   "outputs": [],
   "source": [
    "h = hmm.CategoricalHMM(n_components=5, n_iter=1000, tol=1e-6)\n",
    "h.fit(obs_melody.reshape(-1, 1), lengths=l_o_df_lengths)\n",
    "pi = h.startprob_\n",
    "A = h.transmat_.T\n",
    "B = h.emissionprob_.T"
   ]
  },
  {
   "cell_type": "code",
   "execution_count": 11,
   "metadata": {},
   "outputs": [
    {
     "data": {
      "text/plain": [
       "(96, 5)"
      ]
     },
     "execution_count": 11,
     "metadata": {},
     "output_type": "execute_result"
    }
   ],
   "source": [
    "B.shape"
   ]
  },
  {
   "cell_type": "code",
   "execution_count": 13,
   "metadata": {},
   "outputs": [
    {
     "data": {
      "text/plain": [
       "array([1., 1., 1., 1., 1.])"
      ]
     },
     "execution_count": 13,
     "metadata": {},
     "output_type": "execute_result"
    }
   ],
   "source": [
    "np.sum(h.emissionprob_.T, axis=0)"
   ]
  },
  {
   "cell_type": "code",
   "execution_count": 16,
   "metadata": {},
   "outputs": [
    {
     "name": "stdout",
     "output_type": "stream",
     "text": [
      "0, 0.0101, 0.0013, 0.0191, 0.1688, 0.1936\n",
      "59, 0.0000, 0.0000, 0.0000, 0.0004, 0.0000\n",
      "60, 0.0000, 0.0000, 0.0000, 0.0003, 0.0168\n",
      "61, 0.0000, 0.0000, 0.0000, 0.0035, 0.0000\n",
      "62, 0.0000, 0.0000, 0.0000, 0.0075, 0.0000\n",
      "63, 0.0000, 0.0000, 0.0000, 0.0070, 0.0128\n",
      "64, 0.0000, 0.0000, 0.0000, 0.0154, 0.0299\n",
      "65, 0.0000, 0.0000, 0.0000, 0.1147, 0.0469\n",
      "66, 0.0000, 0.0000, 0.0001, 0.0161, 0.0386\n",
      "67, 0.0000, 0.0019, 0.0001, 0.0281, 0.1586\n",
      "68, 0.0000, 0.0000, 0.0002, 0.1429, 0.0426\n",
      "69, 0.0000, 0.0000, 0.0000, 0.1075, 0.0976\n",
      "70, 0.0000, 0.0464, 0.0000, 0.0615, 0.1782\n",
      "71, 0.0000, 0.0144, 0.0000, 0.0329, 0.0675\n",
      "72, 0.0000, 0.1468, 0.0049, 0.2623, 0.0648\n",
      "73, 0.0000, 0.1016, 0.0000, 0.0179, 0.0316\n",
      "74, 0.0005, 0.1591, 0.0032, 0.0051, 0.0199\n",
      "75, 0.0019, 0.1752, 0.0322, 0.0000, 0.0000\n",
      "76, 0.0032, 0.1079, 0.0198, 0.0037, 0.0000\n",
      "77, 0.0000, 0.1830, 0.1065, 0.0016, 0.0000\n",
      "78, 0.0024, 0.0350, 0.0773, 0.0000, 0.0000\n",
      "79, 0.0144, 0.0253, 0.2399, 0.0018, 0.0000\n",
      "80, 0.0122, 0.0017, 0.1346, 0.0000, 0.0000\n",
      "81, 0.0409, 0.0000, 0.1402, 0.0000, 0.0000\n",
      "82, 0.0881, 0.0000, 0.1500, 0.0000, 0.0006\n",
      "83, 0.1048, 0.0000, 0.0217, 0.0000, 0.0000\n",
      "84, 0.1740, 0.0000, 0.0486, 0.0000, 0.0000\n",
      "85, 0.0779, 0.0000, 0.0000, 0.0009, 0.0000\n",
      "86, 0.1580, 0.0000, 0.0016, 0.0000, 0.0000\n",
      "87, 0.1165, 0.0004, 0.0000, 0.0000, 0.0000\n",
      "88, 0.0424, 0.0000, 0.0000, 0.0000, 0.0000\n",
      "89, 0.0559, 0.0000, 0.0000, 0.0000, 0.0000\n",
      "90, 0.0322, 0.0000, 0.0000, 0.0000, 0.0000\n",
      "91, 0.0457, 0.0000, 0.0000, 0.0000, 0.0000\n",
      "92, 0.0081, 0.0000, 0.0000, 0.0000, 0.0000\n",
      "93, 0.0091, 0.0000, 0.0000, 0.0000, 0.0000\n",
      "94, 0.0008, 0.0000, 0.0000, 0.0000, 0.0000\n",
      "95, 0.0010, 0.0000, 0.0000, 0.0000, 0.0000\n"
     ]
    }
   ],
   "source": [
    "for i in range(len(B)):\n",
    "    if i in symbols:\n",
    "        print(u\"{}, {:0.4f}, {:0.4f}, {:0.4f}, {:0.4f}, {:0.4f}\".format(i, *B[i,:]))"
   ]
  }
 ],
 "metadata": {
  "kernelspec": {
   "display_name": "Python 3",
   "language": "python",
   "name": "python3"
  },
  "language_info": {
   "codemirror_mode": {
    "name": "ipython",
    "version": 3
   },
   "file_extension": ".py",
   "mimetype": "text/x-python",
   "name": "python",
   "nbconvert_exporter": "python",
   "pygments_lexer": "ipython3",
   "version": "3.10.12"
  }
 },
 "nbformat": 4,
 "nbformat_minor": 2
}
