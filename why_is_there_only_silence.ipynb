{
 "cells": [
  {
   "cell_type": "code",
   "execution_count": 1,
   "metadata": {},
   "outputs": [],
   "source": [
    "from abc_utils import *\n",
    "import pandas as pd"
   ]
  },
  {
   "cell_type": "markdown",
   "metadata": {},
   "source": [
    "*Do songs actually stay silent forever at the beginning of songs?*"
   ]
  },
  {
   "cell_type": "code",
   "execution_count": 24,
   "metadata": {},
   "outputs": [],
   "source": [
    "train_set, test_set = load_harmonization_train_test()"
   ]
  },
  {
   "cell_type": "code",
   "execution_count": 25,
   "metadata": {},
   "outputs": [],
   "source": [
    "example_songs = train_set.sample(5, random_state=42)['output']"
   ]
  },
  {
   "cell_type": "code",
   "execution_count": 26,
   "metadata": {},
   "outputs": [],
   "source": [
    "song_dfs = [abc_to_dataframe(song) for song in example_songs] "
   ]
  },
  {
   "cell_type": "code",
   "execution_count": 27,
   "metadata": {},
   "outputs": [
    {
     "name": "stderr",
     "output_type": "stream",
     "text": [
      "Processing states: 100%|██████████| 153/153 [00:00<00:00, 9370.63it/s]\n",
      "Processing states: 100%|██████████| 83/83 [00:00<00:00, 13690.17it/s]\n",
      "Processing states: 100%|██████████| 113/113 [00:00<00:00, 14864.09it/s]\n",
      "Processing states: 100%|██████████| 44/44 [00:00<00:00, 13254.05it/s]\n",
      "Processing states: 100%|██████████| 84/84 [00:00<00:00, 11686.79it/s]\n"
     ]
    }
   ],
   "source": [
    "song_states = [dataframe_to_states(song_df, 2, 2) for song_df in song_dfs]"
   ]
  },
  {
   "cell_type": "code",
   "execution_count": 28,
   "metadata": {},
   "outputs": [
    {
     "name": "stdout",
     "output_type": "stream",
     "text": [
      "[[ 0  0  0  0]\n",
      " [ 0  1  0 70]\n",
      " [ 1  1 70 75]]\n",
      "\n",
      "[[ 0  0  0  0]\n",
      " [ 0  0  0 77]\n",
      " [ 0  0 77 70]]\n",
      "\n",
      "[[ 0  0  0  0]\n",
      " [ 0  0  0 81]\n",
      " [ 0  1 81 82]]\n",
      "\n",
      "[[ 0 10  0  0]\n",
      " [10 15  0 70]\n",
      " [15 15 70 70]]\n",
      "\n",
      "[[ 0  1  0  0]\n",
      " [ 1  1  0 72]\n",
      " [ 1  1 72 74]]\n",
      "\n"
     ]
    }
   ],
   "source": [
    "for i in range(len(song_dfs)):\n",
    "    print(song_states[i][0][:3])\n",
    "    print()"
   ]
  },
  {
   "cell_type": "code",
   "execution_count": null,
   "metadata": {},
   "outputs": [],
   "source": []
  }
 ],
 "metadata": {
  "kernelspec": {
   "display_name": "py_harmonizer",
   "language": "python",
   "name": "python3"
  },
  "language_info": {
   "codemirror_mode": {
    "name": "ipython",
    "version": 3
   },
   "file_extension": ".py",
   "mimetype": "text/x-python",
   "name": "python",
   "nbconvert_exporter": "python",
   "pygments_lexer": "ipython3",
   "version": "3.11.2"
  }
 },
 "nbformat": 4,
 "nbformat_minor": 2
}
