{
 "cells": [
  {
   "cell_type": "code",
   "execution_count": 1,
   "metadata": {},
   "outputs": [],
   "source": [
    "from abc_utils import *\n",
    "import pandas as pd"
   ]
  },
  {
   "cell_type": "markdown",
   "metadata": {},
   "source": [
    "*Do songs actually stay silent forever at the beginning of songs?*"
   ]
  },
  {
   "cell_type": "code",
   "execution_count": 2,
   "metadata": {},
   "outputs": [],
   "source": [
    "train_set, test_set = load_harmonization_train_test()"
   ]
  },
  {
   "cell_type": "code",
   "execution_count": 3,
   "metadata": {},
   "outputs": [],
   "source": [
    "example_songs = train_set.sample(5, random_state=42)['output']"
   ]
  },
  {
   "cell_type": "code",
   "execution_count": 4,
   "metadata": {},
   "outputs": [],
   "source": [
    "song_dfs = [abc_to_dataframe(song) for song in example_songs] "
   ]
  },
  {
   "cell_type": "code",
   "execution_count": 5,
   "metadata": {},
   "outputs": [
    {
     "name": "stderr",
     "output_type": "stream",
     "text": [
      "Processing states: 100%|██████████| 153/153 [00:00<00:00, 16264.82it/s]\n",
      "Processing states: 100%|██████████| 83/83 [00:00<00:00, 15408.63it/s]\n",
      "Processing states: 100%|██████████| 113/113 [00:00<00:00, 20727.56it/s]\n",
      "Processing states: 100%|██████████| 44/44 [00:00<00:00, 16216.99it/s]\n",
      "Processing states: 100%|██████████| 84/84 [00:00<00:00, 19989.87it/s]\n"
     ]
    }
   ],
   "source": [
    "song_states = [dataframe_to_states(song_df, 2, 0) for song_df in song_dfs]"
   ]
  },
  {
   "cell_type": "code",
   "execution_count": 6,
   "metadata": {},
   "outputs": [
    {
     "name": "stdout",
     "output_type": "stream",
     "text": [
      "[[-1 -1]\n",
      " [-1  0]\n",
      " [ 0  1]]\n",
      "\n",
      "[[-1 -1]\n",
      " [-1  0]\n",
      " [ 0  0]]\n",
      "\n",
      "[[-1 -1]\n",
      " [-1  0]\n",
      " [ 0  0]]\n",
      "\n",
      "[[-1 -1]\n",
      " [-1 10]\n",
      " [10 15]]\n",
      "\n",
      "[[-1 -1]\n",
      " [-1  1]\n",
      " [ 1  1]]\n",
      "\n"
     ]
    }
   ],
   "source": [
    "for i in range(len(song_dfs)):\n",
    "    print(song_states[i][0][:3])\n",
    "    print()"
   ]
  },
  {
   "cell_type": "code",
   "execution_count": null,
   "metadata": {},
   "outputs": [],
   "source": []
  }
 ],
 "metadata": {
  "kernelspec": {
   "display_name": "py_harmonizer",
   "language": "python",
   "name": "python3"
  },
  "language_info": {
   "codemirror_mode": {
    "name": "ipython",
    "version": 3
   },
   "file_extension": ".py",
   "mimetype": "text/x-python",
   "name": "python",
   "nbconvert_exporter": "python",
   "pygments_lexer": "ipython3",
   "version": "3.11.2"
  }
 },
 "nbformat": 4,
 "nbformat_minor": 2
}
